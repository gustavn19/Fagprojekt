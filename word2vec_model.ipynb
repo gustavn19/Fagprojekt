{
 "cells": [
  {
   "cell_type": "code",
   "execution_count": 1,
   "metadata": {},
   "outputs": [
    {
     "name": "stdout",
     "output_type": "stream",
     "text": [
      "Index(['Record Id', 'Record URL', 'Document URL', 'Title', 'Original title',\n",
      "       'Date of original text', 'Last amended date', 'Available website',\n",
      "       'Language of document', 'Country/Territory', 'Regional organizations',\n",
      "       'Territorial subdivision', 'Type of text', 'Repealed', 'Abstract',\n",
      "       'Primary subjects', 'Domain', 'Keywords'],\n",
      "      dtype='object')\n"
     ]
    }
   ],
   "source": [
    "import pandas as pd\n",
    "data=pd.read_csv(\"FAOLEX_Agriculture.csv\")\n",
    "print(data.keys())"
   ]
  },
  {
   "cell_type": "code",
   "execution_count": 164,
   "metadata": {},
   "outputs": [],
   "source": [
    "import nltk\n",
    "keywords=list(data[\"Keywords\"])\n",
    "country=list(data[\"Country/Territory\"])\n",
    "i=0\n",
    "# Split alle keywords op i en liste og ændrer nan til at være en str med Nan\n",
    "for words in keywords:\n",
    "    if type(words)!=str:\n",
    "        #print(\"type= \",type(words),\" Index = \", i)\n",
    "        words=\"Nan\"\n",
    "    if type(country[i])!=str:\n",
    "        country[i]=\"NaN\"\n",
    "    keywords[i]=words.split(\";\")\n",
    "    i+=1\n",
    "\n"
   ]
  },
  {
   "cell_type": "code",
   "execution_count": 165,
   "metadata": {},
   "outputs": [],
   "source": [
    "i=0\n",
    "\n",
    "for words in keywords:\n",
    "    keywords[i]=words + [\" \"+country[i]]\n",
    "    i+=1"
   ]
  },
  {
   "cell_type": "code",
   "execution_count": 166,
   "metadata": {},
   "outputs": [
    {
     "name": "stdout",
     "output_type": "stream",
     "text": [
      "['agricultural commodities', ' international trade', ' certification', ' international trade', ' certification', ' international trade', ' certification', ' international trade', ' packaging/labelling', ' certification', ' international trade', ' certification', ' international trade', ' packaging/labelling', ' certification', ' pests/diseases', ' plant protection', ' Thailand']\n"
     ]
    }
   ],
   "source": [
    "print(keywords[13])"
   ]
  },
  {
   "cell_type": "code",
   "execution_count": 33,
   "metadata": {},
   "outputs": [],
   "source": [
    "from nltk.stem import SnowballStemmer\n",
    "from nltk.tokenize import word_tokenize\n",
    "import numpy as np\n",
    "stemmer = SnowballStemmer(\"english\")\n",
    "stemmed_words=[]\n",
    "for i in range(len(keywords)):\n",
    "    stemmed_words.append([stemmer.stem(word) for word in keywords[i]])\n",
    "\n"
   ]
  },
  {
   "cell_type": "code",
   "execution_count": 151,
   "metadata": {},
   "outputs": [
    {
     "name": "stdout",
     "output_type": "stream",
     "text": [
      "['forest management/forest conservation', ' forestry protection measures', ' protection forest', ' institution', ' inspection', ' enforcement/compliance', 'China']\n",
      "['forest management/forest conserv', ' forestry protection measur', ' protection forest', ' institut', ' inspect', ' enforcement/compli']\n"
     ]
    }
   ],
   "source": [
    "print(keywords[14083])\n",
    "print(stemmed_words[14083])"
   ]
  },
  {
   "cell_type": "code",
   "execution_count": 208,
   "metadata": {},
   "outputs": [],
   "source": [
    "# Find number of extinct domains\n",
    "a= list(set(data[\"Repealed\"]))\n",
    "i=0\n",
    "for words in a:\n",
    "    if type(words)!=str:\n",
    "        #print(\"type= \",type(words),\" Index = \", i)\n",
    "        words=\"Nan\"\n",
    "    a[i]=words.split(\";\")\n",
    "\n",
    "    i+=1\n",
    "\n"
   ]
  },
  {
   "cell_type": "code",
   "execution_count": 209,
   "metadata": {},
   "outputs": [
    {
     "name": "stdout",
     "output_type": "stream",
     "text": [
      "{'Nan', 'Y'}\n"
     ]
    }
   ],
   "source": [
    "# print different domains\n",
    "a=sum(a,[])\n",
    "i=0\n",
    "for word in a:\n",
    "        word=word.strip()\n",
    "        a[i]=word\n",
    "        i+=1\n",
    "\n",
    "print(set(a))\n",
    "\n",
    "\n"
   ]
  },
  {
   "cell_type": "code",
   "execution_count": 37,
   "metadata": {},
   "outputs": [
    {
     "name": "stdout",
     "output_type": "stream",
     "text": [
      "26273\n"
     ]
    }
   ],
   "source": [
    "# Count number documents in a language\n",
    "languages=list(data[\"Language of document\"])\n",
    "print(languages.count(\"English\"))"
   ]
  },
  {
   "cell_type": "code",
   "execution_count": 167,
   "metadata": {},
   "outputs": [
    {
     "name": "stderr",
     "output_type": "stream",
     "text": [
      "2023-03-23 09:47:48,085 - top2vec - INFO - Pre-processing documents for training\n",
      "2023-03-23 09:47:52,033 - top2vec - INFO - Creating joint document/word embedding\n",
      "2023-03-23 09:49:31,144 - top2vec - INFO - Creating lower dimension embedding of documents\n",
      "2023-03-23 09:50:26,516 - top2vec - INFO - Finding dense areas of documents\n",
      "2023-03-23 09:50:30,979 - top2vec - INFO - Finding topics\n"
     ]
    }
   ],
   "source": [
    "# Make a top2vec topic model\n",
    "from top2vec import Top2Vec\n",
    "i=0\n",
    "for word in keywords:\n",
    "    keywords[i]=\"\".join(word)\n",
    "    i+=1\n",
    "model = Top2Vec(keywords,embedding_model=\"doc2vec\")\n"
   ]
  },
  {
   "cell_type": "code",
   "execution_count": 182,
   "metadata": {},
   "outputs": [
    {
     "data": {
      "text/plain": [
       "array([766, 705, 660, 627, 597, 566, 512, 480, 477, 461, 451, 433, 418,\n",
       "       415, 397, 357, 354, 348, 347, 340, 339, 334, 331, 331, 330, 327,\n",
       "       322, 320, 314, 312, 307, 302, 301, 295, 295, 292, 288, 288, 287,\n",
       "       284, 278, 278, 277, 276, 276, 275, 270, 267, 265, 259, 259, 257,\n",
       "       257, 255, 255, 254, 253, 249, 247, 243, 242, 240, 240, 239, 238,\n",
       "       238, 238, 237, 237, 236, 231, 230, 228, 224, 223, 223, 223, 222,\n",
       "       221, 218, 218, 218, 216, 216, 216, 215, 214, 212, 212, 211, 209,\n",
       "       208, 207, 207, 206, 205, 205, 204, 202, 202, 201, 200, 200, 199,\n",
       "       199, 198, 198, 196, 195, 192, 192, 191, 191, 191, 191, 190, 189,\n",
       "       189, 188, 188, 187, 187, 187, 187, 186, 185, 183, 183, 182, 181,\n",
       "       180, 180, 178, 178, 178, 178, 178, 177, 176, 176, 176, 176, 175,\n",
       "       175, 174, 173, 173, 173, 172, 171, 170, 170, 169, 168, 166, 166,\n",
       "       166, 165, 164, 164, 163, 162, 162, 161, 161, 160, 160, 160, 159,\n",
       "       158, 158, 157, 157, 156, 156, 155, 155, 154, 154, 154, 154, 153,\n",
       "       153, 151, 151, 150, 150, 147, 147, 146, 146, 146, 146, 145, 145,\n",
       "       145, 144, 144, 143, 143, 142, 142, 142, 142, 142, 142, 141, 141,\n",
       "       140, 139, 137, 137, 135, 135, 134, 134, 134, 133, 132, 131, 131,\n",
       "       131, 130, 130, 129, 129, 129, 128, 128, 128, 128, 127, 127, 127,\n",
       "       127, 127, 127, 127, 126, 126, 126, 126, 125, 125, 125, 125, 125,\n",
       "       125, 125, 124, 124, 124, 123, 123, 123, 123, 123, 122, 122, 122,\n",
       "       122, 121, 121, 120, 120, 120, 120, 119, 119, 118, 118, 118, 118,\n",
       "       117, 117, 117, 117, 117, 117, 116, 116, 116, 116, 115, 115, 115,\n",
       "       115, 115, 115, 115, 114, 114, 114, 113, 113, 112, 112, 112, 112,\n",
       "       112, 112, 112, 111, 111, 111, 110, 110, 110, 110, 109, 109, 109,\n",
       "       109, 109, 109, 109, 109, 108, 108, 108, 108, 108, 108, 107, 107,\n",
       "       107, 107, 106, 106, 106, 106, 106, 106, 106, 105, 105, 105, 104,\n",
       "       104, 103, 103, 103, 103, 102, 102, 102, 102, 102, 102, 101, 101,\n",
       "       101, 101, 101, 101, 100, 100, 100, 100,  99,  99,  99,  99,  99,\n",
       "        99,  98,  98,  98,  98,  97,  97,  97,  97,  97,  96,  96,  96,\n",
       "        96,  95,  95,  94,  94,  94,  93,  93,  93,  93,  93,  93,  93,\n",
       "        92,  92,  92,  92,  91,  91,  91,  91,  90,  90,  89,  89,  89,\n",
       "        88,  88,  88,  88,  88,  88,  87,  86,  86,  86,  86,  86,  85,\n",
       "        85,  85,  85,  85,  85,  85,  85,  84,  84,  84,  84,  84,  84,\n",
       "        84,  84,  83,  83,  83,  83,  82,  82,  82,  82,  82,  82,  82,\n",
       "        82,  81,  81,  81,  81,  81,  81,  80,  80,  80,  79,  79,  79,\n",
       "        79,  79,  79,  79,  79,  78,  78,  78,  78,  78,  78,  78,  78,\n",
       "        77,  77,  77,  77,  77,  77,  77,  77,  77,  77,  77,  76,  76,\n",
       "        76,  76,  75,  75,  75,  75,  75,  75,  75,  74,  74,  74,  74,\n",
       "        74,  73,  73,  73,  73,  73,  73,  73,  72,  72,  72,  72,  72,\n",
       "        72,  72,  71,  71,  71,  71,  71,  71,  71,  71,  70,  70,  70,\n",
       "        69,  69,  69,  69,  69,  69,  69,  69,  69,  69,  69,  69,  69,\n",
       "        68,  68,  68,  68,  68,  68,  68,  68,  68,  68,  68,  67,  67,\n",
       "        67,  67,  67,  67,  67,  67,  67,  67,  67,  67,  67,  66,  66,\n",
       "        66,  66,  66,  65,  65,  65,  65,  65,  65,  65,  65,  64,  64,\n",
       "        64,  64,  64,  64,  64,  64,  63,  63,  63,  63,  63,  62,  62,\n",
       "        62,  62,  62,  62,  62,  61,  61,  61,  61,  61,  61,  61,  60,\n",
       "        60,  60,  60,  60,  60,  59,  59,  59,  59,  59,  58,  58,  58,\n",
       "        58,  58,  58,  58,  58,  57,  57,  57,  57,  57,  57,  57,  57,\n",
       "        57,  56,  56,  56,  55,  55,  55,  55,  55,  55,  55,  54,  54,\n",
       "        54,  54,  54,  54,  54,  54,  54,  54,  54,  54,  53,  53,  53,\n",
       "        53,  53,  53,  53,  53,  53,  53,  52,  52,  51,  51,  51,  51,\n",
       "        51,  50,  50,  50,  50,  50,  50,  50,  49,  49,  49,  49,  49,\n",
       "        49,  49,  49,  49,  49,  48,  48,  48,  47,  47,  47,  47,  47,\n",
       "        47,  47,  47,  47,  47,  46,  46,  46,  46,  46,  46,  46,  46,\n",
       "        46,  45,  45,  45,  45,  45,  45,  45,  45,  44,  44,  44,  44,\n",
       "        44,  44,  44,  44,  44,  44,  44,  43,  43,  43,  43,  43,  43,\n",
       "        43,  43,  42,  42,  42,  42,  42,  42,  42,  42,  42,  42,  42,\n",
       "        41,  41,  41,  41,  41,  41,  41,  41,  41,  40,  40,  40,  40,\n",
       "        40,  40,  40,  40,  40,  39,  39,  39,  39,  39,  39,  39,  39,\n",
       "        39,  38,  38,  38,  38,  38,  38,  38,  38,  38,  37,  37,  37,\n",
       "        37,  36,  36,  36,  36,  36,  36,  36,  36,  35,  35,  35,  35,\n",
       "        35,  35,  34,  34,  34,  34,  34,  34,  34,  34,  34,  34,  34,\n",
       "        34,  34,  33,  33,  33,  33,  33,  33,  32,  32,  32,  32,  32,\n",
       "        32,  32,  32,  31,  31,  30,  30,  30,  30,  30,  30,  29,  29,\n",
       "        29,  29,  29,  29,  29,  28,  28,  28,  28,  28,  28,  28,  28,\n",
       "        28,  28,  27,  27,  26,  26,  26,  26,  26,  26,  26,  26,  25,\n",
       "        25,  25,  25,  24,  24,  24,  24,  24,  24,  23,  22,  22,  22,\n",
       "        22,  22,  21,  20,  19,  16])"
      ]
     },
     "execution_count": 182,
     "metadata": {},
     "output_type": "execute_result"
    }
   ],
   "source": [
    "topic_sizes, topic_nums = model.get_topic_sizes()\n",
    "topic_sizes"
   ]
  },
  {
   "cell_type": "code",
   "execution_count": 183,
   "metadata": {},
   "outputs": [],
   "source": [
    "topic_words,word_scores,topic_nums = model.get_topics(10)"
   ]
  },
  {
   "cell_type": "code",
   "execution_count": 184,
   "metadata": {},
   "outputs": [
    {
     "name": "stdout",
     "output_type": "stream",
     "text": [
      "[['great' 'kingdom' 'ireland' 'britain' 'northern' 'jersey' 'united'\n",
      "  'swine' 'slaughtering' 'equine' 'animal' 'disinfection' 'feedstuffs'\n",
      "  'steroids' 'hormones' 'goats' 'feed' 'sheep' 'disinfestation' 'meat'\n",
      "  'cattle' 'limit' 'vaccination' 'camelids' 'drugs' 'inspection'\n",
      "  'welfare' 'guernsey' 'poultry' 'reproduction' 'veterinary' 'herd'\n",
      "  'svalbard' 'additives' 'rodents' 'traceability' 'mrl' 'maximum' 'pests'\n",
      "  'diseases' 'quarantine' 'health' 'residue' 'book' 'edible' 'birds'\n",
      "  'treated' 'residues' 'procedures' 'is']\n",
      " ['port' 'transshipment' 'unreported' 'illegal' 'unregulated' 'iuu'\n",
      "  'foreign' 'landing' 'fishing' 'high' 'state' 'seas' 'bycatch'\n",
      "  'migratory' 'marine' 'cartilaginous' 'nan' 'vessel' 'fisheries'\n",
      "  'fishery' 'harbour' 'svalbard' 'catch' 'territorial' 'exclusive'\n",
      "  'fishes' 'allowable' 'eez' 'economic' 'marshall' 'artisanal' 'palau'\n",
      "  'seychelles' 'size' 'method' 'mammals' 'total' 'gear' 'enforcement'\n",
      "  'charge' 'sea' 'vanuatu' 'maritime' 'kiribati' 'zone' 'federated'\n",
      "  'coral' 'mariculture' 'prohibited' 'shelf']\n",
      " ['territorial' 'eez' 'shelf' 'continental' 'exclusive' 'sea' 'maritime'\n",
      "  'economic' 'zone' 'high' 'seas' 'fishing' 'marine' 'deep' 'bycatch'\n",
      "  'catch' 'fisheries' 'foreign' 'vessel' 'svalbard' 'allowable'\n",
      "  'diadromous' 'exploration' 'navigation' 'transshipment' 'port' 'total'\n",
      "  'fishery' 'allocation' 'coastal' 'harbour' 'migratory' 'fishes' 'quota'\n",
      "  'palau' 'landing' 'netherlands' 'bed' 'artisanal' 'niue' 'area'\n",
      "  'illegal' 'cartilaginous' 'stock' 'commercial' 'conservation' 'gear'\n",
      "  'cook' 'prohibited' 'unregulated']\n",
      " ['producer' 'cooperative' 'governmental' 'entity' 'organization'\n",
      "  'credit' 'financial' 'common' 'subsidy' 'peasants' 'non' 'special'\n",
      "  'based' 'legal' 'proceedings' 'administrative' 'smallholders' 'reform'\n",
      "  'incentive' 'market' 'family' 'agricultural' 'favoured' 'transfer'\n",
      "  'contracts' 'code' 'less' 'book' 'institution' 'extension'\n",
      "  'prescription' 'settlement' 'pest' 'fund' 'adverse' 'commodities'\n",
      "  'business' 'possession' 'lease' 'equipment' 'herd' 'covid' 'cuba'\n",
      "  'property' 'oenological' 'dispute' 'ipm' 'salvador' 'taxes' 'servitude']\n",
      " ['oenological' 'viticulture' 'beverages' 'practices' 'tribunal' 'court'\n",
      "  'tobacco' 'geographical' 'indication' 'herzegovina' 'floriculture'\n",
      "  'nuts' 'fraud' 'legumes' 'fruits' 'edible' 'intellectual' 'vegetables'\n",
      "  'luxembourg' 'cereals' 'sugar' 'seeds' 'oleaginous' 'material' 'poland'\n",
      "  'labelling' 'deceit' 'plant' 'certification' 'mercosur' 'adulteration'\n",
      "  'fibre' 'variety' 'fats' 'germany' 'packaging' 'oils' 'switzerland'\n",
      "  'justice' 'planting' 'bosnia' 'settlement' 'liechtenstein' 'rice'\n",
      "  'czechia' 'trade' 'oilseeds' 'classification' 'cane' 'lao']\n",
      " ['mrl' 'limit' 'maximum' 'residue' 'hormones' 'steroids' 'residues'\n",
      "  'drugs' 'veterinary' 'toxicity' 'poisoning' 'feed' 'feedstuffs'\n",
      "  'safety' 'procedures' 'haccp' 'codex' 'malta' 'additives' 'hygiene'\n",
      "  'alimentarius' 'sanitary' 'meat' 'dairy' 'milk' 'kong' 'treated'\n",
      "  'poultry' 'pesticides' 'quality' 'sar' 'mercosur' 'antimicrobial'\n",
      "  'good' 'practices' 'animal' 'traceability' 'hong' 'standards'\n",
      "  'labelling' 'sources' 'packaging' 'health' 'food' 'resistance' 'trade'\n",
      "  'hazardous' 'users' 'consumer' 'post']\n",
      " ['mercosur' 'vegetables' 'hygiene' 'edible' 'legumes' 'fruits' 'nuts'\n",
      "  'procedures' 'sanitary' 'floriculture' 'herbs' 'mrl' 'andean' 'panama'\n",
      "  'spices' 'condiments' 'limit' 'maximum' 'residue' 'cocoa' 'coffee'\n",
      "  'safety' 'residues' 'trade' 'plant' 'treated' 'tea' 'meat' 'diseases'\n",
      "  'practices' 'cereals' 'poisoning' 'tobacco' 'labelling' 'uses' 'rice'\n",
      "  'milk' 'pests' 'poultry' 'dairy' 'haccp' 'packaging' 'toxicity'\n",
      "  'grains' 'dietary' 'fats' 'oenological' 'viticulture' 'certification'\n",
      "  'harvest']\n",
      " ['bosnia' 'herzegovina' 'lao' 'viticulture' 'inspection' 'procedures'\n",
      "  'haccp' 'tobacco' 'hygiene' 'equine' 'limit' 'montenegro' 'democratic'\n",
      "  'north' 'sanitary' 'macedonia' 'beverages' 'traceability' 'treated'\n",
      "  'oenological' 'serbia' 'steroids' 'codex' 'school' 'transboundary'\n",
      "  'residue' 'effects' 'maximum' 'ranching' 'feeding' 'drugs' 'offences'\n",
      "  'handling' 'disinfection' 'residues' 'classification' 'vaccination'\n",
      "  'substances' 'singapore' 'swine' 'legumes' 'quality' 'labelling'\n",
      "  'safety' 'storage' 'welfare' 'alimentarius' 'mrl' 'court' 'vending']\n",
      " ['catch' 'allocation' 'allowable' 'total' 'quota' 'fishery' 'bycatch'\n",
      "  'fishes' 'fisheries' 'seasons' 'marine' 'size' 'fishing'\n",
      "  'cartilaginous' 'greenland' 'landing' 'method' 'gear' 'crustaceans'\n",
      "  'vessel' 'svalbard' 'molluscs' 'mesh' 'diadromous' 'commercial'\n",
      "  'migratory' 'transshipment' 'artisanal' 'area' 'foreign' 'prohibited'\n",
      "  'high' 'seas' 'port' 'eez' 'charge' 'conservation' 'norway' 'mammals'\n",
      "  'territorial' 'exclusive' 'stock' 'sea' 'repopulation' 'illegal'\n",
      "  'unreported' 'inland' 'enhancement' 'iuu' 'unregulated']\n",
      " ['coffee' 'cocoa' 'tea' 'floriculture' 'trinidad' 'tobacco' 'mariana'\n",
      "  'andean' 'is' 'mercosur' 'oleaginous' 'plant' 'spices' 'grains' 'fibre'\n",
      "  'fats' 'beet' 'condiments' 'sugar' 'kenya' 'cereals' 'cane'\n",
      "  'vegetables' 'usa' 'herbs' 'jamaica' 'argentina' 'harvest' 'beverages'\n",
      "  'rice' 'edible' 'reform' 'oilseeds' 'crops' 'nuts' 'legumes' 'material'\n",
      "  'tobago' 'malawi' 'ecuador' 'fruits' 'colombia' 'contract' 'costa'\n",
      "  'seeds' 'based' 'guam' 'panama' 'honduras' 'oils']]\n"
     ]
    }
   ],
   "source": [
    "print(topic_words)"
   ]
  },
  {
   "cell_type": "code",
   "execution_count": 186,
   "metadata": {},
   "outputs": [
    {
     "name": "stdout",
     "output_type": "stream",
     "text": [
      "Document: 75345, Score: 0.949529230594635\n",
      "-----------\n",
      "fishery management and conservation marine fisheries territorial sea EEZ-Exclusive Economic Zone maritime zone sovereignty Peru\n",
      "-----------\n",
      "\n",
      "Document: 74771, Score: 0.9338657259941101\n",
      "-----------\n",
      "marine fisheries EEZ-Exclusive Economic Zone maritime zone territorial sea continental shelf data collection/reporting EEZ-Exclusive Economic Zone maritime zone territorial sea continental shelf Russian Federation\n",
      "-----------\n",
      "\n",
      "Document: 43109, Score: 0.932529866695404\n",
      "-----------\n",
      "authorization/permit territorial sea EEZ-Exclusive Economic Zone fishery management and conservation fishing area Norway\n",
      "-----------\n",
      "\n",
      "Document: 36836, Score: 0.9314826726913452\n",
      "-----------\n",
      "EEZ-Exclusive Economic Zone territorial sea continental shelf marine fisheries marine fishes research fishing vessel allocation/quota fishing gear/fishing method fishing authorization fishery management and conservation Russian Federation\n",
      "-----------\n",
      "\n",
      "Document: 74773, Score: 0.9291763305664062\n",
      "-----------\n",
      "marine fisheries EEZ-Exclusive Economic Zone territorial sea continental shelf EEZ-Exclusive Economic Zone territorial sea continental shelf Russian Federation\n",
      "-----------\n",
      "\n"
     ]
    }
   ],
   "source": [
    "documents, document_scores, document_ids = model.search_documents_by_topic(topic_num=2, num_docs=5)\n",
    "for doc, score, doc_id in zip(documents, document_scores, document_ids):\n",
    "    print(f\"Document: {doc_id}, Score: {score}\")\n",
    "    print(\"-----------\")\n",
    "    print(doc)\n",
    "    print(\"-----------\")\n",
    "    print()"
   ]
  },
  {
   "cell_type": "code",
   "execution_count": 195,
   "metadata": {},
   "outputs": [
    {
     "name": "stdout",
     "output_type": "stream",
     "text": [
      "[array(['greenland', 'allocation', 'catch', 'fishing', 'allowable',\n",
      "       'fishery', 'bycatch', 'quota', 'fishes', 'crustaceans', 'marine',\n",
      "       'total', 'size', 'cartilaginous', 'mesh', 'fisheries', 'svalbard',\n",
      "       'seasons', 'gear', 'diadromous', 'method', 'vessel', 'landing',\n",
      "       'molluscs', 'prohibited', 'commercial', 'denmark', 'turtles',\n",
      "       'transshipment', 'charge', 'migratory', 'iceland', 'mammals',\n",
      "       'area', 'foreign', 'norway', 'territorial', 'port', 'conservation',\n",
      "       'seas', 'sea', 'exclusive', 'high', 'fee', 'eez', 'harbour', 'is',\n",
      "       'jurisdiction', 'continental', 'shelf'], dtype='<U15'), array(['qatar', 'bahrain', 'kuwait', 'nuclear', 'oman', 'sweden',\n",
      "       'arabia', 'singapore', 'procedural', 'emirates', 'matters',\n",
      "       'natural', 'iraq', 'greece', 'saudi', 'energy', 'gas', 'denmark',\n",
      "       'coral', 'hydropower', 'latvia', 'radiation', 'coal', 'palestine',\n",
      "       'aquatic', 'israel', 'prohibited', 'fee', 'north', 'sinking',\n",
      "       'guam', 'desalination', 'authorization', 'turtles', 'boreholes',\n",
      "       'recycling', 'austria', 'azerbaijan', 'discharge', 'egypt',\n",
      "       'hunting', 'substances', 'turkmenistan', 'jurisdiction',\n",
      "       'effluent', 'estonia', 'greenland', 'environment', 'hazardous',\n",
      "       'vested'], dtype='<U15'), array(['greenland', 'disinfestation', 'equine', 'disinfection', 'denmark',\n",
      "       'costa', 'jersey', 'iceland', 'swine', 'norway', 'crustaceans',\n",
      "       'slaughtering', 'vaccination', 'diadromous', 'biological',\n",
      "       'fishing', 'allocation', 'welfare', 'enforcement', 'cattle',\n",
      "       'inspection', 'vessel', 'landing', 'sheep', 'compliance',\n",
      "       'molluscs', 'charge', 'cartilaginous', 'rodents', 'quota',\n",
      "       'animals', 'allowable', 'fishes', 'birds', 'catch', 'mesh',\n",
      "       'goats', 'steroids', 'hygiene', 'poultry', 'book', 'venezuela',\n",
      "       'animal', 'gear', 'sugar', 'transshipment', 'reproduction',\n",
      "       'bycatch', 'marking', 'harbour'], dtype='<U15')]\n",
      "[ 95 636 211]\n"
     ]
    }
   ],
   "source": [
    "topic_words, word_scores, topic_scores, topic_nums = model.search_topics(keywords=[\"denmark\"], num_topics=3)\n",
    "print(topic_words)\n",
    "print(topic_nums)"
   ]
  },
  {
   "cell_type": "code",
   "execution_count": 196,
   "metadata": {},
   "outputs": [],
   "source": [
    "topic_mapping = model.hierarchical_topic_reduction(num_topics=20)"
   ]
  },
  {
   "cell_type": "code",
   "execution_count": 197,
   "metadata": {},
   "outputs": [
    {
     "name": "stdout",
     "output_type": "stream",
     "text": [
      "[['steroids' 'hormones' 'mrl' 'residue' 'drugs' 'limit' 'hygiene'\n",
      "  'maximum' 'swine' 'procedures' 'residues' 'sanitary' 'feed'\n",
      "  'feedstuffs' 'veterinary' 'animal' 'toxicity' 'poultry' 'poisoning'\n",
      "  'equine' 'slaughtering' 'meat' 'cattle' 'sheep' 'vaccination' 'goats'\n",
      "  'additives' 'health' 'dairy' 'mercosur' 'safety' 'disinfestation'\n",
      "  'codex' 'inspection' 'rodents' 'treated' 'haccp' 'disinfection'\n",
      "  'andean' 'edible' 'packaging' 'pests' 'traceability' 'trade'\n",
      "  'antimicrobial' 'diseases' 'welfare' 'labelling' 'milk' 'alimentarius']\n",
      " ['equine' 'sheep' 'swine' 'goats' 'cattle' 'rodents' 'herd' 'camelids'\n",
      "  'book' 'reproduction' 'poultry' 'animal' 'slaughtering' 'vaccination'\n",
      "  'mercosur' 'animals' 'welfare' 'meat' 'health' 'disinfestation' 'birds'\n",
      "  'jersey' 'hygiene' 'sericulture' 'apiculture' 'steroids' 'hormones'\n",
      "  'drugs' 'procedures' 'disinfection' 'quarantine' 'identification'\n",
      "  'north' 'pests' 'feed' 'sanitary' 'ranching' 'inspection' 'marking'\n",
      "  'captive' 'diseases' 'edible' 'feedstuffs' 'dairy' 'singapore' 'code'\n",
      "  'breeding' 'insects' 'game' 'reptiles']\n",
      " ['poverty' 'gender' 'reform' 'land' 'tenure' 'peasants' 'smallholders'\n",
      "  'employment' 'youth' 'rural' 'agricultural' 'family' 'irrigation'\n",
      "  'credit' 'security' 'development' 'farming' 'ownership' 'common'\n",
      "  'producer' 'nutrition' 'investment' 'equity' 'cadastre' 'participation'\n",
      "  'code' 'inheritance' 'extension' 'ethiopia' 'based' 'governance'\n",
      "  'consolidation' 'transfer' 'human' 'civil' 'private' 'social'\n",
      "  'corruption' 'use' 'expropriation' 'urban' 'cooperative' 'property'\n",
      "  'lease' 'financial' 'peri' 'prescription' 'possession' 'water'\n",
      "  'adverse']\n",
      " ['financial' 'credit' 'favoured' 'less' 'subsidy' 'producer' 'special'\n",
      "  'incentive' 'agricultural' 'cooperative' 'fund' 'governmental' 'entity'\n",
      "  'legal' 'market' 'organization' 'administrative' 'proceedings' 'family'\n",
      "  'measures' 'smallholders' 'farming' 'peasants' 'extension'\n",
      "  'institution' 'fiscal' 'sugar' 'development' 'commodities' 'mountain'\n",
      "  'reform' 'consolidation' 'rural' 'beet' 'salvador' 'venezuela' 'cane'\n",
      "  'covid' 'oleaginous' 'equipment' 'disease' 'based' 'colombia'\n",
      "  'business' 'youth' 'industry' 'honduras' 'taxes' 'costa' 'coronavirus']\n",
      " ['viticulture' 'oenological' 'tribunal' 'court' 'herzegovina'\n",
      "  'beverages' 'tobacco' 'geographical' 'bosnia' 'indication' 'fraud'\n",
      "  'settlement' 'codex' 'inspection' 'lao' 'compensation' 'dispute'\n",
      "  'intellectual' 'labelling' 'trade' 'certification' 'justice'\n",
      "  'practices' 'consumer' 'lanka' 'liability' 'packaging' 'deceit'\n",
      "  'information' 'plant' 'haccp' 'traceability' 'alimentarius' 'offences'\n",
      "  'internal' 'tristan' 'adulteration' 'classification' 'singapore'\n",
      "  'breeders' 'access' 'seeds' 'commodities' 'vested' 'sugar'\n",
      "  'floriculture' 'veterinary' 'liechtenstein' 'legal' 'agricultural']\n",
      " ['floriculture' 'mercosur' 'vegetables' 'legumes' 'fruits' 'edible'\n",
      "  'nuts' 'plant' 'hygiene' 'seeds' 'fibre' 'andean' 'material'\n",
      "  'procedures' 'oleaginous' 'planting' 'sanitary' 'certification'\n",
      "  'cereals' 'mrl' 'tobacco' 'rice' 'grains' 'cocoa' 'trade' 'packaging'\n",
      "  'labelling' 'maximum' 'variety' 'pests' 'oenological' 'production'\n",
      "  'coffee' 'limit' 'residue' 'viticulture' 'diseases' 'condiments'\n",
      "  'poisoning' 'herbs' 'quarantine' 'tea' 'panama' 'toxicity' 'beet'\n",
      "  'spices' 'cane' 'disinfestation' 'sugar' 'fats']\n",
      " ['port' 'fishing' 'transshipment' 'territorial' 'foreign' 'bycatch'\n",
      "  'fisheries' 'exclusive' 'marine' 'landing' 'eez' 'seas' 'high'\n",
      "  'fishery' 'sea' 'migratory' 'illegal' 'unreported' 'vessel' 'catch'\n",
      "  'shelf' 'continental' 'unregulated' 'iuu' 'allowable' 'economic'\n",
      "  'cartilaginous' 'fishes' 'maritime' 'zone' 'total' 'harbour' 'size'\n",
      "  'svalbard' 'allocation' 'method' 'artisanal' 'gear' 'commercial'\n",
      "  'diadromous' 'quota' 'stock' 'deep' 'palau' 'state' 'seasons' 'charge'\n",
      "  'mammals' 'prohibited' 'mesh']\n",
      " ['fishing' 'size' 'fishery' 'fisheries' 'method' 'vessel' 'seasons'\n",
      "  'cartilaginous' 'bycatch' 'gear' 'marine' 'fishes' 'catch' 'charge'\n",
      "  'transshipment' 'landing' 'port' 'foreign' 'commercial' 'mesh'\n",
      "  'greenland' 'allowable' 'allocation' 'crustaceans' 'prohibited' 'quota'\n",
      "  'svalbard' 'seas' 'total' 'high' 'artisanal' 'migratory' 'harbour'\n",
      "  'turtles' 'territorial' 'unreported' 'mammals' 'molluscs' 'area'\n",
      "  'illegal' 'unregulated' 'iuu' 'conservation' 'exclusive' 'inland' 'sea'\n",
      "  'eez' 'navigation' 'palau' 'diadromous']\n",
      " ['water' 'waste' 'discharge' 'effluent' 'shortage' 'solid' 'pollution'\n",
      "  'flood' 'air' 'desalination' 'domestic' 'climate' 'drought' 'control'\n",
      "  'sources' 'disposal' 'energy' 'prevention' 'groundwater' 'recycling'\n",
      "  'surface' 'emissions' 'hydropower' 'freshwater' 'renewable' 'change'\n",
      "  'rainwater' 'assessment' 'environment' 'irrigation' 'supply' 'reuse'\n",
      "  'biodiversity' 'erosion' 'basin' 'soil' 'disasters' 'watershed'\n",
      "  'generation' 'sustainable' 'bioenergy' 'investment' 'environmental'\n",
      "  'impact' 'polluter' 'catchment' 'abstraction' 'coal' 'potable'\n",
      "  'ecosystem']\n",
      " ['disinfection' 'sugar' 'disinfestation' 'biological' 'cane'\n",
      "  'information' 'principe' 'fibre' 'beet' 'oleaginous' 'equatorial'\n",
      "  'institution' 'venezuela' 'tobacco' 'domestic' 'the' 'bolivarian'\n",
      "  'tome' 'egypt' 'sao' 'plant' 'internal' 'agents' 'costa' 'bissau'\n",
      "  'crops' 'breeders' 'certification' 'equine' 'book' 'quarantine' 'gabon'\n",
      "  'guinea' 'nigeria' 'registration' 'disposal' 'access' 'trade' 'legal'\n",
      "  'cereals' 'audit' 'proceedings' 'to' 'democratic' 'sources'\n",
      "  'procedures' 'grains' 'chad' 'administrative' 'rica']\n",
      " ['forest' 'timber' 'extraction' 'logging' 'inventory' 'wood' 'service'\n",
      "  'clearing' 'fires' 'reforestation' 'forestry' 'fuelwood'\n",
      "  'afforestation' 'agro' 'recreational' 'concession' 'parks' 'flora'\n",
      "  'private' 'erosion' 'national' 'capture' 'conservation' 'audit'\n",
      "  'payments' 'ecosystem' 'for' 'improvement' 'pes' 'wild' 'medicinal'\n",
      "  'zoning' 'expropriation' 'hunting' 'services' 'wetlands' 'biosphere'\n",
      "  'land' 'species' 'payment' 'basin' 'environmental' 'area' 'habitats'\n",
      "  'mountain' 'catchment' 'survey' 'mapping' 'harvesting' 'soil']\n",
      " ['da' 'helena' 'tristan' 'ascension' 'cunha' 'sar' 'agents' 'rico' 'uk'\n",
      "  'hong' 'puerto' 'captive' 'kong' 'services' 'spices' 'ranching'\n",
      "  'disinfestation' 'condiments' 'usa' 'disinfection' 'forest' 'saint'\n",
      "  'payments' 'herbs' 'hunting' 'for' 'parks' 'capture' 'quarantine'\n",
      "  'payment' 'tobacco' 'equine' 'vaccination' 'breeding' 'treated'\n",
      "  'procedures' 'biosafety' 'belarus' 'uses' 'inspection' 'dietary'\n",
      "  'welfare' 'wild' 'natural' 'biosecurity' 'animal' 'milk' 'storage'\n",
      "  'beverages' 'basic']\n",
      " ['parks' 'forest' 'inventory' 'flora' 'national' 'ecosystem' 'wild'\n",
      "  'habitats' 'capture' 'wood' 'protected' 'biosphere' 'forestry' 'fires'\n",
      "  'timber' 'wetlands' 'extraction' 'reforestation' 'clearing' 'agro'\n",
      "  'reserves' 'hunting' 'service' 'species' 'logging' 'biodiversity'\n",
      "  'area' 'payments' 'endangered' 'vested' 'peoples' 'indigenous'\n",
      "  'afforestation' 'for' 'fauna' 'recreational' 'services' 'zoning'\n",
      "  'heritage' 'expropriation' 'land' 'conservation' 'cultural' 'erosion'\n",
      "  'participation' 'payment' 'pes' 'traditional' 'customary' 'private']\n",
      " ['grains' 'cereals' 'rice' 'mercosur' 'fibre' 'hormones' 'steroids'\n",
      "  'plant' 'production' 'seeds' 'material' 'floriculture' 'packaging'\n",
      "  'mrl' 'veterinary' 'certification' 'crops' 'tobacco' 'variety' 'cocoa'\n",
      "  'vegetables' 'animal' 'slovakia' 'drugs' 'planting' 'procedures' 'meat'\n",
      "  'resistance' 'labelling' 'maximum' 'trade' 'oleaginous' 'organic'\n",
      "  'edible' 'antimicrobial' 'limit' 'one' 'commodities' 'hygiene'\n",
      "  'legumes' 'vaccination' 'safety' 'ecological' 'sanitary' 'residue'\n",
      "  'guernsey' 'shortage' 'internal' 'poultry' 'coffee']\n",
      " ['fraud' 'governance' 'adulteration' 'deceit' 'drugs' 'matters'\n",
      "  'oilseeds' 'vending' 'niue' 'gabon' 'port' 'nigeria' 'fats'\n",
      "  'procedural' 'offences' 'beverages' 'zimbabwe' 'taxes' 'minerals'\n",
      "  'substances' 'tonga' 'business' 'hazardous' 'treated' 'marshall'\n",
      "  'tobacco' 'oils' 'burundi' 'haccp' 'basic' 'fishing' 'egypt' 'flora'\n",
      "  'disinfestation' 'informed' 'wild' 'vested' 'mining' 'caledonia'\n",
      "  'rwanda' 'free' 'palau' 'water' 'prior' 'civil' 'uganda' 'botswana'\n",
      "  'consent' 'disinfection' 'guinea']\n",
      " ['size' 'seasons' 'fishing' 'bycatch' 'fisheries' 'fishery' 'marine'\n",
      "  'fishes' 'catch' 'cartilaginous' 'method' 'allowable' 'gear'\n",
      "  'allocation' 'crustaceans' 'total' 'svalbard' 'mesh' 'vessel' 'quota'\n",
      "  'molluscs' 'landing' 'commercial' 'prohibited' 'migratory'\n",
      "  'transshipment' 'area' 'artisanal' 'foreign' 'greenland' 'port'\n",
      "  'charge' 'turtles' 'diadromous' 'high' 'mammals' 'seas' 'unreported'\n",
      "  'territorial' 'illegal' 'coral' 'inland' 'repopulation' 'conservation'\n",
      "  'unregulated' 'stock' 'iuu' 'exclusive' 'sea' 'harbour']\n",
      " ['plant' 'intellectual' 'breeders' 'floriculture' 'material' 'cocoa'\n",
      "  'variety' 'seeds' 'coffee' 'tea' 'planting' 'fibre' 'certification'\n",
      "  'tobacco' 'registration' 'property' 'oleaginous' 'mercosur'\n",
      "  'oenological' 'viticulture' 'vegetables' 'legumes' 'packaging'\n",
      "  'mariana' 'labelling' 'edible' 'production' 'cane' 'common' 'andean'\n",
      "  'beet' 'trade' 'based' 'slovakia' 'inspection' 'is' 'island' 'nuts'\n",
      "  'sugar' 'quarantine' 'rice' 'beverages' 'grains' 'disinfestation'\n",
      "  'weeds' 'cereals' 'lease' 'ownership' 'fruits' 'international']\n",
      " ['great' 'kingdom' 'ireland' 'britain' 'northern' 'jersey' 'united'\n",
      "  'svalbard' 'herd' 'slaughtering' 'equine' 'swine' 'disinfection'\n",
      "  'steroids' 'landing' 'animal' 'goats' 'hormones' 'book' 'feedstuffs'\n",
      "  'camelids' 'limit' 'reproduction' 'sheep' 'feed' 'molluscs'\n",
      "  'inspection' 'cattle' 'guernsey' 'disinfestation' 'meat' 'maximum'\n",
      "  'transshipment' 'marking' 'emirates' 'mesh' 'animals' 'fishing' 'mrl'\n",
      "  'drugs' 'method' 'is' 'diadromous' 'marine' 'and' 'cartilaginous'\n",
      "  'poultry' 'fisheries' 'veterinary' 'crustaceans']\n",
      " ['catch' 'allocation' 'allowable' 'bycatch' 'quota' 'fishery' 'total'\n",
      "  'fishing' 'fishes' 'cartilaginous' 'fisheries' 'marine' 'size'\n",
      "  'seasons' 'greenland' 'landing' 'method' 'transshipment' 'vessel'\n",
      "  'gear' 'foreign' 'crustaceans' 'svalbard' 'mesh' 'migratory'\n",
      "  'commercial' 'port' 'high' 'seas' 'molluscs' 'artisanal' 'diadromous'\n",
      "  'prohibited' 'charge' 'mammals' 'territorial' 'area' 'exclusive' 'eez'\n",
      "  'conservation' 'illegal' 'unreported' 'sea' 'iuu' 'unregulated'\n",
      "  'norway' 'stock' 'economic' 'inland' 'turtles']\n",
      " ['antimicrobial' 'one' 'amr' 'resistance' 'drugs' 'approach'\n",
      "  'strategies' 'veterinary' 'pest' 'ipm' 'vaccination' 'animal' 'health'\n",
      "  'agents' 'residues' 'swine' 'feedstuffs' 'dangerous' 'disinfestation'\n",
      "  'biosecurity' 'welfare' 'guernsey' 'feed' 'biological' 'disinfection'\n",
      "  'equine' 'inspection' 'pests' 'code' 'goats' 'additives' 'harmful'\n",
      "  'rodents' 'biosafety' 'cattle' 'pesticides' 'maximum' 'residue'\n",
      "  'hormones' 'prescription' 'diseases' 'sanitary' 'identification'\n",
      "  'limit' 'possession' 'quarantine' 'poultry' 'mrl' 'iceland' 'book']]\n"
     ]
    }
   ],
   "source": [
    "print(model.topic_words_reduced)"
   ]
  },
  {
   "cell_type": "code",
   "execution_count": 202,
   "metadata": {},
   "outputs": [
    {
     "data": {
      "text/plain": [
       "array(['viticulture', 'oenological', 'tribunal', 'court', 'herzegovina',\n",
       "       'beverages', 'tobacco', 'geographical', 'bosnia', 'indication',\n",
       "       'fraud', 'settlement', 'codex', 'inspection', 'lao',\n",
       "       'compensation', 'dispute', 'intellectual', 'labelling', 'trade',\n",
       "       'certification', 'justice', 'practices', 'consumer', 'lanka',\n",
       "       'liability', 'packaging', 'deceit', 'information', 'plant',\n",
       "       'haccp', 'traceability', 'alimentarius', 'offences', 'internal',\n",
       "       'tristan', 'adulteration', 'classification', 'singapore',\n",
       "       'breeders', 'access', 'seeds', 'commodities', 'vested', 'sugar',\n",
       "       'floriculture', 'veterinary', 'liechtenstein', 'legal',\n",
       "       'agricultural'], dtype='<U14')"
      ]
     },
     "execution_count": 202,
     "metadata": {},
     "output_type": "execute_result"
    }
   ],
   "source": [
    "model.topic_words_reduced[4]"
   ]
  },
  {
   "cell_type": "code",
   "execution_count": 82,
   "metadata": {},
   "outputs": [
    {
     "data": {
      "text/plain": [
       "array([['mesh', 'fishing', 'seasons', 'size', 'fishery', 'method',\n",
       "        'cartilaginous', 'catch', 'bycatch', 'fisheries', 'landing',\n",
       "        'prohibited', 'marine', 'total', 'allowable', 'charge',\n",
       "        'allocation', 'fishes', 'vessel', 'gear', 'quota', 'artisanal',\n",
       "        'foreign', 'commercial', 'diadromous', 'port', 'migratory',\n",
       "        'transshipment', 'turtles', 'mammals', 'molluscs', 'crustaceans',\n",
       "        'illegal', 'high', 'seas', 'inland', 'iuu', 'territorial',\n",
       "        'unregulated', 'area', 'exclusive', 'state', 'eez',\n",
       "        'enhancement', 'management', 'conservation', 'coral',\n",
       "        'unreported', 'repopulation', 'sea'],\n",
       "       ['floriculture', 'planting', 'seeds', 'material', 'fibre',\n",
       "        'plant', 'cane', 'beet', 'variety', 'vegetables', 'breeders',\n",
       "        'oleaginous', 'legumes', 'fruits', 'edible', 'nuts', 'sugar',\n",
       "        'certification', 'rice', 'tobacco', 'cereals', 'labelling',\n",
       "        'weeds', 'crops', 'oenological', 'production', 'packaging',\n",
       "        'tea', 'cocoa', 'grains', 'viticulture', 'quarantine',\n",
       "        'intellectual', 'coffee', 'trade', 'internal', 'pests',\n",
       "        'disinfestation', 'diseases', 'disinfection', 'post',\n",
       "        'classification', 'agents', 'treatment', 'registration',\n",
       "        'steroids', 'hormones', 'biological', 'hygiene', 'biotechnology'],\n",
       "       ['catch', 'allowable', 'total', 'bycatch', 'seasons', 'fishing',\n",
       "        'landing', 'size', 'marine', 'mesh', 'cartilaginous', 'fishery',\n",
       "        'fishes', 'method', 'quota', 'allocation', 'transshipment',\n",
       "        'fisheries', 'foreign', 'migratory', 'artisanal', 'vessel',\n",
       "        'high', 'mammals', 'gear', 'diadromous', 'commercial', 'illegal',\n",
       "        'port', 'eez', 'seas', 'prohibited', 'exclusive', 'charge',\n",
       "        'territorial', 'crustaceans', 'molluscs', 'area', 'iuu',\n",
       "        'management', 'conservation', 'sea', 'economic', 'unregulated',\n",
       "        'repopulation', 'enhancement', 'turtles', 'stock', 'state',\n",
       "        'inland'],\n",
       "       ['mesh', 'fishing', 'landing', 'seasons', 'size', 'fishery',\n",
       "        'catch', 'transshipment', 'bycatch', 'allowable',\n",
       "        'cartilaginous', 'fisheries', 'total', 'quota', 'foreign',\n",
       "        'method', 'allocation', 'marine', 'fishes', 'port', 'vessel',\n",
       "        'charge', 'illegal', 'migratory', 'high', 'diadromous',\n",
       "        'artisanal', 'seas', 'iuu', 'gear', 'commercial', 'territorial',\n",
       "        'exclusive', 'mammals', 'unregulated', 'state', 'prohibited',\n",
       "        'eez', 'turtles', 'unreported', 'molluscs', 'economic', 'sea',\n",
       "        'crustaceans', 'inland', 'harbour', 'management', 'continental',\n",
       "        'conservation', 'area'],\n",
       "       ['floriculture', 'nuts', 'fruits', 'edible', 'vegetables',\n",
       "        'legumes', 'condiments', 'sanitary', 'hygiene', 'fibre', 'pests',\n",
       "        'tobacco', 'procedures', 'coffee', 'spices', 'diseases', 'seeds',\n",
       "        'cocoa', 'tea', 'material', 'herbs', 'oleaginous', 'treated',\n",
       "        'planting', 'trade', 'oenological', 'labelling', 'plant', 'rice',\n",
       "        'cereals', 'limit', 'maximum', 'safety', 'quarantine', 'variety',\n",
       "        'mrl', 'rodents', 'sugar', 'poultry', 'meat', 'swine', 'residue',\n",
       "        'oils', 'disinfection', 'disinfestation', 'packaging', 'grains',\n",
       "        'cane', 'production', 'oilseeds'],\n",
       "       ['floriculture', 'vegetables', 'legumes', 'fruits', 'nuts',\n",
       "        'edible', 'coffee', 'fibre', 'tea', 'cocoa', 'sanitary', 'seeds',\n",
       "        'material', 'condiments', 'planting', 'hygiene', 'tobacco',\n",
       "        'labelling', 'pests', 'plant', 'oleaginous', 'oenological',\n",
       "        'procedures', 'grains', 'variety', 'rice', 'mrl', 'maximum',\n",
       "        'diseases', 'cereals', 'limit', 'trade', 'viticulture', 'spices',\n",
       "        'herbs', 'residue', 'treated', 'packaging', 'safety', 'fats',\n",
       "        'oilseeds', 'disinfection', 'rodents', 'meat', 'poultry', 'oils',\n",
       "        'certification', 'quarantine', 'internal', 'disinfestation'],\n",
       "       ['timber', 'forest', 'extraction', 'logging', 'clearing',\n",
       "        'inventory', 'service', 'fuelwood', 'forestry', 'reforestation',\n",
       "        'wood', 'afforestation', 'fires', 'recreational', 'agro',\n",
       "        'private', 'concession', 'fee', 'parks', 'framework', 'capture',\n",
       "        'conservation', 'species', 'protected', 'mountain', 'wetlands',\n",
       "        'hunting', 'expropriation', 'bank', 'basin', 'wild', 'grazing',\n",
       "        'contracts', 'ownership', 'lease', 'possession', 'zoning',\n",
       "        'medicinal', 'biosphere', 'servitude', 'erosion', 'fauna',\n",
       "        'harvesting', 'methods', 'community', 'charges', 'national',\n",
       "        'classification', 'adverse', 'collecting'],\n",
       "       ['port', 'transshipment', 'illegal', 'iuu', 'landing', 'foreign',\n",
       "        'fishing', 'unregulated', 'state', 'unreported', 'high', 'seas',\n",
       "        'mesh', 'cartilaginous', 'bycatch', 'vessel', 'migratory',\n",
       "        'harbour', 'fishery', 'fisheries', 'marine', 'charge', 'size',\n",
       "        'method', 'mammals', 'turtles', 'eez', 'territorial', 'fishes',\n",
       "        'exclusive', 'artisanal', 'seasons', 'quota', 'catch',\n",
       "        'allowable', 'total', 'gear', 'allocation', 'sea', 'mariculture',\n",
       "        'maritime', 'commercial', 'compliance', 'equipment', 'economic',\n",
       "        'navigation', 'continental', 'enforcement', 'aquaculture',\n",
       "        'coral'],\n",
       "       ['animal', 'hormones', 'steroids', 'slaughtering', 'swine',\n",
       "        'cattle', 'feedstuffs', 'equine', 'rodents', 'additives',\n",
       "        'sanitary', 'welfare', 'feed', 'poultry', 'mrl', 'book', 'drugs',\n",
       "        'vaccination', 'veterinary', 'hygiene', 'reproduction',\n",
       "        'maximum', 'sheep', 'procedures', 'camelids', 'toxicity',\n",
       "        'treated', 'residues', 'meat', 'residue', 'herd', 'limit',\n",
       "        'sericulture', 'goats', 'pests', 'disinfection', 'apiculture',\n",
       "        'health', 'diseases', 'poisoning', 'quarantine',\n",
       "        'disinfestation', 'insects', 'dairy', 'milk', 'birds', 'captive',\n",
       "        'inspection', 'safety', 'ranching'],\n",
       "       ['book', 'marking', 'equine', 'identification', 'herd', 'cattle',\n",
       "        'swine', 'camelids', 'sheep', 'goats', 'slaughtering', 'animal',\n",
       "        'vaccination', 'harmful', 'welfare', 'reproduction', 'rodents',\n",
       "        'poultry', 'dangerous', 'quarantine', 'ranching', 'disinfection',\n",
       "        'game', 'diseases', 'hormones', 'disinfestation', 'code',\n",
       "        'breeding', 'traceability', 'captive', 'animals', 'ipm',\n",
       "        'inspection', 'possession', 'birds', 'pests', 'strategies',\n",
       "        'meat', 'reptiles', 'ownership', 'wildlife', 'steroids',\n",
       "        'sanitary', 'prescription', 'health', 'adverse', 'turtles',\n",
       "        'apiculture', 'sericulture', 'pest']], dtype='<U15')"
      ]
     },
     "execution_count": 82,
     "metadata": {},
     "output_type": "execute_result"
    }
   ],
   "source": [
    "topic_words,word_scores,topic_nums = model.get_topics(10)\n",
    "topic_words"
   ]
  },
  {
   "cell_type": "code",
   "execution_count": 274,
   "metadata": {},
   "outputs": [
    {
     "name": "stdout",
     "output_type": "stream",
     "text": [
      "91\n"
     ]
    }
   ],
   "source": [
    "# Tæl hvor mange der er repelaed inden for et dato interval\n",
    "dates=data[\"Date of original text\"]\n",
    "repealed=data[\"Repealed\"]\n",
    "antal=0\n",
    "for i in range(1800,1970):\n",
    "    c=dates==str(i)\n",
    "    d=repealed==\"Y\"\n",
    "    antal+=sum(c*d)\n",
    "print(antal)\n"
   ]
  }
 ],
 "metadata": {
  "kernelspec": {
   "display_name": "Python 3.9.12 ('top2vec': venv)",
   "language": "python",
   "name": "python3"
  },
  "language_info": {
   "codemirror_mode": {
    "name": "ipython",
    "version": 3
   },
   "file_extension": ".py",
   "mimetype": "text/x-python",
   "name": "python",
   "nbconvert_exporter": "python",
   "pygments_lexer": "ipython3",
   "version": "3.9.16"
  },
  "orig_nbformat": 4,
  "vscode": {
   "interpreter": {
    "hash": "178e1d41dc4273026c445d25fdcff19feb9aa877a792a5d798cfdf0e53c7765e"
   }
  }
 },
 "nbformat": 4,
 "nbformat_minor": 2
}
