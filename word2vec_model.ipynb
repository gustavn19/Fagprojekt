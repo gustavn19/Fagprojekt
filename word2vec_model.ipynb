{
 "cells": [
  {
   "cell_type": "code",
   "execution_count": 2,
   "metadata": {},
   "outputs": [
    {
     "name": "stdout",
     "output_type": "stream",
     "text": [
      "Index(['Record Id', 'Record URL', 'Document URL', 'Title', 'Original title',\n",
      "       'Date of original text', 'Last amended date', 'Available website',\n",
      "       'Language of document', 'Country/Territory', 'Regional organizations',\n",
      "       'Territorial subdivision', 'Type of text', 'Repealed', 'Abstract',\n",
      "       'Primary subjects', 'Domain', 'Keywords'],\n",
      "      dtype='object')\n"
     ]
    }
   ],
   "source": [
    "import pandas as pd\n",
    "data=pd.read_csv(\"FAOLEX.csv\")\n",
    "print(data.keys())"
   ]
  },
  {
   "cell_type": "code",
   "execution_count": 3,
   "metadata": {},
   "outputs": [],
   "source": [
    "import nltk\n",
    "keywords=list(data[\"Keywords\"])\n",
    "country=list(data[\"Country/Territory\"])\n",
    "i=0\n",
    "# Split alle keywords op i en liste og ændrer nan til at være en str med Nan\n",
    "for words in keywords:\n",
    "    if type(words)!=str:\n",
    "        #print(\"type= \",type(words),\" Index = \", i)\n",
    "        words=\"Nan\"\n",
    "    if type(country[i])!=str:\n",
    "        country[i]=\"NaN\"\n",
    "    keywords[i]=words.split(\";\")\n",
    "    i+=1\n",
    "\n"
   ]
  },
  {
   "cell_type": "code",
   "execution_count": 7,
   "metadata": {},
   "outputs": [],
   "source": [
    "i=0\n",
    "\n",
    "for words in keywords:\n",
    "    keywords[i]=words + [\" \"+country[i]]\n",
    "    i+=1"
   ]
  },
  {
   "cell_type": "code",
   "execution_count": 8,
   "metadata": {},
   "outputs": [
    {
     "name": "stdout",
     "output_type": "stream",
     "text": [
      "['basic legislation', ' marine fisheries', ' navigation', ' foreign fishing', ' access right', ' fishing authorization', ' fishing gear/fishing method', ' offences/penalties', ' research', ' non-commercial fishing', ' concession', ' enforcement/compliance', ' fishing vessel', ' marking/identification', ' fishery management and conservation', ' Algeria', ' Algeria']\n"
     ]
    }
   ],
   "source": [
    "# prints keywords for a single text\n",
    "print(keywords[0])"
   ]
  },
  {
   "cell_type": "code",
   "execution_count": 9,
   "metadata": {},
   "outputs": [],
   "source": [
    "from nltk.stem import SnowballStemmer\n",
    "from nltk.tokenize import word_tokenize\n",
    "import numpy as np\n",
    "stemmer = SnowballStemmer(\"english\")\n",
    "stemmed_words=[]\n",
    "\n",
    "# Stem keywords\n",
    "for i in range(len(keywords)):\n",
    "    stemmed_words.append([stemmer.stem(word) for word in keywords[i]])\n",
    "\n"
   ]
  },
  {
   "cell_type": "code",
   "execution_count": 10,
   "metadata": {},
   "outputs": [
    {
     "name": "stdout",
     "output_type": "stream",
     "text": [
      "['basic legislation', ' land reform', ' land tenure', ' transfer\\xa0rights\\xa0', ' public land', ' land subdivision', ' right of use', ' expropriation', ' lease', ' common property', ' ownership', ' inheritance', ' cadastre/land registration', ' institution', ' agricultural land', ' land based credit', ' vested rights\\xa0', ' farming', ' agricultural development', ' cooperative/producer organization', ' legal proceedings/administrative proceedings', ' Russian Federation', ' Russian Federation']\n",
      "['basic legisl', ' land reform', ' land tenur', ' transfer\\xa0rights\\xa0', ' public land', ' land subdivis', ' right of us', ' expropri', ' leas', ' common properti', ' ownership', ' inherit', ' cadastre/land registr', ' institut', ' agricultural land', ' land based credit', ' vested rights\\xa0', ' farm', ' agricultural develop', ' cooperative/producer organ', ' legal proceedings/administrative proceed', ' russian feder', ' russian feder']\n"
     ]
    }
   ],
   "source": [
    "print(keywords[14083])\n",
    "print(stemmed_words[14083])"
   ]
  },
  {
   "cell_type": "code",
   "execution_count": 14,
   "metadata": {},
   "outputs": [],
   "source": [
    "# Find number of extinct domains\n",
    "a= list(set(data[\"Domain\"]))\n",
    "i=0\n",
    "for words in a:\n",
    "    if type(words)!=str:\n",
    "        #print(\"type= \",type(words),\" Index = \", i)\n",
    "        words=\"Nan\"\n",
    "    a[i]=words.split(\";\")\n",
    "\n",
    "    i+=1\n",
    "\n"
   ]
  },
  {
   "cell_type": "code",
   "execution_count": 15,
   "metadata": {},
   "outputs": [
    {
     "name": "stdout",
     "output_type": "stream",
     "text": [
      "{'Energy', 'Nan', 'Fisheries', 'Land & soil', 'Wild species & ecosystems', 'Mineral resources', 'Livestock', 'Environment', 'Air & atmosphere', 'Sea', 'Cultivated plants', 'Water', 'Agriculture', 'Food & nutrition', 'General', 'Forestry', 'Waste & hazardous substances'}\n"
     ]
    }
   ],
   "source": [
    "# print different domains\n",
    "a=sum(a,[])\n",
    "i=0\n",
    "for word in a:\n",
    "        word=word.strip()\n",
    "        a[i]=word\n",
    "        i+=1\n",
    "\n",
    "print(set(a))\n",
    "\n",
    "\n"
   ]
  },
  {
   "cell_type": "code",
   "execution_count": 16,
   "metadata": {},
   "outputs": [
    {
     "name": "stdout",
     "output_type": "stream",
     "text": [
      "53564\n"
     ]
    }
   ],
   "source": [
    "# Count number documents in a language\n",
    "languages=list(data[\"Language of document\"])\n",
    "print(languages.count(\"English\"))"
   ]
  },
  {
   "cell_type": "code",
   "execution_count": 17,
   "metadata": {},
   "outputs": [
    {
     "name": "stderr",
     "output_type": "stream",
     "text": [
      "/Users/gustavnielsen/Documents/Fagprojekt-1/top2vec/lib/python3.9/site-packages/tqdm/auto.py:21: TqdmWarning: IProgress not found. Please update jupyter and ipywidgets. See https://ipywidgets.readthedocs.io/en/stable/user_install.html\n",
      "  from .autonotebook import tqdm as notebook_tqdm\n",
      "2023-05-29 10:43:47,558 - top2vec - INFO - Pre-processing documents for training\n",
      "2023-05-29 10:43:55,282 - top2vec - INFO - Creating joint document/word embedding\n",
      "2023-05-29 10:47:08,060 - top2vec - INFO - Creating lower dimension embedding of documents\n",
      "OMP: Info #276: omp_set_nested routine deprecated, please use omp_set_max_active_levels instead.\n",
      "2023-05-29 10:49:11,607 - top2vec - INFO - Finding dense areas of documents\n",
      "2023-05-29 10:49:19,134 - top2vec - INFO - Finding topics\n"
     ]
    }
   ],
   "source": [
    "# Make a top2vec topic model\n",
    "from top2vec import Top2Vec\n",
    "i=0\n",
    "for word in keywords:\n",
    "    keywords[i]=\"\".join(word)\n",
    "    i+=1\n",
    "model = Top2Vec(keywords,embedding_model=\"doc2vec\")\n"
   ]
  },
  {
   "cell_type": "code",
   "execution_count": 18,
   "metadata": {},
   "outputs": [
    {
     "data": {
      "text/plain": [
       "array([854, 849, 812, ...,  15,  13,   7])"
      ]
     },
     "execution_count": 18,
     "metadata": {},
     "output_type": "execute_result"
    }
   ],
   "source": [
    "topic_sizes, topic_nums = model.get_topic_sizes()\n",
    "topic_sizes"
   ]
  },
  {
   "cell_type": "code",
   "execution_count": 19,
   "metadata": {},
   "outputs": [],
   "source": [
    "topic_words,word_scores,topic_nums = model.get_topics(10)\n",
    "\n",
    "# Topic words: Ord i en given topic\n",
    "#Words_score: Hvor "
   ]
  },
  {
   "cell_type": "code",
   "execution_count": 20,
   "metadata": {},
   "outputs": [
    {
     "name": "stdout",
     "output_type": "stream",
     "text": [
      "[['angola' 'madagascar' 'sao' 'equatorial' 'mozambique' 'principe' 'tome'\n",
      "  'bissau' 'gabon' 'mrl' 'cabo' 'namibia' 'eritrea' 'burundi' 'senegal'\n",
      "  'eswatini' 'producer' 'residue' 'verde' 'limit' 'comoros' 'zambia'\n",
      "  'organization' 'maximum' 'botswana' 'knowledge' 'rwanda' 'african'\n",
      "  'central' 'malawi' 'ratification' 'cameroon' 'congo' 'oils' 'guinea'\n",
      "  'lesotho' 'gambia' 'exploration' 'niger' 'seychelles' 'tourism'\n",
      "  'mining' 'governance' 'zoning' 'proceedings' 'portugal' 'aquaculture'\n",
      "  'sharing' 'timor' 'liberia']\n",
      " ['viet' 'nam' 'jan' 'svalbard' 'mayen' 'guam' 'singapore' 'capacity'\n",
      "  'brunei' 'investment' 'darussalam' 'irrigation' 'afforestation'\n",
      "  'thailand' 'forest' 'reforestation' 'service' 'improvement' 'planning'\n",
      "  'erosion' 'iran' 'cambodia' 'extension' 'puerto' 'islamic' 'myanmar'\n",
      "  'malaysia' 'partnership' 'reclamation' 'rico' 'development' 'qatar'\n",
      "  'research' 'norway' 'cooperation' 'maldives' 'industrial' 'ppp' 'water'\n",
      "  'innovation' 'belize' 'drainage' 'policy' 'private' 'mapping'\n",
      "  'forestry' 'mariana' 'agricultural' 'waters' 'mountain']\n",
      " ['illegal' 'port' 'unreported' 'iuu' 'transshipment' 'landing'\n",
      "  'unregulated' 'fishing' 'high' 'foreign' 'seas' 'bycatch' 'vessel'\n",
      "  'fisheries' 'cartilaginous' 'state' 'svalbard' 'fishery' 'fishes' 'nan'\n",
      "  'allowable' 'marine' 'migratory' 'method' 'total' 'catch' 'harbour'\n",
      "  'mesh' 'commercial' 'jan' 'prohibited' 'eez' 'mammals' 'mayen' 'gear'\n",
      "  'federated' 'micronesia' 'charge' 'mariculture' 'exclusive' 'artisanal'\n",
      "  'territorial' 'kiribati' 'quota' 'cook' 'allocation' 'marshall'\n",
      "  'thailand' 'economic' 'fish']\n",
      " ['early' 'system' 'warning' 'emergency' 'intervention' 'risk'\n",
      "  'disasters' 'assessment' 'diseases' 'pests' 'vaccination' 'health'\n",
      "  'radiation' 'intrusion' 'cane' 'dietary' 'saltwater' 'cleaning'\n",
      "  'nuclear' 'andean' 'swine' 'flood' 'climate' 'dangerous' 'change'\n",
      "  'animal' 'pest' 'strategies' 'disinfection' 'siltation' 'drought'\n",
      "  'security' 'beet' 'taiwan' 'ipm' 'shortage' 'capacity' 'procedures'\n",
      "  'sugar' 'hong' 'cereals' 'poultry' 'biosecurity' 'harvest' 'assistance'\n",
      "  'cattle' 'bangladesh' 'quarantine' 'transport' 'disinfestation']\n",
      " ['verde' 'cabo' 'bissau' 'sao' 'libya' 'tome' 'spatial' 'principe'\n",
      "  'oman' 'book' 'coastal' 'mozambique' 'eritrea' 'senegal' 'gambia'\n",
      "  'desalination' 'zone' 'angola' 'djibouti' 'monaco' 'tunisia' 'zoning'\n",
      "  'cameroon' 'tourism' 'mauritania' 'herd' 'guinea' 'chad'\n",
      "  'desertification' 'african' 'exclusive' 'burundi' 'drainage' 'central'\n",
      "  'mayen' 'gabon' 'miquelon' 'niger' 'reclamation' 'turkiye' 'equatorial'\n",
      "  'territorial' 'land' 'egypt' 'well' 'morocco' 'parks' 'pierre' 'urban'\n",
      "  'maritime']\n",
      " ['mrl' 'limit' 'residue' 'maximum' 'residues' 'hormones' 'steroids'\n",
      "  'poisoning' 'toxicity' 'feed' 'additives' 'drugs' 'safety' 'veterinary'\n",
      "  'meat' 'pesticides' 'oils' 'alimentarius' 'feedstuffs' 'kitts' 'codex'\n",
      "  'fats' 'aruba' 'legumes' 'oilseeds' 'novel' 'edible' 'greece'\n",
      "  'procedures' 'sanitary' 'milk' 'nevis' 'food' 'fruits' 'nuts' 'dairy'\n",
      "  'labelling' 'slaughtering' 'packaging' 'vegetables' 'faeroe' 'hygiene'\n",
      "  'poultry' 'haccp' 'hong' 'treated' 'beverages' 'sheep' 'animal' 'union']\n",
      " ['north' 'macedonia' 'peasants' 'tobacco' 'smallholders' 'maximum'\n",
      "  'poultry' 'processing' 'swine' 'family' 'matters' 'mrl' 'meat'\n",
      "  'residues' 'feed' 'veterinary' 'loss' 'liability' 'limit' 'sheep'\n",
      "  'ecological' 'business' 'residue' 'feedstuffs' 'aruba' 'monaco' 'drugs'\n",
      "  'trade' 'hygiene' 'producer' 'sanitary' 'corporations' 'procedural'\n",
      "  'diseases' 'bulgaria' 'inspection' 'organic' 'traceability' 'animal'\n",
      "  'safety' 'industry' 'internal' 'slaughtering' 'labelling' 'sources'\n",
      "  'cattle' 'albania' 'environment' 'handling' 'farming']\n",
      " ['botswana' 'nigeria' 'ozone' 'lesotho' 'zimbabwe' 'eswatini' 'niger'\n",
      "  'gabon' 'chad' 'clean' 'zambia' 'namibia' 'malawi' 'pest' 'healthy'\n",
      "  'cameroon' 'angola' 'layer' 'human' 'air' 'faso' 'equatorial' 'burkina'\n",
      "  'mali' 'mozambique' 'sierra' 'central' 'comoros' 'african' 'togo'\n",
      "  'dangerous' 'somalia' 'ownership' 'kenya' 'leone' 'sao' 'burundi'\n",
      "  'bissau' 'mauritius' 'eritrea' 'tenure' 'codified' 'benin' 'tanzania'\n",
      "  'vested' 'ipm' 'invasive' 'lease' 'fund' 'based']\n",
      " ['ranching' 'breeding' 'captive' 'wild' 'birds' 'hunting' 'amphibians'\n",
      "  'marino' 'san' 'wildlife' 'animals' 'fauna' 'reptiles' 'methods' 'game'\n",
      "  'rodents' 'repopulation' 'equine' 'capture' 'welfare' 'camelids'\n",
      "  'stock' 'enhancement' 'endangered' 'animal' 'dangerous' 'fee' 'harmful'\n",
      "  'species' 'reproduction' 'tajikistan' 'habitats' 'swine' 'alien'\n",
      "  'cattle' 'herd' 'mammals' 'kazakhstan' 'federated' 'serbia' 'insects'\n",
      "  'flora' 'biosphere' 'federation' 'reserves' 'genetic' 'invasive'\n",
      "  'identification' 'micronesia' 'in']\n",
      " ['albania' 'monaco' 'kong' 'hong' 'land' 'lease' 'expropriation'\n",
      "  'ownership' 'subdivision' 'compensation' 'reform' 'vested' 'cadastre'\n",
      "  'sar' 'tenure' 'mapping' 'israel' 'business' 'inheritance' 'libya'\n",
      "  'liability' 'north' 'macedonia' 'industry' 'turks' 'common' 'syrian'\n",
      "  'code' 'consolidation' 'corporations' 'tunisia' 'unoccupied' 'greece'\n",
      "  'servitude' 'survey' 'layer' 'fats' 'abandoned' 'haccp' 'caicos'\n",
      "  'drainage' 'bulgaria' 'commission' 'guam' 'cooperative' 'civil' 'pays'\n",
      "  'helena' 'gas' 'contracts']]\n"
     ]
    }
   ],
   "source": [
    "print(topic_words)"
   ]
  },
  {
   "cell_type": "code",
   "execution_count": 186,
   "metadata": {},
   "outputs": [
    {
     "name": "stdout",
     "output_type": "stream",
     "text": [
      "Document: 75345, Score: 0.949529230594635\n",
      "-----------\n",
      "fishery management and conservation marine fisheries territorial sea EEZ-Exclusive Economic Zone maritime zone sovereignty Peru\n",
      "-----------\n",
      "\n",
      "Document: 74771, Score: 0.9338657259941101\n",
      "-----------\n",
      "marine fisheries EEZ-Exclusive Economic Zone maritime zone territorial sea continental shelf data collection/reporting EEZ-Exclusive Economic Zone maritime zone territorial sea continental shelf Russian Federation\n",
      "-----------\n",
      "\n",
      "Document: 43109, Score: 0.932529866695404\n",
      "-----------\n",
      "authorization/permit territorial sea EEZ-Exclusive Economic Zone fishery management and conservation fishing area Norway\n",
      "-----------\n",
      "\n",
      "Document: 36836, Score: 0.9314826726913452\n",
      "-----------\n",
      "EEZ-Exclusive Economic Zone territorial sea continental shelf marine fisheries marine fishes research fishing vessel allocation/quota fishing gear/fishing method fishing authorization fishery management and conservation Russian Federation\n",
      "-----------\n",
      "\n",
      "Document: 74773, Score: 0.9291763305664062\n",
      "-----------\n",
      "marine fisheries EEZ-Exclusive Economic Zone territorial sea continental shelf EEZ-Exclusive Economic Zone territorial sea continental shelf Russian Federation\n",
      "-----------\n",
      "\n"
     ]
    }
   ],
   "source": [
    "documents, document_scores, document_ids = model.search_documents_by_topic(topic_num=2, num_docs=5)\n",
    "for doc, score, doc_id in zip(documents, document_scores, document_ids):\n",
    "    print(f\"Document: {doc_id}, Score: {score}\")\n",
    "    print(\"-----------\")\n",
    "    print(doc)\n",
    "    print(\"-----------\")\n",
    "    print()"
   ]
  },
  {
   "cell_type": "code",
   "execution_count": 195,
   "metadata": {},
   "outputs": [
    {
     "name": "stdout",
     "output_type": "stream",
     "text": [
      "[array(['greenland', 'allocation', 'catch', 'fishing', 'allowable',\n",
      "       'fishery', 'bycatch', 'quota', 'fishes', 'crustaceans', 'marine',\n",
      "       'total', 'size', 'cartilaginous', 'mesh', 'fisheries', 'svalbard',\n",
      "       'seasons', 'gear', 'diadromous', 'method', 'vessel', 'landing',\n",
      "       'molluscs', 'prohibited', 'commercial', 'denmark', 'turtles',\n",
      "       'transshipment', 'charge', 'migratory', 'iceland', 'mammals',\n",
      "       'area', 'foreign', 'norway', 'territorial', 'port', 'conservation',\n",
      "       'seas', 'sea', 'exclusive', 'high', 'fee', 'eez', 'harbour', 'is',\n",
      "       'jurisdiction', 'continental', 'shelf'], dtype='<U15'), array(['qatar', 'bahrain', 'kuwait', 'nuclear', 'oman', 'sweden',\n",
      "       'arabia', 'singapore', 'procedural', 'emirates', 'matters',\n",
      "       'natural', 'iraq', 'greece', 'saudi', 'energy', 'gas', 'denmark',\n",
      "       'coral', 'hydropower', 'latvia', 'radiation', 'coal', 'palestine',\n",
      "       'aquatic', 'israel', 'prohibited', 'fee', 'north', 'sinking',\n",
      "       'guam', 'desalination', 'authorization', 'turtles', 'boreholes',\n",
      "       'recycling', 'austria', 'azerbaijan', 'discharge', 'egypt',\n",
      "       'hunting', 'substances', 'turkmenistan', 'jurisdiction',\n",
      "       'effluent', 'estonia', 'greenland', 'environment', 'hazardous',\n",
      "       'vested'], dtype='<U15'), array(['greenland', 'disinfestation', 'equine', 'disinfection', 'denmark',\n",
      "       'costa', 'jersey', 'iceland', 'swine', 'norway', 'crustaceans',\n",
      "       'slaughtering', 'vaccination', 'diadromous', 'biological',\n",
      "       'fishing', 'allocation', 'welfare', 'enforcement', 'cattle',\n",
      "       'inspection', 'vessel', 'landing', 'sheep', 'compliance',\n",
      "       'molluscs', 'charge', 'cartilaginous', 'rodents', 'quota',\n",
      "       'animals', 'allowable', 'fishes', 'birds', 'catch', 'mesh',\n",
      "       'goats', 'steroids', 'hygiene', 'poultry', 'book', 'venezuela',\n",
      "       'animal', 'gear', 'sugar', 'transshipment', 'reproduction',\n",
      "       'bycatch', 'marking', 'harbour'], dtype='<U15')]\n",
      "[ 95 636 211]\n"
     ]
    }
   ],
   "source": [
    "topic_words, word_scores, topic_scores, topic_nums = model.search_topics(keywords=[\"denmark\"], num_topics=3)\n",
    "print(topic_words)\n",
    "print(topic_nums)"
   ]
  },
  {
   "cell_type": "code",
   "execution_count": 196,
   "metadata": {},
   "outputs": [],
   "source": [
    "topic_mapping = model.hierarchical_topic_reduction(num_topics=20)"
   ]
  },
  {
   "cell_type": "code",
   "execution_count": 197,
   "metadata": {},
   "outputs": [
    {
     "name": "stdout",
     "output_type": "stream",
     "text": [
      "[['steroids' 'hormones' 'mrl' 'residue' 'drugs' 'limit' 'hygiene'\n",
      "  'maximum' 'swine' 'procedures' 'residues' 'sanitary' 'feed'\n",
      "  'feedstuffs' 'veterinary' 'animal' 'toxicity' 'poultry' 'poisoning'\n",
      "  'equine' 'slaughtering' 'meat' 'cattle' 'sheep' 'vaccination' 'goats'\n",
      "  'additives' 'health' 'dairy' 'mercosur' 'safety' 'disinfestation'\n",
      "  'codex' 'inspection' 'rodents' 'treated' 'haccp' 'disinfection'\n",
      "  'andean' 'edible' 'packaging' 'pests' 'traceability' 'trade'\n",
      "  'antimicrobial' 'diseases' 'welfare' 'labelling' 'milk' 'alimentarius']\n",
      " ['equine' 'sheep' 'swine' 'goats' 'cattle' 'rodents' 'herd' 'camelids'\n",
      "  'book' 'reproduction' 'poultry' 'animal' 'slaughtering' 'vaccination'\n",
      "  'mercosur' 'animals' 'welfare' 'meat' 'health' 'disinfestation' 'birds'\n",
      "  'jersey' 'hygiene' 'sericulture' 'apiculture' 'steroids' 'hormones'\n",
      "  'drugs' 'procedures' 'disinfection' 'quarantine' 'identification'\n",
      "  'north' 'pests' 'feed' 'sanitary' 'ranching' 'inspection' 'marking'\n",
      "  'captive' 'diseases' 'edible' 'feedstuffs' 'dairy' 'singapore' 'code'\n",
      "  'breeding' 'insects' 'game' 'reptiles']\n",
      " ['poverty' 'gender' 'reform' 'land' 'tenure' 'peasants' 'smallholders'\n",
      "  'employment' 'youth' 'rural' 'agricultural' 'family' 'irrigation'\n",
      "  'credit' 'security' 'development' 'farming' 'ownership' 'common'\n",
      "  'producer' 'nutrition' 'investment' 'equity' 'cadastre' 'participation'\n",
      "  'code' 'inheritance' 'extension' 'ethiopia' 'based' 'governance'\n",
      "  'consolidation' 'transfer' 'human' 'civil' 'private' 'social'\n",
      "  'corruption' 'use' 'expropriation' 'urban' 'cooperative' 'property'\n",
      "  'lease' 'financial' 'peri' 'prescription' 'possession' 'water'\n",
      "  'adverse']\n",
      " ['financial' 'credit' 'favoured' 'less' 'subsidy' 'producer' 'special'\n",
      "  'incentive' 'agricultural' 'cooperative' 'fund' 'governmental' 'entity'\n",
      "  'legal' 'market' 'organization' 'administrative' 'proceedings' 'family'\n",
      "  'measures' 'smallholders' 'farming' 'peasants' 'extension'\n",
      "  'institution' 'fiscal' 'sugar' 'development' 'commodities' 'mountain'\n",
      "  'reform' 'consolidation' 'rural' 'beet' 'salvador' 'venezuela' 'cane'\n",
      "  'covid' 'oleaginous' 'equipment' 'disease' 'based' 'colombia'\n",
      "  'business' 'youth' 'industry' 'honduras' 'taxes' 'costa' 'coronavirus']\n",
      " ['viticulture' 'oenological' 'tribunal' 'court' 'herzegovina'\n",
      "  'beverages' 'tobacco' 'geographical' 'bosnia' 'indication' 'fraud'\n",
      "  'settlement' 'codex' 'inspection' 'lao' 'compensation' 'dispute'\n",
      "  'intellectual' 'labelling' 'trade' 'certification' 'justice'\n",
      "  'practices' 'consumer' 'lanka' 'liability' 'packaging' 'deceit'\n",
      "  'information' 'plant' 'haccp' 'traceability' 'alimentarius' 'offences'\n",
      "  'internal' 'tristan' 'adulteration' 'classification' 'singapore'\n",
      "  'breeders' 'access' 'seeds' 'commodities' 'vested' 'sugar'\n",
      "  'floriculture' 'veterinary' 'liechtenstein' 'legal' 'agricultural']\n",
      " ['floriculture' 'mercosur' 'vegetables' 'legumes' 'fruits' 'edible'\n",
      "  'nuts' 'plant' 'hygiene' 'seeds' 'fibre' 'andean' 'material'\n",
      "  'procedures' 'oleaginous' 'planting' 'sanitary' 'certification'\n",
      "  'cereals' 'mrl' 'tobacco' 'rice' 'grains' 'cocoa' 'trade' 'packaging'\n",
      "  'labelling' 'maximum' 'variety' 'pests' 'oenological' 'production'\n",
      "  'coffee' 'limit' 'residue' 'viticulture' 'diseases' 'condiments'\n",
      "  'poisoning' 'herbs' 'quarantine' 'tea' 'panama' 'toxicity' 'beet'\n",
      "  'spices' 'cane' 'disinfestation' 'sugar' 'fats']\n",
      " ['port' 'fishing' 'transshipment' 'territorial' 'foreign' 'bycatch'\n",
      "  'fisheries' 'exclusive' 'marine' 'landing' 'eez' 'seas' 'high'\n",
      "  'fishery' 'sea' 'migratory' 'illegal' 'unreported' 'vessel' 'catch'\n",
      "  'shelf' 'continental' 'unregulated' 'iuu' 'allowable' 'economic'\n",
      "  'cartilaginous' 'fishes' 'maritime' 'zone' 'total' 'harbour' 'size'\n",
      "  'svalbard' 'allocation' 'method' 'artisanal' 'gear' 'commercial'\n",
      "  'diadromous' 'quota' 'stock' 'deep' 'palau' 'state' 'seasons' 'charge'\n",
      "  'mammals' 'prohibited' 'mesh']\n",
      " ['fishing' 'size' 'fishery' 'fisheries' 'method' 'vessel' 'seasons'\n",
      "  'cartilaginous' 'bycatch' 'gear' 'marine' 'fishes' 'catch' 'charge'\n",
      "  'transshipment' 'landing' 'port' 'foreign' 'commercial' 'mesh'\n",
      "  'greenland' 'allowable' 'allocation' 'crustaceans' 'prohibited' 'quota'\n",
      "  'svalbard' 'seas' 'total' 'high' 'artisanal' 'migratory' 'harbour'\n",
      "  'turtles' 'territorial' 'unreported' 'mammals' 'molluscs' 'area'\n",
      "  'illegal' 'unregulated' 'iuu' 'conservation' 'exclusive' 'inland' 'sea'\n",
      "  'eez' 'navigation' 'palau' 'diadromous']\n",
      " ['water' 'waste' 'discharge' 'effluent' 'shortage' 'solid' 'pollution'\n",
      "  'flood' 'air' 'desalination' 'domestic' 'climate' 'drought' 'control'\n",
      "  'sources' 'disposal' 'energy' 'prevention' 'groundwater' 'recycling'\n",
      "  'surface' 'emissions' 'hydropower' 'freshwater' 'renewable' 'change'\n",
      "  'rainwater' 'assessment' 'environment' 'irrigation' 'supply' 'reuse'\n",
      "  'biodiversity' 'erosion' 'basin' 'soil' 'disasters' 'watershed'\n",
      "  'generation' 'sustainable' 'bioenergy' 'investment' 'environmental'\n",
      "  'impact' 'polluter' 'catchment' 'abstraction' 'coal' 'potable'\n",
      "  'ecosystem']\n",
      " ['disinfection' 'sugar' 'disinfestation' 'biological' 'cane'\n",
      "  'information' 'principe' 'fibre' 'beet' 'oleaginous' 'equatorial'\n",
      "  'institution' 'venezuela' 'tobacco' 'domestic' 'the' 'bolivarian'\n",
      "  'tome' 'egypt' 'sao' 'plant' 'internal' 'agents' 'costa' 'bissau'\n",
      "  'crops' 'breeders' 'certification' 'equine' 'book' 'quarantine' 'gabon'\n",
      "  'guinea' 'nigeria' 'registration' 'disposal' 'access' 'trade' 'legal'\n",
      "  'cereals' 'audit' 'proceedings' 'to' 'democratic' 'sources'\n",
      "  'procedures' 'grains' 'chad' 'administrative' 'rica']\n",
      " ['forest' 'timber' 'extraction' 'logging' 'inventory' 'wood' 'service'\n",
      "  'clearing' 'fires' 'reforestation' 'forestry' 'fuelwood'\n",
      "  'afforestation' 'agro' 'recreational' 'concession' 'parks' 'flora'\n",
      "  'private' 'erosion' 'national' 'capture' 'conservation' 'audit'\n",
      "  'payments' 'ecosystem' 'for' 'improvement' 'pes' 'wild' 'medicinal'\n",
      "  'zoning' 'expropriation' 'hunting' 'services' 'wetlands' 'biosphere'\n",
      "  'land' 'species' 'payment' 'basin' 'environmental' 'area' 'habitats'\n",
      "  'mountain' 'catchment' 'survey' 'mapping' 'harvesting' 'soil']\n",
      " ['da' 'helena' 'tristan' 'ascension' 'cunha' 'sar' 'agents' 'rico' 'uk'\n",
      "  'hong' 'puerto' 'captive' 'kong' 'services' 'spices' 'ranching'\n",
      "  'disinfestation' 'condiments' 'usa' 'disinfection' 'forest' 'saint'\n",
      "  'payments' 'herbs' 'hunting' 'for' 'parks' 'capture' 'quarantine'\n",
      "  'payment' 'tobacco' 'equine' 'vaccination' 'breeding' 'treated'\n",
      "  'procedures' 'biosafety' 'belarus' 'uses' 'inspection' 'dietary'\n",
      "  'welfare' 'wild' 'natural' 'biosecurity' 'animal' 'milk' 'storage'\n",
      "  'beverages' 'basic']\n",
      " ['parks' 'forest' 'inventory' 'flora' 'national' 'ecosystem' 'wild'\n",
      "  'habitats' 'capture' 'wood' 'protected' 'biosphere' 'forestry' 'fires'\n",
      "  'timber' 'wetlands' 'extraction' 'reforestation' 'clearing' 'agro'\n",
      "  'reserves' 'hunting' 'service' 'species' 'logging' 'biodiversity'\n",
      "  'area' 'payments' 'endangered' 'vested' 'peoples' 'indigenous'\n",
      "  'afforestation' 'for' 'fauna' 'recreational' 'services' 'zoning'\n",
      "  'heritage' 'expropriation' 'land' 'conservation' 'cultural' 'erosion'\n",
      "  'participation' 'payment' 'pes' 'traditional' 'customary' 'private']\n",
      " ['grains' 'cereals' 'rice' 'mercosur' 'fibre' 'hormones' 'steroids'\n",
      "  'plant' 'production' 'seeds' 'material' 'floriculture' 'packaging'\n",
      "  'mrl' 'veterinary' 'certification' 'crops' 'tobacco' 'variety' 'cocoa'\n",
      "  'vegetables' 'animal' 'slovakia' 'drugs' 'planting' 'procedures' 'meat'\n",
      "  'resistance' 'labelling' 'maximum' 'trade' 'oleaginous' 'organic'\n",
      "  'edible' 'antimicrobial' 'limit' 'one' 'commodities' 'hygiene'\n",
      "  'legumes' 'vaccination' 'safety' 'ecological' 'sanitary' 'residue'\n",
      "  'guernsey' 'shortage' 'internal' 'poultry' 'coffee']\n",
      " ['fraud' 'governance' 'adulteration' 'deceit' 'drugs' 'matters'\n",
      "  'oilseeds' 'vending' 'niue' 'gabon' 'port' 'nigeria' 'fats'\n",
      "  'procedural' 'offences' 'beverages' 'zimbabwe' 'taxes' 'minerals'\n",
      "  'substances' 'tonga' 'business' 'hazardous' 'treated' 'marshall'\n",
      "  'tobacco' 'oils' 'burundi' 'haccp' 'basic' 'fishing' 'egypt' 'flora'\n",
      "  'disinfestation' 'informed' 'wild' 'vested' 'mining' 'caledonia'\n",
      "  'rwanda' 'free' 'palau' 'water' 'prior' 'civil' 'uganda' 'botswana'\n",
      "  'consent' 'disinfection' 'guinea']\n",
      " ['size' 'seasons' 'fishing' 'bycatch' 'fisheries' 'fishery' 'marine'\n",
      "  'fishes' 'catch' 'cartilaginous' 'method' 'allowable' 'gear'\n",
      "  'allocation' 'crustaceans' 'total' 'svalbard' 'mesh' 'vessel' 'quota'\n",
      "  'molluscs' 'landing' 'commercial' 'prohibited' 'migratory'\n",
      "  'transshipment' 'area' 'artisanal' 'foreign' 'greenland' 'port'\n",
      "  'charge' 'turtles' 'diadromous' 'high' 'mammals' 'seas' 'unreported'\n",
      "  'territorial' 'illegal' 'coral' 'inland' 'repopulation' 'conservation'\n",
      "  'unregulated' 'stock' 'iuu' 'exclusive' 'sea' 'harbour']\n",
      " ['plant' 'intellectual' 'breeders' 'floriculture' 'material' 'cocoa'\n",
      "  'variety' 'seeds' 'coffee' 'tea' 'planting' 'fibre' 'certification'\n",
      "  'tobacco' 'registration' 'property' 'oleaginous' 'mercosur'\n",
      "  'oenological' 'viticulture' 'vegetables' 'legumes' 'packaging'\n",
      "  'mariana' 'labelling' 'edible' 'production' 'cane' 'common' 'andean'\n",
      "  'beet' 'trade' 'based' 'slovakia' 'inspection' 'is' 'island' 'nuts'\n",
      "  'sugar' 'quarantine' 'rice' 'beverages' 'grains' 'disinfestation'\n",
      "  'weeds' 'cereals' 'lease' 'ownership' 'fruits' 'international']\n",
      " ['great' 'kingdom' 'ireland' 'britain' 'northern' 'jersey' 'united'\n",
      "  'svalbard' 'herd' 'slaughtering' 'equine' 'swine' 'disinfection'\n",
      "  'steroids' 'landing' 'animal' 'goats' 'hormones' 'book' 'feedstuffs'\n",
      "  'camelids' 'limit' 'reproduction' 'sheep' 'feed' 'molluscs'\n",
      "  'inspection' 'cattle' 'guernsey' 'disinfestation' 'meat' 'maximum'\n",
      "  'transshipment' 'marking' 'emirates' 'mesh' 'animals' 'fishing' 'mrl'\n",
      "  'drugs' 'method' 'is' 'diadromous' 'marine' 'and' 'cartilaginous'\n",
      "  'poultry' 'fisheries' 'veterinary' 'crustaceans']\n",
      " ['catch' 'allocation' 'allowable' 'bycatch' 'quota' 'fishery' 'total'\n",
      "  'fishing' 'fishes' 'cartilaginous' 'fisheries' 'marine' 'size'\n",
      "  'seasons' 'greenland' 'landing' 'method' 'transshipment' 'vessel'\n",
      "  'gear' 'foreign' 'crustaceans' 'svalbard' 'mesh' 'migratory'\n",
      "  'commercial' 'port' 'high' 'seas' 'molluscs' 'artisanal' 'diadromous'\n",
      "  'prohibited' 'charge' 'mammals' 'territorial' 'area' 'exclusive' 'eez'\n",
      "  'conservation' 'illegal' 'unreported' 'sea' 'iuu' 'unregulated'\n",
      "  'norway' 'stock' 'economic' 'inland' 'turtles']\n",
      " ['antimicrobial' 'one' 'amr' 'resistance' 'drugs' 'approach'\n",
      "  'strategies' 'veterinary' 'pest' 'ipm' 'vaccination' 'animal' 'health'\n",
      "  'agents' 'residues' 'swine' 'feedstuffs' 'dangerous' 'disinfestation'\n",
      "  'biosecurity' 'welfare' 'guernsey' 'feed' 'biological' 'disinfection'\n",
      "  'equine' 'inspection' 'pests' 'code' 'goats' 'additives' 'harmful'\n",
      "  'rodents' 'biosafety' 'cattle' 'pesticides' 'maximum' 'residue'\n",
      "  'hormones' 'prescription' 'diseases' 'sanitary' 'identification'\n",
      "  'limit' 'possession' 'quarantine' 'poultry' 'mrl' 'iceland' 'book']]\n"
     ]
    }
   ],
   "source": [
    "print(model.topic_words_reduced)"
   ]
  },
  {
   "cell_type": "code",
   "execution_count": 202,
   "metadata": {},
   "outputs": [
    {
     "data": {
      "text/plain": [
       "array(['viticulture', 'oenological', 'tribunal', 'court', 'herzegovina',\n",
       "       'beverages', 'tobacco', 'geographical', 'bosnia', 'indication',\n",
       "       'fraud', 'settlement', 'codex', 'inspection', 'lao',\n",
       "       'compensation', 'dispute', 'intellectual', 'labelling', 'trade',\n",
       "       'certification', 'justice', 'practices', 'consumer', 'lanka',\n",
       "       'liability', 'packaging', 'deceit', 'information', 'plant',\n",
       "       'haccp', 'traceability', 'alimentarius', 'offences', 'internal',\n",
       "       'tristan', 'adulteration', 'classification', 'singapore',\n",
       "       'breeders', 'access', 'seeds', 'commodities', 'vested', 'sugar',\n",
       "       'floriculture', 'veterinary', 'liechtenstein', 'legal',\n",
       "       'agricultural'], dtype='<U14')"
      ]
     },
     "execution_count": 202,
     "metadata": {},
     "output_type": "execute_result"
    }
   ],
   "source": [
    "model.topic_words_reduced[4]"
   ]
  },
  {
   "cell_type": "code",
   "execution_count": 82,
   "metadata": {},
   "outputs": [
    {
     "data": {
      "text/plain": [
       "array([['mesh', 'fishing', 'seasons', 'size', 'fishery', 'method',\n",
       "        'cartilaginous', 'catch', 'bycatch', 'fisheries', 'landing',\n",
       "        'prohibited', 'marine', 'total', 'allowable', 'charge',\n",
       "        'allocation', 'fishes', 'vessel', 'gear', 'quota', 'artisanal',\n",
       "        'foreign', 'commercial', 'diadromous', 'port', 'migratory',\n",
       "        'transshipment', 'turtles', 'mammals', 'molluscs', 'crustaceans',\n",
       "        'illegal', 'high', 'seas', 'inland', 'iuu', 'territorial',\n",
       "        'unregulated', 'area', 'exclusive', 'state', 'eez',\n",
       "        'enhancement', 'management', 'conservation', 'coral',\n",
       "        'unreported', 'repopulation', 'sea'],\n",
       "       ['floriculture', 'planting', 'seeds', 'material', 'fibre',\n",
       "        'plant', 'cane', 'beet', 'variety', 'vegetables', 'breeders',\n",
       "        'oleaginous', 'legumes', 'fruits', 'edible', 'nuts', 'sugar',\n",
       "        'certification', 'rice', 'tobacco', 'cereals', 'labelling',\n",
       "        'weeds', 'crops', 'oenological', 'production', 'packaging',\n",
       "        'tea', 'cocoa', 'grains', 'viticulture', 'quarantine',\n",
       "        'intellectual', 'coffee', 'trade', 'internal', 'pests',\n",
       "        'disinfestation', 'diseases', 'disinfection', 'post',\n",
       "        'classification', 'agents', 'treatment', 'registration',\n",
       "        'steroids', 'hormones', 'biological', 'hygiene', 'biotechnology'],\n",
       "       ['catch', 'allowable', 'total', 'bycatch', 'seasons', 'fishing',\n",
       "        'landing', 'size', 'marine', 'mesh', 'cartilaginous', 'fishery',\n",
       "        'fishes', 'method', 'quota', 'allocation', 'transshipment',\n",
       "        'fisheries', 'foreign', 'migratory', 'artisanal', 'vessel',\n",
       "        'high', 'mammals', 'gear', 'diadromous', 'commercial', 'illegal',\n",
       "        'port', 'eez', 'seas', 'prohibited', 'exclusive', 'charge',\n",
       "        'territorial', 'crustaceans', 'molluscs', 'area', 'iuu',\n",
       "        'management', 'conservation', 'sea', 'economic', 'unregulated',\n",
       "        'repopulation', 'enhancement', 'turtles', 'stock', 'state',\n",
       "        'inland'],\n",
       "       ['mesh', 'fishing', 'landing', 'seasons', 'size', 'fishery',\n",
       "        'catch', 'transshipment', 'bycatch', 'allowable',\n",
       "        'cartilaginous', 'fisheries', 'total', 'quota', 'foreign',\n",
       "        'method', 'allocation', 'marine', 'fishes', 'port', 'vessel',\n",
       "        'charge', 'illegal', 'migratory', 'high', 'diadromous',\n",
       "        'artisanal', 'seas', 'iuu', 'gear', 'commercial', 'territorial',\n",
       "        'exclusive', 'mammals', 'unregulated', 'state', 'prohibited',\n",
       "        'eez', 'turtles', 'unreported', 'molluscs', 'economic', 'sea',\n",
       "        'crustaceans', 'inland', 'harbour', 'management', 'continental',\n",
       "        'conservation', 'area'],\n",
       "       ['floriculture', 'nuts', 'fruits', 'edible', 'vegetables',\n",
       "        'legumes', 'condiments', 'sanitary', 'hygiene', 'fibre', 'pests',\n",
       "        'tobacco', 'procedures', 'coffee', 'spices', 'diseases', 'seeds',\n",
       "        'cocoa', 'tea', 'material', 'herbs', 'oleaginous', 'treated',\n",
       "        'planting', 'trade', 'oenological', 'labelling', 'plant', 'rice',\n",
       "        'cereals', 'limit', 'maximum', 'safety', 'quarantine', 'variety',\n",
       "        'mrl', 'rodents', 'sugar', 'poultry', 'meat', 'swine', 'residue',\n",
       "        'oils', 'disinfection', 'disinfestation', 'packaging', 'grains',\n",
       "        'cane', 'production', 'oilseeds'],\n",
       "       ['floriculture', 'vegetables', 'legumes', 'fruits', 'nuts',\n",
       "        'edible', 'coffee', 'fibre', 'tea', 'cocoa', 'sanitary', 'seeds',\n",
       "        'material', 'condiments', 'planting', 'hygiene', 'tobacco',\n",
       "        'labelling', 'pests', 'plant', 'oleaginous', 'oenological',\n",
       "        'procedures', 'grains', 'variety', 'rice', 'mrl', 'maximum',\n",
       "        'diseases', 'cereals', 'limit', 'trade', 'viticulture', 'spices',\n",
       "        'herbs', 'residue', 'treated', 'packaging', 'safety', 'fats',\n",
       "        'oilseeds', 'disinfection', 'rodents', 'meat', 'poultry', 'oils',\n",
       "        'certification', 'quarantine', 'internal', 'disinfestation'],\n",
       "       ['timber', 'forest', 'extraction', 'logging', 'clearing',\n",
       "        'inventory', 'service', 'fuelwood', 'forestry', 'reforestation',\n",
       "        'wood', 'afforestation', 'fires', 'recreational', 'agro',\n",
       "        'private', 'concession', 'fee', 'parks', 'framework', 'capture',\n",
       "        'conservation', 'species', 'protected', 'mountain', 'wetlands',\n",
       "        'hunting', 'expropriation', 'bank', 'basin', 'wild', 'grazing',\n",
       "        'contracts', 'ownership', 'lease', 'possession', 'zoning',\n",
       "        'medicinal', 'biosphere', 'servitude', 'erosion', 'fauna',\n",
       "        'harvesting', 'methods', 'community', 'charges', 'national',\n",
       "        'classification', 'adverse', 'collecting'],\n",
       "       ['port', 'transshipment', 'illegal', 'iuu', 'landing', 'foreign',\n",
       "        'fishing', 'unregulated', 'state', 'unreported', 'high', 'seas',\n",
       "        'mesh', 'cartilaginous', 'bycatch', 'vessel', 'migratory',\n",
       "        'harbour', 'fishery', 'fisheries', 'marine', 'charge', 'size',\n",
       "        'method', 'mammals', 'turtles', 'eez', 'territorial', 'fishes',\n",
       "        'exclusive', 'artisanal', 'seasons', 'quota', 'catch',\n",
       "        'allowable', 'total', 'gear', 'allocation', 'sea', 'mariculture',\n",
       "        'maritime', 'commercial', 'compliance', 'equipment', 'economic',\n",
       "        'navigation', 'continental', 'enforcement', 'aquaculture',\n",
       "        'coral'],\n",
       "       ['animal', 'hormones', 'steroids', 'slaughtering', 'swine',\n",
       "        'cattle', 'feedstuffs', 'equine', 'rodents', 'additives',\n",
       "        'sanitary', 'welfare', 'feed', 'poultry', 'mrl', 'book', 'drugs',\n",
       "        'vaccination', 'veterinary', 'hygiene', 'reproduction',\n",
       "        'maximum', 'sheep', 'procedures', 'camelids', 'toxicity',\n",
       "        'treated', 'residues', 'meat', 'residue', 'herd', 'limit',\n",
       "        'sericulture', 'goats', 'pests', 'disinfection', 'apiculture',\n",
       "        'health', 'diseases', 'poisoning', 'quarantine',\n",
       "        'disinfestation', 'insects', 'dairy', 'milk', 'birds', 'captive',\n",
       "        'inspection', 'safety', 'ranching'],\n",
       "       ['book', 'marking', 'equine', 'identification', 'herd', 'cattle',\n",
       "        'swine', 'camelids', 'sheep', 'goats', 'slaughtering', 'animal',\n",
       "        'vaccination', 'harmful', 'welfare', 'reproduction', 'rodents',\n",
       "        'poultry', 'dangerous', 'quarantine', 'ranching', 'disinfection',\n",
       "        'game', 'diseases', 'hormones', 'disinfestation', 'code',\n",
       "        'breeding', 'traceability', 'captive', 'animals', 'ipm',\n",
       "        'inspection', 'possession', 'birds', 'pests', 'strategies',\n",
       "        'meat', 'reptiles', 'ownership', 'wildlife', 'steroids',\n",
       "        'sanitary', 'prescription', 'health', 'adverse', 'turtles',\n",
       "        'apiculture', 'sericulture', 'pest']], dtype='<U15')"
      ]
     },
     "execution_count": 82,
     "metadata": {},
     "output_type": "execute_result"
    }
   ],
   "source": [
    "topic_words,word_scores,topic_nums = model.get_topics(10)\n",
    "topic_words"
   ]
  },
  {
   "cell_type": "code",
   "execution_count": 274,
   "metadata": {},
   "outputs": [
    {
     "name": "stdout",
     "output_type": "stream",
     "text": [
      "91\n"
     ]
    }
   ],
   "source": [
    "# Tæl hvor mange der er repelaed inden for et dato interval\n",
    "dates=data[\"Date of original text\"]\n",
    "repealed=data[\"Repealed\"]\n",
    "antal=0\n",
    "for i in range(1800,1970):\n",
    "    c=dates==str(i)\n",
    "    d=repealed==\"Y\"\n",
    "    antal+=sum(c*d)\n",
    "print(antal)\n"
   ]
  },
  {
   "cell_type": "code",
   "execution_count": null,
   "metadata": {},
   "outputs": [],
   "source": [
    "model.generate_topic_wordcloud(2)\n",
    "# 167 kunne godt være fødevare og børn"
   ]
  }
 ],
 "metadata": {
  "kernelspec": {
   "display_name": "Python 3.9.16 ('top2vec': venv)",
   "language": "python",
   "name": "python3"
  },
  "language_info": {
   "codemirror_mode": {
    "name": "ipython",
    "version": 3
   },
   "file_extension": ".py",
   "mimetype": "text/x-python",
   "name": "python",
   "nbconvert_exporter": "python",
   "pygments_lexer": "ipython3",
   "version": "3.9.16"
  },
  "orig_nbformat": 4,
  "vscode": {
   "interpreter": {
    "hash": "5f35e34d110ddf77291a333d8873e10bca0fc5162ed588aa5dded51d6b040b88"
   }
  }
 },
 "nbformat": 4,
 "nbformat_minor": 2
}
