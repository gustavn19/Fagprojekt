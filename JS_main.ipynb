{
 "cells": [
  {
   "cell_type": "code",
   "execution_count": 3,
   "metadata": {},
   "outputs": [
    {
     "name": "stdout",
     "output_type": "stream",
     "text": [
      "<class 'pandas.core.frame.DataFrame'>\n",
      "RangeIndex: 196437 entries, 0 to 196436\n",
      "Data columns (total 18 columns):\n",
      " #   Column                   Non-Null Count   Dtype \n",
      "---  ------                   --------------   ----- \n",
      " 0   Record Id                196437 non-null  object\n",
      " 1   Record URL               196437 non-null  object\n",
      " 2   Document URL             196424 non-null  object\n",
      " 3   Title                    196437 non-null  object\n",
      " 4   Original title           63159 non-null   object\n",
      " 5   Date of original text    196392 non-null  object\n",
      " 6   Last amended date        29052 non-null   object\n",
      " 7   Available website        149557 non-null  object\n",
      " 8   Language of document     196437 non-null  object\n",
      " 9   Country/Territory        195503 non-null  object\n",
      " 10  Regional organizations   1170 non-null    object\n",
      " 11  Territorial subdivision  31989 non-null   object\n",
      " 12  Type of text             196437 non-null  object\n",
      " 13  Repealed                 23182 non-null   object\n",
      " 14  Abstract                 196236 non-null  object\n",
      " 15  Primary subjects         196436 non-null  object\n",
      " 16  Domain                   196432 non-null  object\n",
      " 17  Keywords                 196432 non-null  object\n",
      "dtypes: object(18)\n",
      "memory usage: 27.0+ MB\n",
      "None\n"
     ]
    }
   ],
   "source": [
    "import pandas as pd\n",
    "data=pd.read_csv(\"FAOLEX_ALL.csv\")\n",
    "# print(data.keys())\n",
    "print(data.info())"
   ]
  }
 ],
 "metadata": {
  "kernelspec": {
   "display_name": "base",
   "language": "python",
   "name": "python3"
  },
  "language_info": {
   "codemirror_mode": {
    "name": "ipython",
    "version": 3
   },
   "file_extension": ".py",
   "mimetype": "text/x-python",
   "name": "python",
   "nbconvert_exporter": "python",
   "pygments_lexer": "ipython3",
   "version": "3.9.12"
  },
  "orig_nbformat": 4
 },
 "nbformat": 4,
 "nbformat_minor": 2
}
