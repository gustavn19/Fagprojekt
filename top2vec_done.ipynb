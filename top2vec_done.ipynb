{
 "cells": [
  {
   "cell_type": "code",
   "execution_count": 79,
   "metadata": {},
   "outputs": [
    {
     "name": "stdout",
     "output_type": "stream",
     "text": [
      "Index(['Record Id', 'Record URL', 'Document URL', 'Title', 'Original title',\n",
      "       'Date of original text', 'Last amended date', 'Available website',\n",
      "       'Language of document', 'Country/Territory', 'Regional organizations',\n",
      "       'Territorial subdivision', 'Type of text', 'Repealed', 'Abstract',\n",
      "       'Primary subjects', 'Domain', 'Keywords'],\n",
      "      dtype='object')\n"
     ]
    }
   ],
   "source": [
    "import pandas as pd\n",
    "import numpy as np\n",
    "import random\n",
    "data=pd.read_csv(\"FAOLEX_ALL.csv\")\n",
    "print(data.keys())\n",
    "np.random.seed(69)\n",
    "random.seed(69)"
   ]
  },
  {
   "cell_type": "code",
   "execution_count": 80,
   "metadata": {},
   "outputs": [],
   "source": [
    "# remve repealed legislation\n",
    "data[\"Repealed\"].fillna(value = \"N\", inplace=True)\n",
    "data[\"Repealed\"] = pd.Categorical(data[\"Repealed\"])\n",
    "data=data[data[\"Repealed\"]==\"N\"]\n"
   ]
  },
  {
   "cell_type": "code",
   "execution_count": 81,
   "metadata": {},
   "outputs": [],
   "source": [
    "import nltk\n",
    "keywords_nofilter=list(data[\"Keywords\"])\n",
    "country_nofilter=list(data[\"Country/Territory\"])\n",
    "i=0\n",
    "# Split alle keywords op i en liste og ændrer nan til at være en str med Nan\n",
    "for words in keywords_nofilter:\n",
    "    if type(words)!=str:\n",
    "        #print(\"type= \",type(words),\" Index = \", i)\n",
    "        words=\"NaN\"\n",
    "    if type(country_nofilter[i])!=str:\n",
    "        country_nofilter[i]=\"NaN\"\n",
    "    keywords_nofilter[i]=words.split(\";\")\n",
    "    i+=1\n"
   ]
  },
  {
   "cell_type": "code",
   "execution_count": 82,
   "metadata": {},
   "outputs": [],
   "source": [
    "#Remove Nan from keywords and countries\n",
    "keywords = []\n",
    "country = []\n",
    "\n",
    "for i in range(len(keywords_nofilter)):\n",
    "    if keywords_nofilter[i] != [\"NaN\"] and country_nofilter[i]!=\"NaN\":\n",
    "        keywords.append(keywords_nofilter[i])\n",
    "        country.append(country_nofilter[i])\n"
   ]
  },
  {
   "cell_type": "code",
   "execution_count": 83,
   "metadata": {},
   "outputs": [],
   "source": [
    "from top2vec import Top2Vec\n",
    "model = Top2Vec.load(\"top2vec_model\")"
   ]
  },
  {
   "cell_type": "code",
   "execution_count": 84,
   "metadata": {},
   "outputs": [],
   "source": [
    "# Compute uniqe countries --> i.e. remove agreement \"countries\" \n",
    "country_new=[]\n",
    "countries = {}\n",
    "i=0\n",
    "for coun in country:\n",
    "    if len(coun.split(\";\"))>=2:\n",
    "        for c in coun.split(\"; \"):\n",
    "            if c in countries.keys():\n",
    "                country_new.append(c)\n",
    "            else:\n",
    "                country_new.append(c)\n",
    "                countries[c]=i\n",
    "                i+=1\n",
    "    else:\n",
    "        if coun in countries.keys():\n",
    "            country_new.append(coun)\n",
    "        else:\n",
    "            country_new.append(coun)\n",
    "            countries[coun]=i\n",
    "            i+=1"
   ]
  },
  {
   "cell_type": "code",
   "execution_count": 85,
   "metadata": {},
   "outputs": [],
   "source": [
    "# Compute country x topic occurence matrix\n",
    "topic_sizes, topic_nums = model.get_topic_sizes(reduced=False)\n",
    "country_topic_matrix = np.zeros((len(set(country_new)),len(topic_nums)))\n",
    "\n",
    "for num in topic_nums:\n",
    "    # For each topic get the corresponding documents\n",
    "    documents, document_scores, document_ids = model.search_documents_by_topic(topic_num=num,num_docs=topic_sizes[num],reduced=False)\n",
    "    for id in document_ids:\n",
    "        # Find the documents' countries and add it to the co-occurence matrix\n",
    "        if len(country[id].split(\";\"))>=2:\n",
    "            for c in country[id].split(\"; \"):\n",
    "                 country_topic_matrix[countries[c],num] +=1\n",
    "        else:\n",
    "            country_topic_matrix[countries[country[id]],num] +=1\n",
    "\n"
   ]
  },
  {
   "cell_type": "code",
   "execution_count": 86,
   "metadata": {},
   "outputs": [],
   "source": [
    " \n",
    "def get_swap_dict(d):\n",
    "    return {v: k for k, v in d.items()}\n",
    "\n",
    "countries_swap = get_swap_dict(countries)\n",
    "\n",
    "#Standardisering\n",
    "#for i in range(len(countries)):\n",
    " #   country_topic_matrix[i,:]=country_topic_matrix[i,:]/country_new.count(countries_swap[i]) \n"
   ]
  },
  {
   "cell_type": "code",
   "execution_count": 87,
   "metadata": {},
   "outputs": [
    {
     "data": {
      "text/plain": [
       "(257, 257)"
      ]
     },
     "execution_count": 87,
     "metadata": {},
     "output_type": "execute_result"
    }
   ],
   "source": [
    "def square_rooted(x):\n",
    "        return np.sqrt(sum([a*a for a in x]))\n",
    "def co_occurence(country_new,similarity):\n",
    "    country_co_occurrence = np.zeros((len(set(country_new)),len(set(country_new))))\n",
    "\n",
    "    for i in range(len(set(country_new))):\n",
    "        for j in range(len(set(country_new))):\n",
    "            if similarity == \"correlation\":\n",
    "                # Correlation\n",
    "                country_co_occurrence[i,j] = np.exp(np.corrcoef(country_topic_matrix[i,:],country_topic_matrix[j,:])[0,1])/np.exp(1)\n",
    "            elif similarity == \"cosine\":\n",
    "                #Cosine similarity:\n",
    "                country_co_occurrence[i,j] = country_topic_matrix[i,:]@country_topic_matrix[j,:]/(square_rooted(country_topic_matrix[i,:])*square_rooted(country_topic_matrix[j,:]))\n",
    "            elif similarity == \"euclidean\":\n",
    "                # Eucledean distance\n",
    "                country_co_occurrence[i,j] = np.linalg.norm(country_topic_matrix[i,:]-country_topic_matrix[j,:])\n",
    "    if similarity == \"euclidean\":\n",
    "        country_co_occurrence=1-(country_co_occurrence/np.max(country_co_occurrence))\n",
    "        \n",
    "    return country_co_occurrence\n",
    "\n",
    "country_co_occurrence = co_occurence(country_new,\"correlation\")\n",
    "np.shape(country_co_occurrence)"
   ]
  },
  {
   "cell_type": "code",
   "execution_count": 88,
   "metadata": {},
   "outputs": [],
   "source": [
    "#Remove small islands\n",
    "\n",
    "for i in range(len(set(country_new))):\n",
    "    if country_new.count(countries_swap[i])<=20:\n",
    "        country_co_occurrence[i] =0\n",
    "        country_co_occurrence[:,i]=0"
   ]
  },
  {
   "cell_type": "code",
   "execution_count": 89,
   "metadata": {},
   "outputs": [],
   "source": [
    "from networkx.algorithms.community import girvan_newman\n",
    "import networkx as nx\n",
    "import itertools\n",
    "import matplotlib.pyplot as plt\n",
    "countries_swap_copy = countries_swap.copy()\n",
    "\n",
    "G = nx.Graph()\n",
    "\n",
    "size = country_co_occurrence.shape[0]\n",
    "\n",
    "\n",
    "G.add_nodes_from(range(size))\n",
    "\n",
    "for i in range(size):\n",
    "        for j in range(i+1, size):\n",
    "            if country_co_occurrence[i, j] != 0.0:\n",
    "            #if country_co_ocurrence[i, j] > 0.002:\n",
    "                G.add_edge(i, j, weight=country_co_occurrence[i, j])\n",
    "# Remove small isalnds\n",
    "for i in range(size):\n",
    "    if np.sum(country_co_occurrence[i])==0:\n",
    "        G.remove_node(i)\n",
    "        countries_swap_copy.pop(i)\n",
    "\n",
    "#plt.figure(figsize=(20, 20))\n",
    "#nx.draw_networkx(G, labels=countries_swap_copy,with_labels=True)\n",
    "#nx.draw_spring(G, labels=countries_swap,with_labels=True)"
   ]
  },
  {
   "cell_type": "code",
   "execution_count": 90,
   "metadata": {},
   "outputs": [],
   "source": [
    "from networkx.algorithms.community import louvain_communities\n",
    "resolution=np.arange(0.9,2.0,0.01)\n",
    "scores=np.zeros(len(resolution))\n",
    "j=0\n",
    "for res in resolution:\n",
    "    comms = louvain_communities(G,weight=\"weight\",resolution=res,seed=69)\n",
    "    unique_coms = np.unique(list(comms))\n",
    "    i=1\n",
    "    communities={}\n",
    "    for community in comms:\n",
    "        #print(\"c\",i)\n",
    "        com_countries = []\n",
    "        for c in community:\n",
    "            #print(countries_swap[c])\n",
    "            com_countries.append(c)\n",
    "        communities[i] = com_countries\n",
    "        i=i+1\n",
    "    for com in communities.values():\n",
    "        if len(com)==1:\n",
    "            scores[j]+=1\n",
    "        elif len(com)>=30:\n",
    "            scores[j]+=len(com)-29\n",
    "    j+=1"
   ]
  },
  {
   "cell_type": "code",
   "execution_count": 91,
   "metadata": {},
   "outputs": [
    {
     "name": "stdout",
     "output_type": "stream",
     "text": [
      "c 1\n",
      "Palestine\n",
      "Iraq\n",
      "c 2\n",
      "Czechia\n",
      "Latvia\n",
      "Croatia\n",
      "Belgium\n",
      "Georgia\n",
      "North Macedonia\n",
      "Bulgaria\n",
      "Slovakia\n",
      "Bosnia and Herzegovina\n",
      "Luxembourg\n",
      "Türkiye\n",
      "Italy\n",
      "Portugal\n",
      "San Marino\n",
      "Andorra\n",
      "Guernsey (UK)\n",
      "Serbia\n",
      "Estonia\n",
      "Netherlands (Kingdom of the)\n",
      "Finland\n",
      "France\n",
      "Germany\n",
      "Gibraltar (UK)\n",
      "Slovenia\n",
      "Malta\n",
      "Greece\n",
      "Austria\n",
      "Montenegro\n",
      "United Kingdom of Great Britain and Northern Ireland\n",
      "Poland\n",
      "Ireland\n",
      "c 3\n",
      "Saint Kitts and Nevis\n",
      "Saint Lucia\n",
      "Saint Vincent and the Grenadines\n",
      "c 4\n",
      "Taiwan Province of China\n",
      "China\n",
      "c 5\n",
      "Zanzibar (United Republic of Tanzania)\n",
      "Eritrea\n",
      "c 6\n",
      "Morocco\n",
      "c 7\n",
      "Democratic People's Republic of Korea\n",
      "United States of America\n",
      "c 8\n",
      "Honduras\n",
      "Mexico\n",
      "Nicaragua\n",
      "Peru\n",
      "Bolivia (Plurinational State of)\n",
      "Paraguay\n",
      "Colombia\n",
      "Venezuela (Bolivarian Republic of)\n",
      "Costa Rica\n",
      "Cuba\n",
      "Dominican Republic\n",
      "Ecuador\n",
      "El Salvador\n",
      "Guatemala\n",
      "c 9\n",
      "Lebanon\n",
      "Egypt\n",
      "Jordan\n",
      "Syrian Arab Republic\n",
      "c 10\n",
      "India\n",
      "Arunachal Pradesh (India)\n",
      "Jammu and Kashmir (India)\n",
      "c 11\n",
      "Liberia\n",
      "Suriname\n",
      "Indonesia\n",
      "Philippines\n",
      "Comoros\n",
      "c 12\n",
      "Guinea-Bissau\n",
      "c 13\n",
      "Myanmar\n",
      "Yemen\n",
      "Iran (Islamic Republic of)\n",
      "c 14\n",
      "Saint Helena, Ascension and Tristan da Cunha (UK)\n",
      "Botswana\n",
      "Norfolk Island (Australia)\n",
      "c 15\n",
      "Seychelles\n",
      "Solomon Islands\n",
      "Papua New Guinea\n",
      "Thailand\n",
      "Tuvalu\n",
      "British Virgin Islands (UK)\n",
      "Sao Tome and Principe\n",
      "Niue (New Zealand)\n",
      "Nauru\n",
      "Japan\n",
      "Cook Islands\n",
      "Kiribati\n",
      "Denmark\n",
      "Palau\n",
      "Somalia\n",
      "Libya\n",
      "Aruba (Netherlands)\n",
      "Sweden\n",
      "Turks and Caicos Islands (UK)\n",
      "Maldives\n",
      "Faroe Islands (Denmark)\n",
      "Netherlands Antilles (Netherlands)\n",
      "Pitcairn (UK)\n",
      "Tokelau (New Zealand)\n",
      "Equatorial Guinea\n",
      "Iceland\n",
      "Saudi Arabia\n",
      "c 16\n",
      "Qatar\n",
      "Kuwait\n",
      "United Arab Emirates\n",
      "Bahrain\n",
      "Oman\n",
      "c 17\n",
      "Sudan\n",
      "Bangladesh\n",
      "United Republic of Tanzania\n",
      "Eswatini\n",
      "Nepal\n",
      "Zambia\n",
      "Lao People's Democratic Republic\n",
      "Sierra Leone\n",
      "Cambodia\n",
      "Gambia\n",
      "Lesotho\n",
      "Uganda\n",
      "Zimbabwe\n",
      "Afghanistan\n",
      "Ethiopia\n",
      "Rwanda\n",
      "Ghana\n",
      "Malawi\n",
      "Namibia\n",
      "South Sudan\n",
      "c 18\n",
      "Albania\n",
      "Algeria\n",
      "Congo\n",
      "Benin\n",
      "Mauritania\n",
      "Côte d'Ivoire\n",
      "Central African Republic\n",
      "Burkina Faso\n",
      "Burundi\n",
      "Cameroon\n",
      "Togo\n",
      "Niger\n",
      "Chad\n",
      "Democratic Republic of the Congo\n",
      "Angola\n",
      "Timor-Leste\n",
      "Mozambique\n",
      "Madagascar\n",
      "Mali\n",
      "Djibouti\n",
      "Gabon\n",
      "Guinea\n",
      "Senegal\n",
      "Tunisia\n",
      "c 19\n",
      "French Guiana (France)\n",
      "Guadeloupe (France)\n",
      "Martinique (France)\n",
      "Réunion (France)\n",
      "New Caledonia (France)\n",
      "Mayotte (France)\n",
      "c 20\n",
      "Antigua and Barbuda\n",
      "Barbados\n",
      "Tonga\n",
      "Belize\n",
      "Bermuda (UK)\n",
      "Dominica\n",
      "Grenada\n",
      "Marshall Islands\n",
      "Montserrat (UK)\n",
      "Cayman Islands (UK)\n",
      "Guam (USA)\n",
      "Samoa\n",
      "Kenya\n",
      "Jamaica\n",
      "Vanuatu\n",
      "Northern Mariana Islands (USA)\n",
      "Fiji\n",
      "Bahamas\n",
      "Guyana\n",
      "Mauritius\n",
      "Micronesia (Federated States of)\n",
      "American Samoa (USA)\n",
      "Trinidad and Tobago\n",
      "c 21\n",
      "Jersey  (UK)\n",
      "French Polynesia (France)\n",
      "c 22\n",
      "Ukraine\n",
      "Republic of Moldova\n",
      "Lithuania\n",
      "Hungary\n",
      "Tajikistan\n",
      "Romania\n",
      "Mongolia\n",
      "Turkmenistan\n",
      "Azerbaijan\n",
      "Russian Federation\n",
      "Belarus\n",
      "Kazakhstan\n",
      "Kyrgyzstan\n",
      "Uzbekistan\n",
      "Armenia\n",
      "c 23\n",
      "Monaco\n",
      "Republic of Korea\n",
      "Viet Nam\n",
      "c 24\n",
      "Switzerland\n",
      "Liechtenstein\n",
      "Singapore\n",
      "Australia\n",
      "Canada\n",
      "Malaysia\n",
      "China, Hong Kong SAR\n",
      "c 25\n",
      "Cabo Verde\n",
      "Sri Lanka\n",
      "Brazil\n",
      "Brunei Darussalam\n",
      "c 26\n",
      "Bhutan\n",
      "Haiti\n",
      "c 27\n",
      "China, Macao SAR\n",
      "Madeira Islands (Portugal)\n",
      "Puerto Rico (USA)\n",
      "c 28\n",
      "Israel\n",
      "MERCOSUR\n",
      "Cyprus\n",
      "South Africa\n",
      "Panama\n",
      "Andean Community\n",
      "c 29\n",
      "Pakistan\n",
      "Nigeria\n",
      "c 30\n",
      "Isle of Man (UK)\n",
      "Greenland (Denmark)\n",
      "Saint Pierre and Miquelon (France)\n",
      "European Union\n",
      "Jan Mayen (Norway)\n",
      "Uruguay\n",
      "Svalbard (Norway)\n",
      "Spain\n",
      "Argentina\n",
      "Chile\n",
      "New Zealand\n",
      "Norway\n"
     ]
    }
   ],
   "source": [
    "res_op=np.argmin(scores)\n",
    "comms = louvain_communities(G,weight=\"weight\",resolution=resolution[res_op],seed=69)\n",
    "unique_coms = np.unique(list(comms))\n",
    "i=1\n",
    "communities={}\n",
    "for community in comms:\n",
    "        print(\"c\",i)\n",
    "        com_countries = []\n",
    "        for c in community:\n",
    "            print(countries_swap[c])\n",
    "            com_countries.append(c)\n",
    "        communities[i] = com_countries\n",
    "        i=i+1"
   ]
  },
  {
   "cell_type": "code",
   "execution_count": null,
   "metadata": {
    "collapsed": false
   },
   "outputs": [],
   "source": [
    "# saving graph created above in gexf format\n",
    "F = G.copy()\n",
    "\n",
    "#add labels\n",
    "for node_id, label in countries_swap_copy.items():\n",
    "    F.nodes[node_id]['label'] = label\n",
    "\n",
    "\n",
    "F_com = louvain_communities(F,weight=\"weight\",resolution=resolution[res_op],seed=69)\n",
    "for i, community in enumerate(F_com):\n",
    "    for node in community:\n",
    "        F.nodes[node]['community'] = i\n",
    "\n",
    "#make a file for gephi\n",
    "nx.write_gexf(F, \"t2v.gexf\")\n",
    "\n"
   ]
  },
  {
   "cell_type": "code",
   "execution_count": null,
   "metadata": {
    "collapsed": false
   },
   "outputs": [],
   "source": [
    "country_topic_matrix_prob =np.copy(country_topic_matrix)\n",
    "\n",
    "for i in range(np.shape(country_topic_matrix)[1]):\n",
    "    country_topic_matrix_prob[:,i] = country_topic_matrix_prob[:,i]/np.sum(country_topic_matrix_prob[:,1])\n",
    "i=1\n",
    "for com in communities.values():\n",
    "    topics_in_com=[]\n",
    "    if len(com)>1:\n",
    "        for c in com:\n",
    "            topics_in_com.append(np.argsort(country_topic_matrix_prob[c,:])[::-1][:30])\n",
    "        print(\"Topics i community\",i, \"er: \", set([x for x in np.concatenate(topics_in_com) if list(np.concatenate(topics_in_com)).count(x) >= 2*len(com)/3]))\n",
    "    i+=1"
   ]
  },
  {
   "cell_type": "markdown",
   "metadata": {},
   "source": [
    "## Compare communities to income"
   ]
  },
  {
   "cell_type": "code",
   "execution_count": 89,
   "metadata": {},
   "outputs": [
    {
     "name": "stdout",
     "output_type": "stream",
     "text": [
      "Index(['Economy', 'Code', 'Region', 'Income group', 'Lending category',\n",
      "       'Other (EMU or HIPC)'],\n",
      "      dtype='object')\n"
     ]
    }
   ],
   "source": [
    "import pandas as pd\n",
    "#country data\n",
    "income = pd.read_excel(\"CLASS.xlsx\")\n",
    "print(income.keys())"
   ]
  },
  {
   "cell_type": "code",
   "execution_count": 90,
   "metadata": {},
   "outputs": [],
   "source": [
    "\n",
    "income_countries = list(income[\"Economy\"])\n",
    "income_groups = list(income[\"Income group\"])\n",
    "income_listed_countries =[]\n",
    "countries_income_dic ={}\n",
    "for i in range(len(income_countries)):\n",
    "    for j in range(len(countries_swap)):\n",
    "        if income_countries[i] == countries_swap[j]:\n",
    "            income_listed_countries.append(j)\n",
    "            if income_groups[i] == \"Low income\":\n",
    "                countries_income_dic[j]= 0\n",
    "            elif income_groups[i] == \"Lower middle income\":\n",
    "                countries_income_dic[j]= 1\n",
    "            elif income_groups[i] == \"Upper middle income\":\n",
    "                countries_income_dic[j]= 2\n",
    "            elif income_groups[i] == \"High income\":\n",
    "                countries_income_dic[j]= 3\n",
    "missing_income_countries = []\n",
    "missing_income_countries_names=[]\n",
    "for i in countries_swap.keys():\n",
    "    if i not in income_listed_countries:\n",
    "        missing_income_countries.append(i)\n",
    "        missing_income_countries_names.append(countries_swap[i])\n"
   ]
  },
  {
   "cell_type": "code",
   "execution_count": 91,
   "metadata": {},
   "outputs": [
    {
     "name": "stdout",
     "output_type": "stream",
     "text": [
      "Match: Bermuda (UK) - Bermuda\n",
      "Match: British Virgin Islands (UK) - British Virgin Islands\n",
      "Match: United States of America - United States\n",
      "Match: Saint Kitts and Nevis - St. Kitts and Nevis\n",
      "Match: Saint Vincent and the Grenadines - St. Vincent and the Grenadines\n",
      "Match: Cayman Islands (UK) - Cayman Islands\n",
      "Match: Greenland (Denmark) - Denmark\n",
      "Match: China, Hong Kong SAR - Hong Kong SAR, China\n",
      "Match: Bolivia (Plurinational State of) - Bolivia\n",
      "Match: United Kingdom of Great Britain and Northern Ireland - United Kingdom\n",
      "Match: Côte d'Ivoire - Côte d’Ivoire\n",
      "Match: Sao Tome and Principe - São Tomé and Príncipe\n",
      "Match: Netherlands Antilles (Netherlands) - Netherlands\n",
      "Match: United Republic of Tanzania - Tanzania\n",
      "Match: Congo - Congo, Dem. Rep.\n",
      "Match: Viet Nam - Vietnam\n",
      "Match: Gambia - Gambia, The\n",
      "Match: French Guiana (France) - France\n",
      "Match: Niue (New Zealand) - New Zealand\n",
      "Match: Guadeloupe (France) - France\n",
      "Match: Martinique (France) - France\n",
      "Match: Réunion (France) - France\n",
      "Match: Egypt - Egypt, Arab Rep.\n",
      "Match: Bahamas - Bahamas, The\n",
      "Match: Mayotte (France) - France\n",
      "Match: Tokelau (New Zealand) - New Zealand\n",
      "Match: American Samoa (USA) - American Samoa\n",
      "Match: French Polynesia (France) - France\n",
      "Match: New Caledonia (France) - France\n",
      "Match: Wallis and Futuna Islands (France) - France\n",
      "Match: Yemen - Yemen, Rep.\n",
      "Match: Republic of Moldova - Moldova\n",
      "Match: Jan Mayen (Norway) - Norway\n",
      "Match: Svalbard (Norway) - Norway\n",
      "Match: Puerto Rico (USA) - Puerto Rico\n",
      "Match: China, Macao SAR - Macao SAR, China\n",
      "Match: Glorioso Island (France) - France\n",
      "Match: Taiwan Province of China - China\n",
      "Match: Guam (USA) - Guam\n",
      "Match: Norfolk Island (Australia) - Australia\n",
      "Match: Serbia and Montenegro - Montenegro\n",
      "Match: United States Virgin Islands - United States\n",
      "Match: Northern Mariana Islands (USA) - Northern Mariana Islands\n",
      "Match: Netherlands (Kingdom of the) - Netherlands\n",
      "Match: Aruba (Netherlands) - Aruba\n",
      "Match: Saint Pierre and Miquelon (France) - France\n",
      "Match: Turks and Caicos Islands (UK) - Turks and Caicos Islands\n",
      "Match: Gibraltar (UK) - Gibraltar\n",
      "Match: Juan de Nova Island (France) - France\n",
      "Match: Bassas da India (France) - France\n",
      "Match: Faroe Islands (Denmark) - Denmark\n",
      "Match: Tromelin Island (France) - France\n",
      "Match: Europa Island (France) - France\n",
      "Match: Clipperton Island (France) - France\n",
      "Match: Andaman and Nicobar Islands (India) - India\n",
      "Match: Arunachal Pradesh (India) - India\n",
      "Match: Jammu and Kashmir (India) - India\n",
      "Match: Madeira Islands (Portugal) - Portugal\n",
      "Match: South Georgia and the South Sandwich Islands (UK) - Georgia\n",
      "Match: Zanzibar (United Republic of Tanzania) - Tanzania\n",
      "Match: Saint Martin (France) - France\n",
      "Match: Kosovo (UNSCR 1244) - Kosovo\n",
      "Match: Sint Maarten (Netherlands) - Netherlands\n",
      "Match: Åland Islands (Finland) - Finland\n",
      "Match: Bonaire, Sint Eustatius and Saba (Netherlands) - Netherlands\n",
      "Match: Isle of Man (UK) - Isle of Man\n",
      "66\n",
      "matches found\n"
     ]
    }
   ],
   "source": [
    "from fuzzywuzzy import process\n",
    "matches = []\n",
    "threshold = 90  # Adjust the threshold as per your needs\n",
    "\n",
    "for country1 in missing_income_countries_names:\n",
    "    best_match = process.extractOne(country1, income_countries)\n",
    "    if best_match[1] >= threshold:\n",
    "        matches.append((country1, best_match[0]))\n",
    "\n",
    "\n",
    "# Print the matches\n",
    "for match in matches:\n",
    "    print(\"Match:\", match[0], \"-\", match[1])\n",
    "\n",
    "print(len(matches))\n",
    "print(\"matches found\")"
   ]
  },
  {
   "cell_type": "code",
   "execution_count": 92,
   "metadata": {},
   "outputs": [],
   "source": [
    "for i,j in matches:\n",
    "    if income_groups[income_countries.index(j)] == \"Low income\":\n",
    "        countries_income_dic[countries[i]]= 0\n",
    "    elif income_groups[income_countries.index(j)] == \"Lower middle income\":\n",
    "        countries_income_dic[countries[i]]= 1\n",
    "    elif income_groups[income_countries.index(j)] == \"Upper middle income\":\n",
    "        countries_income_dic[countries[i]]= 2\n",
    "    elif income_groups[income_countries.index(j)] == \"High income\":\n",
    "        countries_income_dic[countries[i]]= 3\n",
    "\n",
    "\n",
    "missing_income_countries = []\n",
    "missing_income_countries_names=[]\n",
    "for i in countries_swap.keys():\n",
    "    if i not in countries_income_dic.keys():\n",
    "        missing_income_countries.append(i)\n",
    "        missing_income_countries_names.append(countries_swap[i])"
   ]
  },
  {
   "cell_type": "code",
   "execution_count": 93,
   "metadata": {},
   "outputs": [],
   "source": [
    "extra_countries = [('Saint Barthélemy (FRA)',3),('Kyrgyzstan',1),('Andean Community',2),('Palestine',1),('Iran (Islamic Republic of)',1),('Slovakia',3),('Saint Helena, Ascension and Tristan da Cunha (UK)',3),('Jersey  (UK)',3),('Montserrat (UK)',3),('European Union',3),(\"Democratic People's Republic of Korea\",0),('Falkland Islands (Malvinas)',3),\n",
    "('Anguilla (UK)',3),('Cook Islands',3),('Micronesia (Federated States of)',1),('Republic of Korea',3),('MERCOSUR',2),('Democratic Republic of the Congo',0),('Guernsey (UK)',3),('Saint Lucia',2),('Czechia',3),('Venezuela (Bolivarian Republic of)',2),('Pitcairn (UK)',3),(\"Lao People's Democratic Republic\",1)]\n",
    "\n",
    "\n",
    "for i,j in extra_countries:\n",
    "    countries_income_dic[countries[i]]= j"
   ]
  },
  {
   "cell_type": "code",
   "execution_count": 68,
   "metadata": {},
   "outputs": [
    {
     "data": {
      "text/plain": [
       "<matplotlib.legend.Legend at 0x7faad7da41f0>"
      ]
     },
     "execution_count": 68,
     "metadata": {},
     "output_type": "execute_result"
    },
    {
     "data": {
      "image/png": "[encoded data removed]",
      "text/plain": [
       "<Figure size 2000x1000 with 1 Axes>"
      ]
     },
     "metadata": {},
     "output_type": "display_data"
    }
   ],
   "source": [
    "import matplotlib.pyplot as plt\n",
    "import matplotlib.patches as mpatches\n",
    "colors = ['b', 'g', 'r', 'c', 'm', 'y', 'k', 'n','b', 'g', 'r', 'c', 'm', 'y', 'k', 'n','b', 'g', 'r', 'c', 'm', 'y', 'k', 'n','b', 'g', 'r', 'c', 'm', 'y', 'k', 'w','b', 'g', 'r', 'c', 'm', 'y', 'k', 'w','b', 'g', 'r', 'c', 'm', 'y', 'k', 'w']\n",
    "plt.figure(figsize=(20, 10))\n",
    "for j in range(len(communities)):\n",
    "    for i in range(len(communities[j+1])):\n",
    "        if i == 0:\n",
    "            if countries_income_dic[communities[j+1][i]] == 0:\n",
    "                plt.bar(j+1, 1, color=\"#003f5c\",width=0.8,edgecolor=\"#000000\")\n",
    "            elif countries_income_dic[communities[j+1][i]] == 1:\n",
    "                plt.bar(j+1, 1, color=\"#7a5195\",width=0.8,edgecolor=\"#000000\")\n",
    "            elif countries_income_dic[communities[j+1][i]] == 2:\n",
    "                plt.bar(j+1, 1, color=\"#ef5675\",width=0.8,edgecolor=\"#000000\")\n",
    "            elif countries_income_dic[communities[j+1][i]] == 3:\n",
    "                plt.bar(j+1, 1, color=\"#ffa600\",width=0.8,edgecolor=\"#000000\")\n",
    "            h=1\n",
    "        else:\n",
    "            if countries_income_dic[communities[j+1][i]] == 0:\n",
    "                plt.bar(j+1, 1, bottom=h, color=\"#003f5c\",width=0.8,edgecolor=\"#000000\")\n",
    "            elif countries_income_dic[communities[j+1][i]] == 1:\n",
    "                plt.bar(j+1, 1, bottom=h, color=\"#7a5195\",width=0.8,edgecolor=\"#000000\")\n",
    "            elif countries_income_dic[communities[j+1][i]] == 2:\n",
    "                plt.bar(j+1, 1, bottom=h, color=\"#ef5675\",width=0.8,edgecolor=\"#000000\")\n",
    "            elif countries_income_dic[communities[j+1][i]] == 3:\n",
    "                plt.bar(j+1, 1, bottom=h, color=\"#ffa600\",width=0.8,edgecolor=\"#000000\")\n",
    "            h=h+1\n",
    "pop_a = mpatches.Patch(color='#003f5c', label=\"Low income\")\n",
    "pop_b = mpatches.Patch(color='#7a5195', label=\"Lower middle income\")\n",
    "pop_c = mpatches.Patch(color='#ef5675', label=\"Upper middle income\")\n",
    "pop_d = mpatches.Patch(color='#ffa600', label='High income')\n",
    "plt.legend(handles=[pop_a,pop_b,pop_c,pop_d])\n",
    "plt.xlabel(\"Community\")\n",
    "plt.ylabel(\"Number of countries in community\")\n",
    "plt.title(\"Countries in communities from Top2Vec model highlighted by income level\")"
   ]
  },
  {
   "cell_type": "code",
   "execution_count": 73,
   "metadata": {},
   "outputs": [
    {
     "name": "stdout",
     "output_type": "stream",
     "text": [
      "Saint Kitts and Nevis 3\n",
      "Saint Lucia 2\n",
      "Saint Vincent and the Grenadines 2\n"
     ]
    }
   ],
   "source": [
    "for c in communities[3]:\n",
    "    print(countries_swap[c],countries_income_dic[c])"
   ]
  },
  {
   "cell_type": "code",
   "execution_count": 96,
   "metadata": {},
   "outputs": [
    {
     "name": "stdout",
     "output_type": "stream",
     "text": [
      "Number of countries in different income groups + proportion\n",
      "Low:  28 0.10566037735849057\n",
      "Lower middle:  54 0.2037735849056604\n",
      "Upper middle:  54 0.2037735849056604\n",
      "High:  81 0.30566037735849055\n"
     ]
    }
   ],
   "source": [
    "print(\"Number of countries in different income groups + proportion\")\n",
    "print(\"Low: \",income_groups.count(\"Low income\"),income_groups.count(\"Low income\")/len(income_groups))\n",
    "low_p = income_groups.count(\"Low income\")/len(income_groups)\n",
    "print(\"Lower middle: \",income_groups.count(\"Lower middle income\"),income_groups.count(\"Lower middle income\")/len(income_groups))\n",
    "lowermiddle_p = income_groups.count(\"Lower middle income\")/len(income_groups)\n",
    "print(\"Upper middle: \",income_groups.count(\"Upper middle income\"),income_groups.count(\"Upper middle income\")/len(income_groups))\n",
    "uppermiddle_p = income_groups.count(\"Upper middle income\")/len(income_groups)\n",
    "print(\"High: \",income_groups.count(\"High income\"),income_groups.count(\"High income\")/len(income_groups))\n",
    "high_p = income_groups.count(\"High income\")/len(income_groups)"
   ]
  },
  {
   "cell_type": "markdown",
   "metadata": {},
   "source": [
    "# Governance"
   ]
  },
  {
   "cell_type": "code",
   "execution_count": 97,
   "metadata": {},
   "outputs": [
    {
     "name": "stdout",
     "output_type": "stream",
     "text": [
      "Index(['Country/Territory', 'Estimate'], dtype='object')\n"
     ]
    }
   ],
   "source": [
    "#country governance data\n",
    "governance = pd.read_excel(\"governence data update.xlsx\")\n",
    "print(governance.keys())\n",
    "governance_country = []\n",
    "categorized_governance = []\n",
    "\n",
    "for est,c in zip(governance[\"Estimate\"],governance[\"Country/Territory\"]):\n",
    "    if est >=1:\n",
    "        categorized_governance.append(3)\n",
    "        governance_country.append(c)\n",
    "    elif est>=0 and est<1:\n",
    "        categorized_governance.append(2)\n",
    "        governance_country.append(c)\n",
    "    elif est>-1 and est<0:\n",
    "        categorized_governance.append(1)\n",
    "        governance_country.append(c)\n",
    "    elif est<=-1:\n",
    "        categorized_governance.append(0)\n",
    "        governance_country.append(c)"
   ]
  },
  {
   "cell_type": "code",
   "execution_count": 98,
   "metadata": {},
   "outputs": [],
   "source": [
    "#income_countries = list(income[\"Economy\"])\n",
    "#income_groups = list(income[\"Income group\"])\n",
    "governance_listed_countries =[]\n",
    "governance_dic={}\n",
    "for i in range(len(governance_country)):\n",
    "    for j in range(len(countries_swap)):\n",
    "        if governance_country[i] == countries_swap[j]:\n",
    "            governance_listed_countries.append(j)\n",
    "            governance_dic[j]=categorized_governance[i]\n",
    "missing_gov_countries = []\n",
    "missing_gov_countries_names=[]\n",
    "for i in countries_swap.keys():\n",
    "    if i not in governance_listed_countries:\n",
    "        missing_gov_countries.append(i)\n",
    "        missing_gov_countries_names.append(countries_swap[i])"
   ]
  },
  {
   "cell_type": "code",
   "execution_count": 99,
   "metadata": {},
   "outputs": [
    {
     "name": "stdout",
     "output_type": "stream",
     "text": [
      "Match: United States of America - United States\n",
      "Match: Saint Kitts and Nevis - St. Kitts and Nevis\n",
      "Match: Saint Vincent and the Grenadines - St. Vincent and the Grenadines\n",
      "Match: Cayman Islands (UK) - Cayman Islands\n",
      "Match: Greenland (Denmark) - Denmark\n",
      "Match: China, Hong Kong SAR - Hong Kong SAR, China\n",
      "Match: Bolivia (Plurinational State of) - Bolivia\n",
      "Match: United Kingdom of Great Britain and Northern Ireland - United Kingdom\n",
      "Match: Sao Tome and Principe - São Tomé and Principe\n",
      "Match: Netherlands Antilles (Netherlands) - Netherlands\n",
      "Match: United Republic of Tanzania - Tanzania\n",
      "Match: Congo - Congo, Rep.\n",
      "Match: Viet Nam - Vietnam\n",
      "Match: Gambia - Gambia, The\n",
      "Match: French Guiana (France) - France\n",
      "Match: Niue (New Zealand) - Niue\n",
      "Match: Guadeloupe (France) - France\n",
      "Match: Martinique (France) - France\n",
      "Match: Réunion (France) - France\n",
      "Match: Egypt - Egypt, Arab Rep.\n",
      "Match: Bahamas - Bahamas, The\n",
      "Match: Mayotte (France) - France\n",
      "Match: Tokelau (New Zealand) - New Zealand\n",
      "Match: American Samoa (USA) - American Samoa\n",
      "Match: French Polynesia (France) - France\n",
      "Match: New Caledonia (France) - France\n",
      "Match: Wallis and Futuna Islands (France) - France\n",
      "Match: Yemen - Yemen, Rep.\n",
      "Match: Republic of Moldova - Moldova\n",
      "Match: Jan Mayen (Norway) - Norway\n",
      "Match: Svalbard (Norway) - Norway\n",
      "Match: Puerto Rico (USA) - Puerto Rico\n",
      "Match: China, Macao SAR - Macao SAR, China\n",
      "Match: Glorioso Island (France) - France\n",
      "Match: Taiwan Province of China - China\n",
      "Match: Guam (USA) - Guam\n",
      "Match: Norfolk Island (Australia) - Australia\n",
      "Match: Serbia and Montenegro - Montenegro\n",
      "Match: United States Virgin Islands - United States\n",
      "Match: Netherlands (Kingdom of the) - Netherlands\n",
      "Match: Aruba (Netherlands) - Aruba\n",
      "Match: Saint Pierre and Miquelon (France) - France\n",
      "Match: Juan de Nova Island (France) - France\n",
      "Match: Bassas da India (France) - France\n",
      "Match: Faroe Islands (Denmark) - Denmark\n",
      "Match: Tromelin Island (France) - France\n",
      "Match: Europa Island (France) - France\n",
      "Match: Clipperton Island (France) - France\n",
      "Match: Andaman and Nicobar Islands (India) - India\n",
      "Match: Arunachal Pradesh (India) - India\n",
      "Match: Jammu and Kashmir (India) - India\n",
      "Match: Madeira Islands (Portugal) - Portugal\n",
      "Match: South Georgia and the South Sandwich Islands (UK) - Georgia\n",
      "Match: Zanzibar (United Republic of Tanzania) - Tanzania\n",
      "Match: Saint Martin (France) - France\n",
      "Match: Kosovo (UNSCR 1244) - Kosovo\n",
      "Match: Sint Maarten (Netherlands) - Netherlands\n",
      "Match: Åland Islands (Finland) - Finland\n",
      "Match: Bonaire, Sint Eustatius and Saba (Netherlands) - Netherlands\n",
      "59\n",
      "matches found\n"
     ]
    }
   ],
   "source": [
    "from fuzzywuzzy import process\n",
    "matches = []\n",
    "threshold = 90  # Adjust the threshold as per your needs\n",
    "\n",
    "for country1 in missing_gov_countries_names:\n",
    "    best_match = process.extractOne(country1, governance_country)\n",
    "    if best_match[1] >= threshold:\n",
    "        matches.append((country1, best_match[0]))\n",
    "\n",
    "\n",
    "# Print the matches\n",
    "for match in matches:\n",
    "    print(\"Match:\", match[0], \"-\", match[1])\n",
    "\n",
    "print(len(matches))\n",
    "print(\"matches found\")"
   ]
  },
  {
   "cell_type": "code",
   "execution_count": 100,
   "metadata": {},
   "outputs": [],
   "source": [
    "for i,j in matches:\n",
    "    governance_dic[countries[i]]=categorized_governance[governance_country.index(j)]\n",
    "\n",
    "missing_gov_countries = []\n",
    "missing_gov_countries_names=[]\n",
    "for i in countries_swap.keys():\n",
    "    if i not in governance_dic.keys():\n",
    "        missing_gov_countries.append(i)\n",
    "        missing_gov_countries_names.append(countries_swap[i])"
   ]
  },
  {
   "cell_type": "code",
   "execution_count": 101,
   "metadata": {},
   "outputs": [],
   "source": [
    "# Extra countries, 5 = Nan\n",
    "extra_countries = [('Saint Barthélemy (FRA)',5),(\"Isle of Man (UK)\",5),('Kyrgyzstan',1),('Andean Community',5),('Palestine',0),('Iran (Islamic Republic of)',0),('Slovakia',2),(\"Curaçao\",5),('Saint Helena, Ascension and Tristan da Cunha (UK)',5),('Jersey  (UK)',3),('Montserrat (UK)',3),(\"Bermuda (UK)\",5),(\"Cabo Verde\",5),('European Union',5),(\"Democratic People's Republic of Korea\",0),('Falkland Islands (Malvinas)',5),\n",
    "('Anguilla (UK)',5),('Cook Islands',3),('Micronesia (Federated States of)',3),('Republic of Korea',2),(\"Northern Mariana Islands (USA)\",3),('MERCOSUR',5),(\"British Virgin Islands (UK)\",5),('Democratic Republic of the Congo',0),('Guernsey (UK)',3),('Saint Lucia',2),('Czechia',3),('Venezuela (Bolivarian Republic of)',0),('Pitcairn (UK)',3),(\"Lao People's Democratic Republic\",0),(\"Turks and Caicos Islands (UK)\",5),(\"Gibraltar (UK)\",5),\n",
    "(\"Taiwan Province of China\",3),(\"South Georgia and the South Sandwich Islands (UK)\",5)]\n",
    "\n",
    "\n",
    "for i,j in extra_countries:\n",
    "    governance_dic[countries[i]]= j"
   ]
  },
  {
   "cell_type": "code",
   "execution_count": 77,
   "metadata": {},
   "outputs": [
    {
     "data": {
      "text/plain": [
       "Text(0.5, 1.0, 'plot')"
      ]
     },
     "execution_count": 77,
     "metadata": {},
     "output_type": "execute_result"
    },
    {
     "data": {
      "image/png": "[encoded data removed]",
      "text/plain": [
       "<Figure size 2000x1000 with 1 Axes>"
      ]
     },
     "metadata": {},
     "output_type": "display_data"
    }
   ],
   "source": [
    "plt.figure(figsize=(20, 10))\n",
    "for j in range(len(communities)):\n",
    "    for i in range(len(communities[j+1])):\n",
    "        if i == 0:\n",
    "            if governance_dic[communities[j+1][i]] == 0:\n",
    "                plt.bar(j+1, 1, color=\"#003f5c\",width=0.8,edgecolor=\"#000000\")\n",
    "            elif governance_dic[communities[j+1][i]] == 1:\n",
    "                plt.bar(j+1, 1, color=\"#7a5195\",width=0.8,edgecolor=\"#000000\")\n",
    "            elif governance_dic[communities[j+1][i]] == 2:\n",
    "                plt.bar(j+1, 1, color=\"#ef5675\",width=0.8,edgecolor=\"#000000\")\n",
    "            elif governance_dic[communities[j+1][i]] == 3:\n",
    "                plt.bar(j+1, 1, color=\"#ffa600\",width=0.8,edgecolor=\"#000000\")\n",
    "            elif governance_dic[communities[j+1][i]] == 5:\n",
    "                plt.bar(j+1, 1, color=\"#808080\",width=0.8,edgecolor=\"#000000\")\n",
    "            h=1\n",
    "        else:\n",
    "            if governance_dic[communities[j+1][i]] == 0:\n",
    "                plt.bar(j+1, 1, bottom=h, color=\"#003f5c\",width=0.8,edgecolor=\"#000000\")\n",
    "            elif governance_dic[communities[j+1][i]] == 1:\n",
    "                plt.bar(j+1, 1, bottom=h, color=\"#7a5195\",width=0.8,edgecolor=\"#000000\")\n",
    "            elif governance_dic[communities[j+1][i]] == 2:\n",
    "                plt.bar(j+1, 1, bottom=h, color=\"#ef5675\",width=0.8,edgecolor=\"#000000\")\n",
    "            elif governance_dic[communities[j+1][i]] == 3:\n",
    "                plt.bar(j+1, 1, bottom=h, color=\"#ffa600\",width=0.8,edgecolor=\"#000000\")\n",
    "            elif governance_dic[communities[j+1][i]] == 5:\n",
    "                plt.bar(j+1, 1, bottom=h, color=\"#808080\",width=0.8,edgecolor=\"#000000\")\n",
    "            h=h+1\n",
    "pop_a = mpatches.Patch(color='#003f5c', label=\"Weak Government Effectiveness\")\n",
    "pop_b = mpatches.Patch(color='#7a5195', label=\"Lower Middle Government Effectiveness\")\n",
    "pop_c = mpatches.Patch(color='#ef5675', label=\"Upper Middle Government Effectiveness\")\n",
    "pop_d = mpatches.Patch(color='#ffa600', label='Strong Government Effectiveness')\n",
    "pop_e = mpatches.Patch(color='#808080', label='No data')\n",
    "plt.legend(handles=[pop_a,pop_b,pop_c,pop_d,pop_e])\n",
    "plt.xlabel(\"Community\")\n",
    "plt.ylabel(\"Number of countries in community\")\n",
    "plt.title(\"Countries in communities from Top2Vec model highlighted by government effectiveness\")"
   ]
  },
  {
   "cell_type": "code",
   "execution_count": 103,
   "metadata": {},
   "outputs": [
    {
     "name": "stdout",
     "output_type": "stream",
     "text": [
      "Bhutan 2\n",
      "Haiti 1\n"
     ]
    }
   ],
   "source": [
    "for c in communities[26]:\n",
    "    print(countries_swap[c],governance_dic[c])"
   ]
  },
  {
   "cell_type": "code",
   "execution_count": 104,
   "metadata": {},
   "outputs": [
    {
     "name": "stdout",
     "output_type": "stream",
     "text": [
      "Number of countries in different government effectiveness classes + proportion\n",
      "Low:  44 0.1660377358490566\n",
      "Lower middle:  54 0.2037735849056604\n",
      "Upper middle:  72 0.27169811320754716\n",
      "High:  72 0.27169811320754716\n"
     ]
    }
   ],
   "source": [
    "print(\"Number of countries in different government effectiveness classes + proportion\")\n",
    "low_p = list(governance_dic.values()).count(0)/len(income_groups)\n",
    "print(\"Low: \",list(governance_dic.values()).count(0),low_p)\n",
    "lowermiddle_p = list(governance_dic.values()).count(1)/len(income_groups)\n",
    "print(\"Lower middle: \",list(governance_dic.values()).count(1),lowermiddle_p)\n",
    "uppermiddle_p = list(governance_dic.values()).count(2)/len(income_groups)\n",
    "print(\"Upper middle: \",list(governance_dic.values()).count(2),uppermiddle_p)\n",
    "high_p = list(governance_dic.values()).count(3)/len(income_groups)\n",
    "print(\"High: \",list(governance_dic.values()).count(3),high_p)\n"
   ]
  },
  {
   "cell_type": "markdown",
   "metadata": {},
   "source": [
    "# Temperature"
   ]
  },
  {
   "cell_type": "code",
   "execution_count": 105,
   "metadata": {},
   "outputs": [
    {
     "name": "stdout",
     "output_type": "stream",
     "text": [
      "Index(['country', 'averageTemperature'], dtype='object')\n"
     ]
    }
   ],
   "source": [
    "#country tempreature data\n",
    "temperature = pd.read_excel(\"hottest-countries-in-the-world-2023.xlsx\")\n",
    "print(temperature.keys())\n",
    "temperature_country = list(temperature[\"country\"])\n",
    "temp = list(temperature[\"averageTemperature\"])\n"
   ]
  },
  {
   "cell_type": "code",
   "execution_count": 106,
   "metadata": {},
   "outputs": [],
   "source": [
    "for i in range(len(temp)):\n",
    "    if temp[i]<=5:\n",
    "        temp[i]=0\n",
    "    elif temp[i]> 5 and temp[i]<=14:\n",
    "        temp[i]=1\n",
    "    elif temp[i]>14 and temp[i]<=23:\n",
    "        temp[i]=2\n",
    "    elif temp[i] >23:\n",
    "        temp[i]=3"
   ]
  },
  {
   "cell_type": "code",
   "execution_count": 107,
   "metadata": {},
   "outputs": [],
   "source": [
    "temp_listed_countries =[]\n",
    "temp_dic={}\n",
    "for i in range(len(temperature_country)):\n",
    "    for j in range(len(countries_swap)):\n",
    "        if temperature_country[i] == countries_swap[j]:\n",
    "            temp_listed_countries.append(j)\n",
    "            temp_dic[j]=temp[i]\n",
    "missing_temp_countries = []\n",
    "missing_temp_countries_names=[]\n",
    "for i in countries_swap.keys():\n",
    "    if i not in temp_listed_countries:\n",
    "        missing_temp_countries.append(i)\n",
    "        missing_temp_countries_names.append(countries_swap[i])"
   ]
  },
  {
   "cell_type": "code",
   "execution_count": 108,
   "metadata": {},
   "outputs": [],
   "source": [
    "for c in countries_swap.keys():\n",
    "    if c not in temp_dic.keys():\n",
    "        temp_dic[c] = \"NaN\""
   ]
  },
  {
   "cell_type": "code",
   "execution_count": 78,
   "metadata": {},
   "outputs": [
    {
     "data": {
      "text/plain": [
       "Text(0.5, 1.0, 'Conutries in communities from Top2Vec model highlighted by mean temperature')"
      ]
     },
     "execution_count": 78,
     "metadata": {},
     "output_type": "execute_result"
    },
    {
     "data": {
      "image/png": "[encoded data removed]",
      "text/plain": [
       "<Figure size 2000x1000 with 1 Axes>"
      ]
     },
     "metadata": {},
     "output_type": "display_data"
    }
   ],
   "source": [
    "plt.figure(figsize=(20, 10))\n",
    "for j in range(len(communities)):\n",
    "    for i in range(len(communities[j+1])):\n",
    "        if i == 0:\n",
    "            if temp_dic[communities[j+1][i]] == 0:\n",
    "                plt.bar(j+1, 1, color=\"#003f5c\",width=0.8,edgecolor=\"#000000\")\n",
    "            elif temp_dic[communities[j+1][i]] == 1:\n",
    "                plt.bar(j+1, 1, color=\"#7a5195\",width=0.8,edgecolor=\"#000000\")\n",
    "            elif temp_dic[communities[j+1][i]] == 2:\n",
    "                plt.bar(j+1, 1, color=\"#ef5675\",width=0.8,edgecolor=\"#000000\")\n",
    "            elif temp_dic[communities[j+1][i]] == 3:\n",
    "                plt.bar(j+1, 1, color=\"#ffa600\",width=0.8,edgecolor=\"#000000\")\n",
    "            elif temp_dic[communities[j+1][i]] == \"NaN\":\n",
    "                plt.bar(j+1, 1, color=\"#808080\",width=0.8,edgecolor=\"#000000\")\n",
    "            h=1\n",
    "        else:\n",
    "            if temp_dic[communities[j+1][i]] == 0:\n",
    "                plt.bar(j+1, 1, bottom=h, color=\"#003f5c\",width=0.8,edgecolor=\"#000000\")\n",
    "            elif temp_dic[communities[j+1][i]] == 1:\n",
    "                plt.bar(j+1, 1, bottom=h, color=\"#7a5195\",width=0.8,edgecolor=\"#000000\")\n",
    "            elif temp_dic[communities[j+1][i]] == 2:\n",
    "                plt.bar(j+1, 1, bottom=h, color=\"#ef5675\",width=0.8,edgecolor=\"#000000\")\n",
    "            elif temp_dic[communities[j+1][i]] == 3:\n",
    "                plt.bar(j+1, 1, bottom=h, color=\"#ffa600\",width=0.8,edgecolor=\"#000000\")\n",
    "            elif temp_dic[communities[j+1][i]] == \"NaN\":\n",
    "                plt.bar(j+1, 1, bottom=h, color=\"#808080\",width=0.8,edgecolor=\"#000000\")\n",
    "            h=h+1\n",
    "pop_a = mpatches.Patch(color='#003f5c', label=\"Low temperature\")\n",
    "pop_b = mpatches.Patch(color='#7a5195', label=\"Lower Middle Temperature\")\n",
    "pop_c = mpatches.Patch(color='#ef5675', label=\"Upper Middle Temperature\")\n",
    "pop_d = mpatches.Patch(color='#ffa600', label='High Temperature')\n",
    "pop_e = mpatches.Patch(color='#808080', label='No data')\n",
    "plt.legend(handles=[pop_a,pop_b,pop_c,pop_d,pop_e])\n",
    "plt.xlabel(\"Community\")\n",
    "plt.ylabel(\"Number of countries in community\")\n",
    "plt.title(\"Countries in communities from Top2Vec model highlighted by mean temperature\")"
   ]
  },
  {
   "cell_type": "code",
   "execution_count": 110,
   "metadata": {},
   "outputs": [
    {
     "name": "stdout",
     "output_type": "stream",
     "text": [
      "Myanmar 1\n",
      "Yemen 3\n",
      "Iran (Islamic Republic of) 2\n"
     ]
    }
   ],
   "source": [
    "for c in communities[12]:\n",
    "    print(countries_swap[c],temp_dic[c])"
   ]
  },
  {
   "cell_type": "code",
   "execution_count": 111,
   "metadata": {},
   "outputs": [
    {
     "name": "stdout",
     "output_type": "stream",
     "text": [
      "Number of countries in different temperature classes + proportion\n",
      "Low:  9 0.04712041884816754\n",
      "Lower middle:  52 0.27225130890052357\n",
      "Upper middle:  41 0.21465968586387435\n",
      "High:  87 0.45549738219895286\n"
     ]
    }
   ],
   "source": [
    "print(\"Number of countries in different temperature classes + proportion\")\n",
    "low_p = list(temp_dic.values()).count(0)/len(temp)\n",
    "print(\"Low: \",list(temp_dic.values()).count(0),low_p)\n",
    "lowermiddle_p = list(temp_dic.values()).count(1)/len(temp)\n",
    "print(\"Lower middle: \",list(temp_dic.values()).count(1),lowermiddle_p)\n",
    "uppermiddle_p = list(temp_dic.values()).count(2)/len(temp)\n",
    "print(\"Upper middle: \",list(temp_dic.values()).count(2),uppermiddle_p)\n",
    "high_p = list(temp_dic.values()).count(3)/len(temp)\n",
    "print(\"High: \",list(temp_dic.values()).count(3),high_p)"
   ]
  }
 ],
 "metadata": {
  "kernelspec": {
   "display_name": "Python 3.9.16 ('base')",
   "language": "python",
   "name": "python3"
  },
  "language_info": {
   "name": "python",
   "version": "3.9.16"
  },
  "orig_nbformat": 4,
  "vscode": {
   "interpreter": {
    "hash": "2d6823c3c2b982c4c23d5cf67b2c8c8d3aa4d88d1118d558bbf6c63cb31594e2"
   }
  }
 },
 "nbformat": 4,
 "nbformat_minor": 2
}
