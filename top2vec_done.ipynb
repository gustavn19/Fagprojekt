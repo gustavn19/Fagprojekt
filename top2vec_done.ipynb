{
 "cells": [
  {
   "cell_type": "code",
   "execution_count": null,
   "metadata": {},
   "outputs": [],
   "source": [
    "import pandas as pd\n",
    "import numpy as np\n",
    "import random\n",
    "data=pd.read_csv(\"FAOLEX_ALL.csv\")\n",
    "print(data.keys())\n",
    "np.random.seed(69)\n",
    "random.seed(69)"
   ]
  },
  {
   "cell_type": "code",
   "execution_count": null,
   "metadata": {},
   "outputs": [],
   "source": [
    "# remve repealed legislation\n",
    "data[\"Repealed\"].fillna(value = \"N\", inplace=True)\n",
    "data[\"Repealed\"] = pd.Categorical(data[\"Repealed\"])\n",
    "data=data[data[\"Repealed\"]==\"N\"]\n"
   ]
  },
  {
   "cell_type": "code",
   "execution_count": null,
   "metadata": {},
   "outputs": [],
   "source": [
    "import nltk\n",
    "keywords_nofilter=list(data[\"Keywords\"])\n",
    "country_nofilter=list(data[\"Country/Territory\"])\n",
    "i=0\n",
    "# Split alle keywords op i en liste og ændrer nan til at være en str med Nan\n",
    "for words in keywords_nofilter:\n",
    "    if type(words)!=str:\n",
    "        #print(\"type= \",type(words),\" Index = \", i)\n",
    "        words=\"NaN\"\n",
    "    if type(country_nofilter[i])!=str:\n",
    "        country_nofilter[i]=\"NaN\"\n",
    "    keywords_nofilter[i]=words.split(\";\")\n",
    "    i+=1\n"
   ]
  },
  {
   "cell_type": "code",
   "execution_count": null,
   "metadata": {},
   "outputs": [],
   "source": [
    "#Remove Nan from keywords and countries\n",
    "keywords = []\n",
    "country = []\n",
    "\n",
    "for i in range(len(keywords_nofilter)):\n",
    "    if keywords_nofilter[i] != [\"NaN\"] and country_nofilter[i]!=\"NaN\":\n",
    "        keywords.append(keywords_nofilter[i])\n",
    "        country.append(country_nofilter[i])\n"
   ]
  },
  {
   "cell_type": "code",
   "execution_count": null,
   "metadata": {},
   "outputs": [],
   "source": [
    "from top2vec import Top2Vec\n",
    "model = Top2Vec.load(\"top2vec_model\")"
   ]
  },
  {
   "cell_type": "code",
   "execution_count": null,
   "metadata": {},
   "outputs": [],
   "source": [
    "# Compute uniqe countries --> i.e. remove agreement \"countries\" \n",
    "country_new=[]\n",
    "countries = {}\n",
    "i=0\n",
    "for coun in country:\n",
    "    if len(coun.split(\";\"))>=2:\n",
    "        for c in coun.split(\"; \"):\n",
    "            if c in countries.keys():\n",
    "                country_new.append(c)\n",
    "            else:\n",
    "                country_new.append(c)\n",
    "                countries[c]=i\n",
    "                i+=1\n",
    "    else:\n",
    "        if coun in countries.keys():\n",
    "            country_new.append(coun)\n",
    "        else:\n",
    "            country_new.append(coun)\n",
    "            countries[coun]=i\n",
    "            i+=1"
   ]
  },
  {
   "cell_type": "code",
   "execution_count": null,
   "metadata": {},
   "outputs": [],
   "source": [
    "# Compute country x topic occurence matrix\n",
    "topic_sizes, topic_nums = model.get_topic_sizes(reduced=False)\n",
    "country_topic_matrix = np.zeros((len(set(country_new)),len(topic_nums)))\n",
    "\n",
    "for num in topic_nums:\n",
    "    # For each topic get the corresponding documents\n",
    "    documents, document_scores, document_ids = model.search_documents_by_topic(topic_num=num,num_docs=topic_sizes[num],reduced=False)\n",
    "    for id in document_ids:\n",
    "        # Find the documents' countries and add it to the co-occurence matrix\n",
    "        if len(country[id].split(\";\"))>=2:\n",
    "            for c in country[id].split(\"; \"):\n",
    "                 country_topic_matrix[countries[c],num] +=1\n",
    "        else:\n",
    "            country_topic_matrix[countries[country[id]],num] +=1\n",
    "\n"
   ]
  },
  {
   "cell_type": "code",
   "execution_count": null,
   "metadata": {},
   "outputs": [],
   "source": [
    " \n",
    "def get_swap_dict(d):\n",
    "    return {v: k for k, v in d.items()}\n",
    "\n",
    "countries_swap = get_swap_dict(countries)\n",
    "\n",
    "#Standardisering\n",
    "#for i in range(len(countries)):\n",
    " #   country_topic_matrix[i,:]=country_topic_matrix[i,:]/country_new.count(countries_swap[i]) \n"
   ]
  },
  {
   "cell_type": "code",
   "execution_count": null,
   "metadata": {},
   "outputs": [],
   "source": [
    "def square_rooted(x):\n",
    "        return np.sqrt(sum([a*a for a in x]))\n",
    "def co_occurence(country_new,similarity):\n",
    "    country_co_occurrence = np.zeros((len(set(country_new)),len(set(country_new))))\n",
    "\n",
    "    for i in range(len(set(country_new))):\n",
    "        for j in range(len(set(country_new))):\n",
    "            if similarity == \"correlation\":\n",
    "                # Correlation\n",
    "                country_co_occurrence[i,j] = np.exp(np.corrcoef(country_topic_matrix[i,:],country_topic_matrix[j,:])[0,1])/np.exp(1)\n",
    "            elif similarity == \"cosine\":\n",
    "                #Cosine similarity:\n",
    "                country_co_occurrence[i,j] = country_topic_matrix[i,:]@country_topic_matrix[j,:]/(square_rooted(country_topic_matrix[i,:])*square_rooted(country_topic_matrix[j,:]))\n",
    "            elif similarity == \"euclidean\":\n",
    "                # Eucledean distance\n",
    "                country_co_occurrence[i,j] = np.linalg.norm(country_topic_matrix[i,:]-country_topic_matrix[j,:])\n",
    "    if similarity == \"euclidean\":\n",
    "        country_co_occurrence=1-(country_co_occurrence/np.max(country_co_occurrence))\n",
    "        \n",
    "    return country_co_occurrence\n",
    "\n",
    "country_co_occurrence = co_occurence(country_new,\"correlation\")\n",
    "np.shape(country_co_occurrence)"
   ]
  },
  {
   "cell_type": "code",
   "execution_count": null,
   "metadata": {},
   "outputs": [],
   "source": [
    "#Remove small islands\n",
    "\n",
    "for i in range(len(set(country_new))):\n",
    "    if country_new.count(countries_swap[i])<=20:\n",
    "        country_co_occurrence[i] =0\n",
    "        country_co_occurrence[:,i]=0"
   ]
  },
  {
   "cell_type": "code",
   "execution_count": null,
   "metadata": {},
   "outputs": [],
   "source": [
    "from networkx.algorithms.community import girvan_newman\n",
    "import networkx as nx\n",
    "import itertools\n",
    "import matplotlib.pyplot as plt\n",
    "countries_swap_copy = countries_swap.copy()\n",
    "\n",
    "G = nx.Graph()\n",
    "\n",
    "size = country_co_occurrence.shape[0]\n",
    "\n",
    "\n",
    "G.add_nodes_from(range(size))\n",
    "\n",
    "for i in range(size):\n",
    "        for j in range(i+1, size):\n",
    "            if country_co_occurrence[i, j] != 0.0:\n",
    "            #if country_co_ocurrence[i, j] > 0.002:\n",
    "                G.add_edge(i, j, weight=country_co_occurrence[i, j])\n",
    "# Remove small isalnds\n",
    "for i in range(size):\n",
    "    if np.sum(country_co_occurrence[i])==0:\n",
    "        G.remove_node(i)\n",
    "        countries_swap_copy.pop(i)\n",
    "\n",
    "#plt.figure(figsize=(20, 20))\n",
    "#nx.draw_networkx(G, labels=countries_swap_copy,with_labels=True)\n",
    "#nx.draw_spring(G, labels=countries_swap,with_labels=True)"
   ]
  },
  {
   "cell_type": "code",
   "execution_count": null,
   "metadata": {},
   "outputs": [],
   "source": [
    "from networkx.algorithms.community import louvain_communities\n",
    "resolution=np.arange(0.9,2.0,0.01)\n",
    "scores=np.zeros(len(resolution))\n",
    "j=0\n",
    "for res in resolution:\n",
    "    comms = louvain_communities(G,weight=\"weight\",resolution=res,seed=69)\n",
    "    unique_coms = np.unique(list(comms))\n",
    "    i=1\n",
    "    communities={}\n",
    "    for community in comms:\n",
    "        #print(\"c\",i)\n",
    "        com_countries = []\n",
    "        for c in community:\n",
    "            #print(countries_swap[c])\n",
    "            com_countries.append(c)\n",
    "        communities[i] = com_countries\n",
    "        i=i+1\n",
    "    for com in communities.values():\n",
    "        if len(com)==1:\n",
    "            scores[j]+=1\n",
    "        elif len(com)>=30:\n",
    "            scores[j]+=len(com)-29\n",
    "    j+=1"
   ]
  },
  {
   "cell_type": "code",
   "execution_count": null,
   "metadata": {},
   "outputs": [],
   "source": [
    "res_op=np.argmin(scores)\n",
    "comms = louvain_communities(G,weight=\"weight\",resolution=resolution[res_op],seed=69)\n",
    "unique_coms = np.unique(list(comms))\n",
    "i=1\n",
    "communities={}\n",
    "for community in comms:\n",
    "        print(\"c\",i)\n",
    "        com_countries = []\n",
    "        for c in community:\n",
    "            print(countries_swap[c])\n",
    "            com_countries.append(c)\n",
    "        communities[i] = com_countries\n",
    "        i=i+1"
   ]
  },
  {
   "cell_type": "code",
   "execution_count": null,
   "metadata": {},
   "outputs": [],
   "source": [
    "country_topic_matrix_prob =country_topic_matrix\n",
    "\n",
    "for i in range(np.shape(country_topic_matrix)[1]):\n",
    "    country_topic_matrix_prob[:,i] = country_topic_matrix_prob[:,i]/np.sum(country_topic_matrix_prob[:,1])\n",
    "i=1\n",
    "for com in communities.values():\n",
    "    topics_in_com=[]\n",
    "    if len(com)>1:\n",
    "        for c in com:\n",
    "            topics_in_com.append(np.argsort(country_topic_matrix_prob[c,:])[::-1][:30])\n",
    "        print(\"Topics i community\",i, \"er: \", set([x for x in np.concatenate(topics_in_com) if list(np.concatenate(topics_in_com)).count(x) >= 2*len(com)/3]))\n",
    "    i+=1"
   ]
  },
  {
   "cell_type": "markdown",
   "metadata": {},
   "source": [
    "## Compare communities to income"
   ]
  },
  {
   "cell_type": "code",
   "execution_count": null,
   "metadata": {},
   "outputs": [],
   "source": [
    "import pandas as pd\n",
    "#country data\n",
    "income = pd.read_excel(\"CLASS.xlsx\")\n",
    "print(income.keys())"
   ]
  },
  {
   "cell_type": "code",
   "execution_count": null,
   "metadata": {},
   "outputs": [],
   "source": [
    "\n",
    "income_countries = list(income[\"Economy\"])\n",
    "income_groups = list(income[\"Income group\"])\n",
    "income_listed_countries =[]\n",
    "countries_income_dic ={}\n",
    "for i in range(len(income_countries)):\n",
    "    for j in range(len(countries_swap)):\n",
    "        if income_countries[i] == countries_swap[j]:\n",
    "            income_listed_countries.append(j)\n",
    "            if income_groups[i] == \"Low income\":\n",
    "                countries_income_dic[j]= 0\n",
    "            elif income_groups[i] == \"Lower middle income\":\n",
    "                countries_income_dic[j]= 1\n",
    "            elif income_groups[i] == \"Upper middle income\":\n",
    "                countries_income_dic[j]= 2\n",
    "            elif income_groups[i] == \"High income\":\n",
    "                countries_income_dic[j]= 3\n",
    "missing_income_countries = []\n",
    "missing_income_countries_names=[]\n",
    "for i in countries_swap.keys():\n",
    "    if i not in income_listed_countries:\n",
    "        missing_income_countries.append(i)\n",
    "        missing_income_countries_names.append(countries_swap[i])\n"
   ]
  },
  {
   "cell_type": "code",
   "execution_count": null,
   "metadata": {},
   "outputs": [],
   "source": [
    "from fuzzywuzzy import process\n",
    "matches = []\n",
    "threshold = 90  # Adjust the threshold as per your needs\n",
    "\n",
    "for country1 in missing_income_countries_names:\n",
    "    best_match = process.extractOne(country1, income_countries)\n",
    "    if best_match[1] >= threshold:\n",
    "        matches.append((country1, best_match[0]))\n",
    "\n",
    "\n",
    "# Print the matches\n",
    "for match in matches:\n",
    "    print(\"Match:\", match[0], \"-\", match[1])\n",
    "\n",
    "print(len(matches))\n",
    "print(\"matches found\")"
   ]
  },
  {
   "cell_type": "code",
   "execution_count": null,
   "metadata": {},
   "outputs": [],
   "source": [
    "for i,j in matches:\n",
    "    if income_groups[income_countries.index(j)] == \"Low income\":\n",
    "        countries_income_dic[countries[i]]= 0\n",
    "    elif income_groups[income_countries.index(j)] == \"Lower middle income\":\n",
    "        countries_income_dic[countries[i]]= 1\n",
    "    elif income_groups[income_countries.index(j)] == \"Upper middle income\":\n",
    "        countries_income_dic[countries[i]]= 2\n",
    "    elif income_groups[income_countries.index(j)] == \"High income\":\n",
    "        countries_income_dic[countries[i]]= 3\n",
    "\n",
    "\n",
    "missing_income_countries = []\n",
    "missing_income_countries_names=[]\n",
    "for i in countries_swap.keys():\n",
    "    if i not in countries_income_dic.keys():\n",
    "        missing_income_countries.append(i)\n",
    "        missing_income_countries_names.append(countries_swap[i])"
   ]
  },
  {
   "cell_type": "code",
   "execution_count": null,
   "metadata": {},
   "outputs": [],
   "source": [
    "extra_countries = [('Saint Barthélemy (FRA)',3),('Kyrgyzstan',1),('Andean Community',2),('Palestine',1),('Iran (Islamic Republic of)',1),('Slovakia',3),('Saint Helena, Ascension and Tristan da Cunha (UK)',3),('Jersey  (UK)',3),('Montserrat (UK)',3),('European Union',3),(\"Democratic People's Republic of Korea\",0),('Falkland Islands (Malvinas)',3),\n",
    "('Anguilla (UK)',3),('Cook Islands',3),('Micronesia (Federated States of)',1),('Republic of Korea',3),('MERCOSUR',2),('Democratic Republic of the Congo',0),('Guernsey (UK)',3),('Saint Lucia',2),('Czechia',3),('Venezuela (Bolivarian Republic of)',2),('Pitcairn (UK)',3),(\"Lao People's Democratic Republic\",1)]\n",
    "\n",
    "\n",
    "for i,j in extra_countries:\n",
    "    countries_income_dic[countries[i]]= j"
   ]
  },
  {
   "cell_type": "code",
   "execution_count": null,
   "metadata": {},
   "outputs": [],
   "source": [
    "import matplotlib.pyplot as plt\n",
    "import matplotlib.patches as mpatches\n",
    "colors = ['b', 'g', 'r', 'c', 'm', 'y', 'k', 'n','b', 'g', 'r', 'c', 'm', 'y', 'k', 'n','b', 'g', 'r', 'c', 'm', 'y', 'k', 'n','b', 'g', 'r', 'c', 'm', 'y', 'k', 'w','b', 'g', 'r', 'c', 'm', 'y', 'k', 'w','b', 'g', 'r', 'c', 'm', 'y', 'k', 'w']\n",
    "plt.figure(figsize=(20, 10))\n",
    "for j in range(len(communities)):\n",
    "    for i in range(len(communities[j+1])):\n",
    "        if i == 0:\n",
    "            if countries_income_dic[communities[j+1][i]] == 0:\n",
    "                plt.bar(j+1, 2, color=\"#003f5c\",width=0.8,edgecolor=\"#000000\")\n",
    "            elif countries_income_dic[communities[j+1][i]] == 1:\n",
    "                plt.bar(j+1, 2, color=\"#7a5195\",width=0.8,edgecolor=\"#000000\")\n",
    "            elif countries_income_dic[communities[j+1][i]] == 2:\n",
    "                plt.bar(j+1, 2, color=\"#ef5675\",width=0.8,edgecolor=\"#000000\")\n",
    "            elif countries_income_dic[communities[j+1][i]] == 3:\n",
    "                plt.bar(j+1, 2, color=\"#ffa600\",width=0.8,edgecolor=\"#000000\")\n",
    "            h=2\n",
    "        else:\n",
    "            if countries_income_dic[communities[j+1][i]] == 0:\n",
    "                plt.bar(j+1, 2, bottom=h, color=\"#003f5c\",width=0.8,edgecolor=\"#000000\")\n",
    "            elif countries_income_dic[communities[j+1][i]] == 1:\n",
    "                plt.bar(j+1, 2, bottom=h, color=\"#7a5195\",width=0.8,edgecolor=\"#000000\")\n",
    "            elif countries_income_dic[communities[j+1][i]] == 2:\n",
    "                plt.bar(j+1, 2, bottom=h, color=\"#ef5675\",width=0.8,edgecolor=\"#000000\")\n",
    "            elif countries_income_dic[communities[j+1][i]] == 3:\n",
    "                plt.bar(j+1, 2, bottom=h, color=\"#ffa600\",width=0.8,edgecolor=\"#000000\")\n",
    "            h=h+2\n",
    "pop_a = mpatches.Patch(color='#003f5c', label=\"Low income\")\n",
    "pop_b = mpatches.Patch(color='#7a5195', label=\"Lower middle income\")\n",
    "pop_c = mpatches.Patch(color='#ef5675', label=\"Upper middle income\")\n",
    "pop_d = mpatches.Patch(color='#ffa600', label='High income')\n",
    "plt.legend(handles=[pop_a,pop_b,pop_c,pop_d])"
   ]
  },
  {
   "cell_type": "code",
   "execution_count": null,
   "metadata": {},
   "outputs": [],
   "source": [
    "for c in communities[29]:\n",
    "    print(countries_swap[c],countries_income_dic[c])"
   ]
  },
  {
   "cell_type": "code",
   "execution_count": null,
   "metadata": {},
   "outputs": [],
   "source": [
    "print(\"Number of countries in different income groups + proportion\")\n",
    "print(\"Low: \",income_groups.count(\"Low income\"),income_groups.count(\"Low income\")/len(income_groups))\n",
    "low_p = income_groups.count(\"Low income\")/len(income_groups)\n",
    "print(\"Lower middle: \",income_groups.count(\"Lower middle income\"),income_groups.count(\"Lower middle income\")/len(income_groups))\n",
    "lowermiddle_p = income_groups.count(\"Lower middle income\")/len(income_groups)\n",
    "print(\"Upper middle: \",income_groups.count(\"Upper middle income\"),income_groups.count(\"Upper middle income\")/len(income_groups))\n",
    "uppermiddle_p = income_groups.count(\"Upper middle income\")/len(income_groups)\n",
    "print(\"High: \",income_groups.count(\"High income\"),income_groups.count(\"High income\")/len(income_groups))\n",
    "high_p = income_groups.count(\"High income\")/len(income_groups)"
   ]
  },
  {
   "cell_type": "markdown",
   "metadata": {},
   "source": [
    "# Governance"
   ]
  },
  {
   "cell_type": "code",
   "execution_count": null,
   "metadata": {},
   "outputs": [],
   "source": [
    "#country governance data\n",
    "governance = pd.read_excel(\"governence data update.xlsx\")\n",
    "print(governance.keys())\n",
    "governance_country = []\n",
    "categorized_governance = []\n",
    "\n",
    "for est,c in zip(governance[\"Estimate\"],governance[\"Country/Territory\"]):\n",
    "    if est >=1:\n",
    "        categorized_governance.append(3)\n",
    "        governance_country.append(c)\n",
    "    elif est>=0 and est<1:\n",
    "        categorized_governance.append(2)\n",
    "        governance_country.append(c)\n",
    "    elif est>-1 and est<0:\n",
    "        categorized_governance.append(1)\n",
    "        governance_country.append(c)\n",
    "    elif est<=-1:\n",
    "        categorized_governance.append(0)\n",
    "        governance_country.append(c)"
   ]
  },
  {
   "cell_type": "code",
   "execution_count": null,
   "metadata": {},
   "outputs": [],
   "source": [
    "#income_countries = list(income[\"Economy\"])\n",
    "#income_groups = list(income[\"Income group\"])\n",
    "governance_listed_countries =[]\n",
    "governance_dic={}\n",
    "for i in range(len(governance_country)):\n",
    "    for j in range(len(countries_swap)):\n",
    "        if governance_country[i] == countries_swap[j]:\n",
    "            governance_listed_countries.append(j)\n",
    "            governance_dic[j]=categorized_governance[i]\n",
    "missing_gov_countries = []\n",
    "missing_gov_countries_names=[]\n",
    "for i in countries_swap.keys():\n",
    "    if i not in governance_listed_countries:\n",
    "        missing_gov_countries.append(i)\n",
    "        missing_gov_countries_names.append(countries_swap[i])"
   ]
  },
  {
   "cell_type": "code",
   "execution_count": null,
   "metadata": {},
   "outputs": [],
   "source": [
    "from fuzzywuzzy import process\n",
    "matches = []\n",
    "threshold = 90  # Adjust the threshold as per your needs\n",
    "\n",
    "for country1 in missing_gov_countries_names:\n",
    "    best_match = process.extractOne(country1, governance_country)\n",
    "    if best_match[1] >= threshold:\n",
    "        matches.append((country1, best_match[0]))\n",
    "\n",
    "\n",
    "# Print the matches\n",
    "for match in matches:\n",
    "    print(\"Match:\", match[0], \"-\", match[1])\n",
    "\n",
    "print(len(matches))\n",
    "print(\"matches found\")"
   ]
  },
  {
   "cell_type": "code",
   "execution_count": null,
   "metadata": {},
   "outputs": [],
   "source": [
    "for i,j in matches:\n",
    "    governance_dic[countries[i]]=categorized_governance[governance_country.index(j)]\n",
    "\n",
    "missing_gov_countries = []\n",
    "missing_gov_countries_names=[]\n",
    "for i in countries_swap.keys():\n",
    "    if i not in governance_dic.keys():\n",
    "        missing_gov_countries.append(i)\n",
    "        missing_gov_countries_names.append(countries_swap[i])"
   ]
  },
  {
   "cell_type": "code",
   "execution_count": null,
   "metadata": {},
   "outputs": [],
   "source": [
    "# Extra countries, 5 = Nan\n",
    "extra_countries = [('Saint Barthélemy (FRA)',5),(\"Isle of Man (UK)\",5),('Kyrgyzstan',1),('Andean Community',5),('Palestine',0),('Iran (Islamic Republic of)',0),('Slovakia',2),(\"Curaçao\",5),('Saint Helena, Ascension and Tristan da Cunha (UK)',5),('Jersey  (UK)',3),('Montserrat (UK)',3),(\"Bermuda (UK)\",5),(\"Cabo Verde\",5),('European Union',5),(\"Democratic People's Republic of Korea\",0),('Falkland Islands (Malvinas)',5),\n",
    "('Anguilla (UK)',5),('Cook Islands',3),('Micronesia (Federated States of)',3),('Republic of Korea',2),(\"Northern Mariana Islands (USA)\",3),('MERCOSUR',5),(\"British Virgin Islands (UK)\",5),('Democratic Republic of the Congo',0),('Guernsey (UK)',3),('Saint Lucia',2),('Czechia',3),('Venezuela (Bolivarian Republic of)',0),('Pitcairn (UK)',3),(\"Lao People's Democratic Republic\",0),(\"Turks and Caicos Islands (UK)\",5),(\"Gibraltar (UK)\",5),\n",
    "(\"Taiwan Province of China\",3),(\"South Georgia and the South Sandwich Islands (UK)\",5)]\n",
    "\n",
    "\n",
    "for i,j in extra_countries:\n",
    "    governance_dic[countries[i]]= j"
   ]
  },
  {
   "cell_type": "code",
   "execution_count": null,
   "metadata": {},
   "outputs": [],
   "source": [
    "plt.figure(figsize=(20, 10))\n",
    "for j in range(len(communities)):\n",
    "    for i in range(len(communities[j+1])):\n",
    "        if i == 0:\n",
    "            if governance_dic[communities[j+1][i]] == 0:\n",
    "                plt.bar(j+1, 2, color=\"#003f5c\",width=0.8,edgecolor=\"#000000\")\n",
    "            elif governance_dic[communities[j+1][i]] == 1:\n",
    "                plt.bar(j+1, 2, color=\"#7a5195\",width=0.8,edgecolor=\"#000000\")\n",
    "            elif governance_dic[communities[j+1][i]] == 2:\n",
    "                plt.bar(j+1, 2, color=\"#ef5675\",width=0.8,edgecolor=\"#000000\")\n",
    "            elif governance_dic[communities[j+1][i]] == 3:\n",
    "                plt.bar(j+1, 2, color=\"#ffa600\",width=0.8,edgecolor=\"#000000\")\n",
    "            elif governance_dic[communities[j+1][i]] == 5:\n",
    "                plt.bar(j+1, 2, color=\"#808080\",width=0.8,edgecolor=\"#000000\")\n",
    "            h=2\n",
    "        else:\n",
    "            if governance_dic[communities[j+1][i]] == 0:\n",
    "                plt.bar(j+1, 2, bottom=h, color=\"#003f5c\",width=0.8,edgecolor=\"#000000\")\n",
    "            elif governance_dic[communities[j+1][i]] == 1:\n",
    "                plt.bar(j+1, 2, bottom=h, color=\"#7a5195\",width=0.8,edgecolor=\"#000000\")\n",
    "            elif governance_dic[communities[j+1][i]] == 2:\n",
    "                plt.bar(j+1, 2, bottom=h, color=\"#ef5675\",width=0.8,edgecolor=\"#000000\")\n",
    "            elif governance_dic[communities[j+1][i]] == 3:\n",
    "                plt.bar(j+1, 2, bottom=h, color=\"#ffa600\",width=0.8,edgecolor=\"#000000\")\n",
    "            elif governance_dic[communities[j+1][i]] == 5:\n",
    "                plt.bar(j+1, 2, bottom=h, color=\"#808080\",width=0.8,edgecolor=\"#000000\")\n",
    "            h=h+2\n",
    "pop_a = mpatches.Patch(color='#003f5c', label=\"Weak Government Effectiveness\")\n",
    "pop_b = mpatches.Patch(color='#7a5195', label=\"Lower Middle Government Effectiveness\")\n",
    "pop_c = mpatches.Patch(color='#ef5675', label=\"Upper Middle Government Effectiveness\")\n",
    "pop_d = mpatches.Patch(color='#ffa600', label='Strong Government Effectiveness')\n",
    "pop_e = mpatches.Patch(color='#808080', label='No data')\n",
    "plt.legend(handles=[pop_a,pop_b,pop_c,pop_d,pop_e])"
   ]
  },
  {
   "cell_type": "code",
   "execution_count": null,
   "metadata": {},
   "outputs": [],
   "source": [
    "for c in communities[26]:\n",
    "    print(countries_swap[c],governance_dic[c])"
   ]
  },
  {
   "cell_type": "code",
   "execution_count": null,
   "metadata": {},
   "outputs": [],
   "source": [
    "print(\"Number of countries in different government effectiveness classes + proportion\")\n",
    "low_p = list(governance_dic.values()).count(0)/len(income_groups)\n",
    "print(\"Low: \",list(governance_dic.values()).count(0),low_p)\n",
    "lowermiddle_p = list(governance_dic.values()).count(1)/len(income_groups)\n",
    "print(\"Lower middle: \",list(governance_dic.values()).count(1),lowermiddle_p)\n",
    "uppermiddle_p = list(governance_dic.values()).count(2)/len(income_groups)\n",
    "print(\"Upper middle: \",list(governance_dic.values()).count(2),uppermiddle_p)\n",
    "high_p = list(governance_dic.values()).count(3)/len(income_groups)\n",
    "print(\"High: \",list(governance_dic.values()).count(3),high_p)\n"
   ]
  },
  {
   "cell_type": "markdown",
   "metadata": {},
   "source": [
    "# Temperature"
   ]
  },
  {
   "cell_type": "code",
   "execution_count": null,
   "metadata": {},
   "outputs": [],
   "source": [
    "#country governance data\n",
    "temperature = pd.read_excel(\"hottest-countries-in-the-world-2023.xlsx\")\n",
    "print(temperature.keys())\n",
    "temperature_country = list(temperature[\"country\"])\n",
    "temp = list(temperature[\"averageTemperature\"])\n"
   ]
  },
  {
   "cell_type": "code",
   "execution_count": null,
   "metadata": {},
   "outputs": [],
   "source": [
    "for i in range(len(temp)):\n",
    "    if temp[i]<=5:\n",
    "        temp[i]=0\n",
    "    elif temp[i]> 5 and temp[i]<=14:\n",
    "        temp[i]=1\n",
    "    elif temp[i]>14 and temp[i]<=23:\n",
    "        temp[i]=2\n",
    "    elif temp[i] >23:\n",
    "        temp[i]=3"
   ]
  },
  {
   "cell_type": "code",
   "execution_count": null,
   "metadata": {},
   "outputs": [],
   "source": [
    "temp_listed_countries =[]\n",
    "temp_dic={}\n",
    "for i in range(len(temperature_country)):\n",
    "    for j in range(len(countries_swap)):\n",
    "        if temperature_country[i] == countries_swap[j]:\n",
    "            temp_listed_countries.append(j)\n",
    "            temp_dic[j]=temp[i]\n",
    "missing_temp_countries = []\n",
    "missing_temp_countries_names=[]\n",
    "for i in countries_swap.keys():\n",
    "    if i not in temp_listed_countries:\n",
    "        missing_temp_countries.append(i)\n",
    "        missing_temp_countries_names.append(countries_swap[i])"
   ]
  },
  {
   "cell_type": "code",
   "execution_count": null,
   "metadata": {},
   "outputs": [],
   "source": [
    "for c in countries_swap.keys():\n",
    "    if c not in temp_dic.keys():\n",
    "        temp_dic[c] = \"NaN\""
   ]
  },
  {
   "cell_type": "code",
   "execution_count": null,
   "metadata": {},
   "outputs": [],
   "source": [
    "plt.figure(figsize=(20, 10))\n",
    "for j in range(len(communities)):\n",
    "    for i in range(len(communities[j+1])):\n",
    "        if i == 0:\n",
    "            if temp_dic[communities[j+1][i]] == 0:\n",
    "                plt.bar(j+1, 2, color=\"#003f5c\",width=0.8,edgecolor=\"#000000\")\n",
    "            elif temp_dic[communities[j+1][i]] == 1:\n",
    "                plt.bar(j+1, 2, color=\"#7a5195\",width=0.8,edgecolor=\"#000000\")\n",
    "            elif temp_dic[communities[j+1][i]] == 2:\n",
    "                plt.bar(j+1, 2, color=\"#ef5675\",width=0.8,edgecolor=\"#000000\")\n",
    "            elif temp_dic[communities[j+1][i]] == 3:\n",
    "                plt.bar(j+1, 2, color=\"#ffa600\",width=0.8,edgecolor=\"#000000\")\n",
    "            elif temp_dic[communities[j+1][i]] == \"NaN\":\n",
    "                plt.bar(j+1, 2, color=\"#808080\",width=0.8,edgecolor=\"#000000\")\n",
    "            h=2\n",
    "        else:\n",
    "            if temp_dic[communities[j+1][i]] == 0:\n",
    "                plt.bar(j+1, 2, bottom=h, color=\"#003f5c\",width=0.8,edgecolor=\"#000000\")\n",
    "            elif temp_dic[communities[j+1][i]] == 1:\n",
    "                plt.bar(j+1, 2, bottom=h, color=\"#7a5195\",width=0.8,edgecolor=\"#000000\")\n",
    "            elif temp_dic[communities[j+1][i]] == 2:\n",
    "                plt.bar(j+1, 2, bottom=h, color=\"#ef5675\",width=0.8,edgecolor=\"#000000\")\n",
    "            elif temp_dic[communities[j+1][i]] == 3:\n",
    "                plt.bar(j+1, 2, bottom=h, color=\"#ffa600\",width=0.8,edgecolor=\"#000000\")\n",
    "            elif temp_dic[communities[j+1][i]] == \"NaN\":\n",
    "                plt.bar(j+1, 2, bottom=h, color=\"#808080\",width=0.8,edgecolor=\"#000000\")\n",
    "            h=h+2\n",
    "pop_a = mpatches.Patch(color='#003f5c', label=\"Low temperature\")\n",
    "pop_b = mpatches.Patch(color='#7a5195', label=\"Lower Middle Temperature\")\n",
    "pop_c = mpatches.Patch(color='#ef5675', label=\"Upper Middle Temperature\")\n",
    "pop_d = mpatches.Patch(color='#ffa600', label='High Temperature')\n",
    "pop_e = mpatches.Patch(color='#808080', label='No data')\n",
    "plt.legend(handles=[pop_a,pop_b,pop_c,pop_d,pop_e])"
   ]
  },
  {
   "cell_type": "code",
   "execution_count": null,
   "metadata": {},
   "outputs": [],
   "source": [
    "for c in communities[12]:\n",
    "    print(countries_swap[c],temp_dic[c])"
   ]
  },
  {
   "cell_type": "code",
   "execution_count": null,
   "metadata": {},
   "outputs": [],
   "source": [
    "print(\"Number of countries in different temperature classes + proportion\")\n",
    "low_p = list(temp_dic.values()).count(0)/len(temp)\n",
    "print(\"Low: \",list(temp_dic.values()).count(0),low_p)\n",
    "lowermiddle_p = list(temp_dic.values()).count(1)/len(temp)\n",
    "print(\"Lower middle: \",list(temp_dic.values()).count(1),lowermiddle_p)\n",
    "uppermiddle_p = list(temp_dic.values()).count(2)/len(temp)\n",
    "print(\"Upper middle: \",list(temp_dic.values()).count(2),uppermiddle_p)\n",
    "high_p = list(temp_dic.values()).count(3)/len(temp)\n",
    "print(\"High: \",list(temp_dic.values()).count(3),high_p)"
   ]
  }
 ],
 "metadata": {
  "kernelspec": {
   "display_name": "Python 3.9.16 ('base')",
   "language": "python",
   "name": "python3"
  },
  "language_info": {
   "name": "python",
   "version": "3.9.16"
  },
  "orig_nbformat": 4,
  "vscode": {
   "interpreter": {
    "hash": "2d6823c3c2b982c4c23d5cf67b2c8c8d3aa4d88d1118d558bbf6c63cb31594e2"
   }
  }
 },
 "nbformat": 4,
 "nbformat_minor": 2
}
