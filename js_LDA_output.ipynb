c 1
Puerto Rico (USA)
Paraguay
c 2
Cayman Islands (UK)
Bahamas
Guam (USA)
Jamaica
Micronesia (Federated States of)
Lithuania
Montserrat (UK)
American Samoa (USA)
Singapore
Turks and Caicos Islands (UK)
Mauritius
Zanzibar (United Republic of Tanzania)
Namibia
Guyana
Dominica
Norfolk Island (Australia)
Bahrain
Bermuda (UK)
Barbados
Vanuatu
Samoa
Northern Mariana Islands (USA)
Antigua and Barbuda
Fiji
c 3
Malawi
Zimbabwe
Eswatini
Botswana
Kenya
c 4
South Africa
Saint Helena, Ascension and Tristan da Cunha (UK)
c 5
Eritrea
Taiwan Province of China
China
Thailand
c 6
Seychelles
c 7
Madeira Islands (Portugal)
Ecuador
Israel
Brazil
Dominican Republic
China, Macao SAR
Brunei Darussalam
Pakistan
Nicaragua
Peru
Honduras
Denmark
El Salvador
Cabo Verde
Mozambique
Panama
Philippines
Angola
Cuba
Timor-Leste
Colombia
Costa Rica
Serbia
Venezuela (Bolivarian Republic of)
c 8
Mexico
Oman
c 9
Gibraltar (UK)
French Polynesia (France)
Finland
Andean Community
North Macedonia
Cyprus
San Marino
Netherlands (Kingdom of the)
Spain
Egypt
Belgium
Czechia
Türkiye
Greece
Luxembourg
Monaco
Romania
European Union
France
Iceland
United Kingdom of Great Britain and Northern Ireland
Austria
Argentina
Aruba (Netherlands)
Italy
Malta
MERCOSUR
Ireland
Jersey  (UK)
Slovenia
Poland
Slovakia
United Arab Emirates
Lebanon
Montenegro
Sweden
Bosnia and Herzegovina
Uruguay
Guernsey (UK)
Syrian Arab Republic
c 10
United Republic of Tanzania
c 11
Côte d'Ivoire
Cameroon
Sri Lanka
Suriname
Viet Nam
Russian Federation
Gabon
Lao People's Democratic Republic
Comoros
Congo
Indonesia
Arunachal Pradesh (India)
Democratic Republic of the Congo
Equatorial Guinea
Solomon Islands
Cambodia
Bhutan
Togo
Haiti
Liberia
Jammu and Kashmir (India)
Guatemala
Zambia
French Guiana (France)
Central African Republic
c 12
Trinidad and Tobago
Belize
c 13
Myanmar
Malaysia
c 14
Norway
Netherlands Antilles (Netherlands)
Faroe Islands (Denmark)
Guinea-Bissau
British Virgin Islands (UK)
Saint Pierre and Miquelon (France)
Jan Mayen (Norway)
Palau
Réunion (France)
Tokelau (New Zealand)
Yemen
Marshall Islands
Chile
New Zealand
Isle of Man (UK)
Mauritania
Maldives
Kuwait
Kiribati
Cook Islands
Niue (New Zealand)
Svalbard (Norway)
Greenland (Denmark)
Pitcairn (UK)
Tonga
Guinea
Papua New Guinea
Nauru
Tuvalu
c 15
Bangladesh
Nepal
Uganda
Lesotho
Ghana
c 16
India
c 17
Republic of Moldova
Mongolia
Azerbaijan
Uzbekistan
Kyrgyzstan
Armenia
Belarus
Kazakhstan
Tajikistan
Turkmenistan
Ukraine
c 18
Algeria
Senegal
c 19
Japan
Democratic People's Republic of Korea
Gambia
c 20
Madagascar
c 21
Nigeria
Croatia
Bulgaria
Hungary
c 22
Estonia
Germany
China, Hong Kong SAR
Republic of Korea
Liechtenstein
Andorra
Switzerland
c 23
Mali
Benin
Ethiopia
South Sudan
Afghanistan
Tunisia
Burundi
Djibouti
Bolivia (Plurinational State of)
Niger
Burkina Faso
Rwanda
c 24
Morocco
Portugal
c 25
Georgia
Latvia
c 26
Saudi Arabia
Iran (Islamic Republic of)
Iraq
Jordan
Sudan
Qatar
United States of America
Libya
Palestine
Somalia
c 27
Martinique (France)
New Caledonia (France)
Mayotte (France)
Guadeloupe (France)
Chad
c 28
Albania
Australia
Canada
c 29
Saint Kitts and Nevis
c 30
Grenada
Saint Vincent and the Grenadines
Saint Lucia
c 31
Sao Tome and Principe
Sierra Leone
